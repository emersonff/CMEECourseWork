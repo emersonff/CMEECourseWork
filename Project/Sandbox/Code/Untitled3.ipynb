{
 "cells": [
  {
   "cell_type": "code",
   "execution_count": 1,
   "metadata": {},
   "outputs": [],
   "source": [
    "import sys\n",
    "import pandas as pd #'1.0.4'\n",
    "import scipy as sc\n",
    "import numpy as np\n",
    "import scipy.integrate as integrate\n",
    "import matplotlib.pylab as pl\n",
    "import re\n",
    "import shutil"
   ]
  },
  {
   "cell_type": "code",
   "execution_count": 2,
   "metadata": {
    "scrolled": true
   },
   "outputs": [
    {
     "name": "stderr",
     "output_type": "stream",
     "text": [
      "/home/xiang/anaconda3/lib/python3.7/site-packages/IPython/core/interactiveshell.py:3049: DtypeWarning: Columns (13,15) have mixed types.Specify dtype option on import or set low_memory=False.\n",
      "  interactivity=interactivity, compiler=compiler, result=result)\n"
     ]
    }
   ],
   "source": [
    "d = pd.read_csv(\"../Data/Final_Data.csv\")"
   ]
  },
  {
   "cell_type": "code",
   "execution_count": 3,
   "metadata": {
    "scrolled": true
   },
   "outputs": [
    {
     "data": {
      "text/plain": [
       "0           100_HH_11_5_18100_BTCF_T/IMG_0001.JPG\n",
       "1           100_HH_11_5_18100_BTCF_T/IMG_0002.JPG\n",
       "2           100_HH_11_5_18100_BTCF_T/IMG_0003.JPG\n",
       "3           100_HH_11_5_18100_BTCF_T/IMG_0004.JPG\n",
       "4           100_HH_11_5_18100_BTCF_T/IMG_0005.JPG\n",
       "                           ...                   \n",
       "418740    9_HH_26_4_18/DCIM/101RECNX/IMG_0931.JPG\n",
       "418741    9_HH_26_4_18/DCIM/101RECNX/IMG_0932.JPG\n",
       "418742    9_HH_26_4_18/DCIM/101RECNX/IMG_0933.JPG\n",
       "418743    9_HH_26_4_18/DCIM/101RECNX/IMG_0934.JPG\n",
       "418744    9_HH_26_4_18/DCIM/101RECNX/IMG_0935.JPG\n",
       "Name: SourceFile, Length: 418745, dtype: object"
      ]
     },
     "execution_count": 3,
     "metadata": {},
     "output_type": "execute_result"
    }
   ],
   "source": [
    "d.SourceFile"
   ]
  },
  {
   "cell_type": "code",
   "execution_count": null,
   "metadata": {},
   "outputs": [],
   "source": []
  }
 ],
 "metadata": {
  "kernelspec": {
   "display_name": "Python 3",
   "language": "python",
   "name": "python3"
  },
  "language_info": {
   "codemirror_mode": {
    "name": "ipython",
    "version": 3
   },
   "file_extension": ".py",
   "mimetype": "text/x-python",
   "name": "python",
   "nbconvert_exporter": "python",
   "pygments_lexer": "ipython3",
   "version": "3.7.3"
  }
 },
 "nbformat": 4,
 "nbformat_minor": 2
}
