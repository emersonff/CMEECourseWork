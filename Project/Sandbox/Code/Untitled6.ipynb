{
 "cells": [
  {
   "cell_type": "code",
   "execution_count": 1,
   "metadata": {},
   "outputs": [],
   "source": [
    "import sys\n",
    "import pandas as pd #'1.0.4'\n",
    "import scipy as sc\n",
    "import numpy as np\n",
    "import re\n",
    "import shutil\n",
    "from datetime import datetime\n",
    "#get first image of every squence"
   ]
  },
  {
   "cell_type": "code",
   "execution_count": 2,
   "metadata": {},
   "outputs": [],
   "source": [
    "int_low = 7#time interval\n",
    "int_up = 19\n",
    "seq_interval = 45 #every 45 seconds"
   ]
  },
  {
   "cell_type": "code",
   "execution_count": 3,
   "metadata": {},
   "outputs": [],
   "source": [
    "d = pd.read_csv(\"../Data/SkeletonCount.csv\")\n",
    "d.insert(0, \"Folder\", d.SourceFile.str.extract(r'(\\d+_.*)IMG'))\n",
    "d.insert(1, \"ImageId\", d.SourceFile.str.extract(r'IMG_(\\d*).JPG'))"
   ]
  },
  {
   "cell_type": "code",
   "execution_count": 4,
   "metadata": {},
   "outputs": [],
   "source": [
    "d = d.loc[(d[\"h\"] >= 7) & (d[\"h\"] <= 19)]"
   ]
  },
  {
   "cell_type": "code",
   "execution_count": 5,
   "metadata": {
    "scrolled": true
   },
   "outputs": [
    {
     "data": {
      "text/html": [
       "<div>\n",
       "<style scoped>\n",
       "    .dataframe tbody tr th:only-of-type {\n",
       "        vertical-align: middle;\n",
       "    }\n",
       "\n",
       "    .dataframe tbody tr th {\n",
       "        vertical-align: top;\n",
       "    }\n",
       "\n",
       "    .dataframe thead th {\n",
       "        text-align: right;\n",
       "    }\n",
       "</style>\n",
       "<table border=\"1\" class=\"dataframe\">\n",
       "  <thead>\n",
       "    <tr style=\"text-align: right;\">\n",
       "      <th></th>\n",
       "      <th>Folder</th>\n",
       "      <th>ImageId</th>\n",
       "      <th>SourceFile</th>\n",
       "      <th>Count</th>\n",
       "      <th>CreateDate</th>\n",
       "      <th>h</th>\n",
       "      <th>placeID</th>\n",
       "    </tr>\n",
       "  </thead>\n",
       "  <tbody>\n",
       "    <tr>\n",
       "      <th>0</th>\n",
       "      <td>6_HH_1_5_18_DCIM/100RECNX/</td>\n",
       "      <td>3428</td>\n",
       "      <td>6_HH_1_5_18_DCIM/100RECNX/IMG_3428.JPG</td>\n",
       "      <td>2</td>\n",
       "      <td>2018:04:25 16:33:55</td>\n",
       "      <td>16.0</td>\n",
       "      <td>6</td>\n",
       "    </tr>\n",
       "    <tr>\n",
       "      <th>1</th>\n",
       "      <td>97_HH_15_06_18/102RECNX/</td>\n",
       "      <td>2673</td>\n",
       "      <td>97_HH_15_06_18/102RECNX/IMG_2673.JPG</td>\n",
       "      <td>1</td>\n",
       "      <td>2018:06:14 13:45:09</td>\n",
       "      <td>13.0</td>\n",
       "      <td>97</td>\n",
       "    </tr>\n",
       "    <tr>\n",
       "      <th>2</th>\n",
       "      <td>96_HH_15_06_18/100RECNX/</td>\n",
       "      <td>0672</td>\n",
       "      <td>96_HH_15_06_18/100RECNX/IMG_0672.JPG</td>\n",
       "      <td>1</td>\n",
       "      <td>2018:06:05 17:29:25</td>\n",
       "      <td>17.0</td>\n",
       "      <td>96</td>\n",
       "    </tr>\n",
       "    <tr>\n",
       "      <th>3</th>\n",
       "      <td>34_HH_1_6_18/100_BTCF/</td>\n",
       "      <td>2135</td>\n",
       "      <td>34_HH_1_6_18/100_BTCF/IMG_2135.JPG</td>\n",
       "      <td>1</td>\n",
       "      <td>2018:05:18 15:44:49</td>\n",
       "      <td>15.0</td>\n",
       "      <td>34</td>\n",
       "    </tr>\n",
       "    <tr>\n",
       "      <th>4</th>\n",
       "      <td>97_HH_15_06_18/100RECNX/</td>\n",
       "      <td>6217</td>\n",
       "      <td>97_HH_15_06_18/100RECNX/IMG_6217.JPG</td>\n",
       "      <td>1</td>\n",
       "      <td>2018:06:08 10:28:05</td>\n",
       "      <td>10.0</td>\n",
       "      <td>97</td>\n",
       "    </tr>\n",
       "    <tr>\n",
       "      <th>...</th>\n",
       "      <td>...</td>\n",
       "      <td>...</td>\n",
       "      <td>...</td>\n",
       "      <td>...</td>\n",
       "      <td>...</td>\n",
       "      <td>...</td>\n",
       "      <td>...</td>\n",
       "    </tr>\n",
       "    <tr>\n",
       "      <th>70949</th>\n",
       "      <td>74_HH_2_5_18_BTCF/</td>\n",
       "      <td>1556</td>\n",
       "      <td>74_HH_2_5_18_BTCF/IMG_1556.JPG</td>\n",
       "      <td>1</td>\n",
       "      <td>2018:04:23 13:34:22</td>\n",
       "      <td>13.0</td>\n",
       "      <td>74</td>\n",
       "    </tr>\n",
       "    <tr>\n",
       "      <th>70950</th>\n",
       "      <td>35_HH_1_6_18/100_BTCF/</td>\n",
       "      <td>3683</td>\n",
       "      <td>35_HH_1_6_18/100_BTCF/IMG_3683.JPG</td>\n",
       "      <td>1</td>\n",
       "      <td>2018:05:19 18:56:13</td>\n",
       "      <td>18.0</td>\n",
       "      <td>35</td>\n",
       "    </tr>\n",
       "    <tr>\n",
       "      <th>70951</th>\n",
       "      <td>65_HH_23_5_18/</td>\n",
       "      <td>6429</td>\n",
       "      <td>65_HH_23_5_18/IMG_6429.JPG</td>\n",
       "      <td>2</td>\n",
       "      <td>2018:05:20  16:45:18</td>\n",
       "      <td>16.0</td>\n",
       "      <td>65</td>\n",
       "    </tr>\n",
       "    <tr>\n",
       "      <th>70952</th>\n",
       "      <td>5_HH_23_4_18_DCIM/100RECNX/</td>\n",
       "      <td>3748</td>\n",
       "      <td>5_HH_23_4_18_DCIM/100RECNX/IMG_3748.JPG</td>\n",
       "      <td>1</td>\n",
       "      <td>2018:04:23 09:59:51</td>\n",
       "      <td>9.0</td>\n",
       "      <td>5</td>\n",
       "    </tr>\n",
       "    <tr>\n",
       "      <th>70953</th>\n",
       "      <td>97_HH_15_06_18/101RECNX/</td>\n",
       "      <td>2502</td>\n",
       "      <td>97_HH_15_06_18/101RECNX/IMG_2502.JPG</td>\n",
       "      <td>1</td>\n",
       "      <td>2018:06:10 11:31:13</td>\n",
       "      <td>11.0</td>\n",
       "      <td>97</td>\n",
       "    </tr>\n",
       "  </tbody>\n",
       "</table>\n",
       "<p>65263 rows × 7 columns</p>\n",
       "</div>"
      ],
      "text/plain": [
       "                            Folder ImageId  \\\n",
       "0       6_HH_1_5_18_DCIM/100RECNX/    3428   \n",
       "1         97_HH_15_06_18/102RECNX/    2673   \n",
       "2         96_HH_15_06_18/100RECNX/    0672   \n",
       "3           34_HH_1_6_18/100_BTCF/    2135   \n",
       "4         97_HH_15_06_18/100RECNX/    6217   \n",
       "...                            ...     ...   \n",
       "70949           74_HH_2_5_18_BTCF/    1556   \n",
       "70950       35_HH_1_6_18/100_BTCF/    3683   \n",
       "70951               65_HH_23_5_18/    6429   \n",
       "70952  5_HH_23_4_18_DCIM/100RECNX/    3748   \n",
       "70953     97_HH_15_06_18/101RECNX/    2502   \n",
       "\n",
       "                                    SourceFile  Count            CreateDate  \\\n",
       "0       6_HH_1_5_18_DCIM/100RECNX/IMG_3428.JPG      2   2018:04:25 16:33:55   \n",
       "1         97_HH_15_06_18/102RECNX/IMG_2673.JPG      1   2018:06:14 13:45:09   \n",
       "2         96_HH_15_06_18/100RECNX/IMG_0672.JPG      1   2018:06:05 17:29:25   \n",
       "3           34_HH_1_6_18/100_BTCF/IMG_2135.JPG      1   2018:05:18 15:44:49   \n",
       "4         97_HH_15_06_18/100RECNX/IMG_6217.JPG      1   2018:06:08 10:28:05   \n",
       "...                                        ...    ...                   ...   \n",
       "70949           74_HH_2_5_18_BTCF/IMG_1556.JPG      1   2018:04:23 13:34:22   \n",
       "70950       35_HH_1_6_18/100_BTCF/IMG_3683.JPG      1   2018:05:19 18:56:13   \n",
       "70951               65_HH_23_5_18/IMG_6429.JPG      2  2018:05:20  16:45:18   \n",
       "70952  5_HH_23_4_18_DCIM/100RECNX/IMG_3748.JPG      1   2018:04:23 09:59:51   \n",
       "70953     97_HH_15_06_18/101RECNX/IMG_2502.JPG      1   2018:06:10 11:31:13   \n",
       "\n",
       "          h  placeID  \n",
       "0      16.0        6  \n",
       "1      13.0       97  \n",
       "2      17.0       96  \n",
       "3      15.0       34  \n",
       "4      10.0       97  \n",
       "...     ...      ...  \n",
       "70949  13.0       74  \n",
       "70950  18.0       35  \n",
       "70951  16.0       65  \n",
       "70952   9.0        5  \n",
       "70953  11.0       97  \n",
       "\n",
       "[65263 rows x 7 columns]"
      ]
     },
     "execution_count": 5,
     "metadata": {},
     "output_type": "execute_result"
    }
   ],
   "source": [
    "d"
   ]
  },
  {
   "cell_type": "code",
   "execution_count": null,
   "metadata": {},
   "outputs": [],
   "source": [
    "f = d[\"Folder\"].unique()[0]\n",
    "f"
   ]
  },
  {
   "cell_type": "code",
   "execution_count": null,
   "metadata": {
    "scrolled": true
   },
   "outputs": [],
   "source": [
    "subd = d.loc[d[\"Folder\"] == f].sort_values(by=['ImageId']).reset_index().drop(columns =[\"index\"])\n",
    "subd"
   ]
  },
  {
   "cell_type": "code",
   "execution_count": null,
   "metadata": {},
   "outputs": [],
   "source": [
    "image_list = []\n",
    "#subd.loc[i][\"CreateDate\"]\n",
    "len(subd)"
   ]
  },
  {
   "cell_type": "code",
   "execution_count": null,
   "metadata": {},
   "outputs": [],
   "source": [
    "i = 0\n",
    "#current = subd.loc[0][\"SourceFile\"]\n",
    "#image_list.append(current)\n",
    "while i < len(subd):\n",
    "    current = subd.loc[i][\"SourceFile\"]\n",
    "    image_list.append(current)\n",
    "    t1 = datetime.strptime(subd.loc[i][\"CreateDate\"], '%Y:%m:%d %H:%M:%S')\n",
    "    j = i + 1\n",
    "    if j < len(subd):\n",
    "        t2 = datetime.strptime(subd.loc[j][\"CreateDate\"], '%Y:%m:%d %H:%M:%S')\n",
    "        diff = (t2 - t1).total_seconds()\n",
    "        while (diff < seq_interval) & (j < len(subd) - 1):\n",
    "            j = j + 1\n",
    "            t2 = datetime.strptime(subd.loc[j][\"CreateDate\"], '%Y:%m:%d %H:%M:%S')\n",
    "            diff = (t2 - t1).total_seconds()   \n",
    "    i = j\n",
    "    "
   ]
  },
  {
   "cell_type": "code",
   "execution_count": null,
   "metadata": {},
   "outputs": [],
   "source": [
    "len(image_list)"
   ]
  },
  {
   "cell_type": "code",
   "execution_count": null,
   "metadata": {},
   "outputs": [],
   "source": [
    "a = [\"a\", \"b\", \"c\", \"d\"]\n",
    "b = [\"b\", \"c\"]"
   ]
  },
  {
   "cell_type": "code",
   "execution_count": null,
   "metadata": {},
   "outputs": [],
   "source": [
    "list(set(a).difference(b))"
   ]
  },
  {
   "cell_type": "code",
   "execution_count": null,
   "metadata": {},
   "outputs": [],
   "source": [
    "from datetime import datetime\n"
   ]
  },
  {
   "cell_type": "code",
   "execution_count": null,
   "metadata": {},
   "outputs": [],
   "source": [
    "date = \"2018:04:22 15:33:29\"\n",
    "date2 = \"2018:04:22 13:33:29\""
   ]
  },
  {
   "cell_type": "code",
   "execution_count": null,
   "metadata": {},
   "outputs": [],
   "source": [
    "datetime_object = datetime.strptime(date, '%Y:%m:%d %H:%M:%S')\n",
    "date2 = datetime.strptime(date2, '%Y:%m:%d %H:%M:%S')"
   ]
  },
  {
   "cell_type": "code",
   "execution_count": null,
   "metadata": {
    "scrolled": true
   },
   "outputs": [],
   "source": [
    "(date2 - datetime_object).total_seconds()"
   ]
  },
  {
   "cell_type": "code",
   "execution_count": null,
   "metadata": {},
   "outputs": [],
   "source": [
    "date2 - datetime_object"
   ]
  },
  {
   "cell_type": "code",
   "execution_count": null,
   "metadata": {},
   "outputs": [],
   "source": [
    "list1 = [int(\"0762\"), int(\"001\"), int(\"0002\"), int(\"0100\")]\n",
    "list1.sort()\n",
    "list1"
   ]
  },
  {
   "cell_type": "code",
   "execution_count": 8,
   "metadata": {},
   "outputs": [],
   "source": [
    "l1 = list(d[\"SourceFile\"].unique()[0:5])"
   ]
  },
  {
   "cell_type": "code",
   "execution_count": 12,
   "metadata": {},
   "outputs": [],
   "source": [
    "df = pd.read_csv(\"../Data/Seq_first_ske.csv\")"
   ]
  },
  {
   "cell_type": "code",
   "execution_count": 14,
   "metadata": {},
   "outputs": [
    {
     "data": {
      "text/plain": [
       "12794"
      ]
     },
     "execution_count": 14,
     "metadata": {},
     "output_type": "execute_result"
    }
   ],
   "source": [
    "len(df)"
   ]
  },
  {
   "cell_type": "code",
   "execution_count": 20,
   "metadata": {},
   "outputs": [],
   "source": [
    "f = df[\"Folder\"].unique()[50]\n",
    "subd = df.loc[df[\"Folder\"] == f].sort_values(by=['ImageId']).reset_index().drop(columns =[\"index\"])"
   ]
  },
  {
   "cell_type": "code",
   "execution_count": 21,
   "metadata": {
    "scrolled": true
   },
   "outputs": [
    {
     "data": {
      "text/html": [
       "<div>\n",
       "<style scoped>\n",
       "    .dataframe tbody tr th:only-of-type {\n",
       "        vertical-align: middle;\n",
       "    }\n",
       "\n",
       "    .dataframe tbody tr th {\n",
       "        vertical-align: top;\n",
       "    }\n",
       "\n",
       "    .dataframe thead th {\n",
       "        text-align: right;\n",
       "    }\n",
       "</style>\n",
       "<table border=\"1\" class=\"dataframe\">\n",
       "  <thead>\n",
       "    <tr style=\"text-align: right;\">\n",
       "      <th></th>\n",
       "      <th>Folder</th>\n",
       "      <th>ImageId</th>\n",
       "      <th>SourceFile</th>\n",
       "      <th>Count</th>\n",
       "      <th>CreateDate</th>\n",
       "      <th>h</th>\n",
       "      <th>placeID</th>\n",
       "    </tr>\n",
       "  </thead>\n",
       "  <tbody>\n",
       "    <tr>\n",
       "      <th>0</th>\n",
       "      <td>46_HH_1_5_18_100_BTCF/</td>\n",
       "      <td>6</td>\n",
       "      <td>46_HH_1_5_18_100_BTCF/IMG_0006.JPG</td>\n",
       "      <td>1</td>\n",
       "      <td>2017:04:26 16:07:17</td>\n",
       "      <td>16.0</td>\n",
       "      <td>46</td>\n",
       "    </tr>\n",
       "    <tr>\n",
       "      <th>1</th>\n",
       "      <td>46_HH_1_5_18_100_BTCF/</td>\n",
       "      <td>26</td>\n",
       "      <td>46_HH_1_5_18_100_BTCF/IMG_0026.JPG</td>\n",
       "      <td>2</td>\n",
       "      <td>2017:04:26 17:01:01</td>\n",
       "      <td>17.0</td>\n",
       "      <td>46</td>\n",
       "    </tr>\n",
       "    <tr>\n",
       "      <th>2</th>\n",
       "      <td>46_HH_1_5_18_100_BTCF/</td>\n",
       "      <td>41</td>\n",
       "      <td>46_HH_1_5_18_100_BTCF/IMG_0041.JPG</td>\n",
       "      <td>1</td>\n",
       "      <td>2017:04:26 17:01:56</td>\n",
       "      <td>17.0</td>\n",
       "      <td>46</td>\n",
       "    </tr>\n",
       "    <tr>\n",
       "      <th>3</th>\n",
       "      <td>46_HH_1_5_18_100_BTCF/</td>\n",
       "      <td>91</td>\n",
       "      <td>46_HH_1_5_18_100_BTCF/IMG_0091.JPG</td>\n",
       "      <td>1</td>\n",
       "      <td>2017:04:26 17:04:20</td>\n",
       "      <td>17.0</td>\n",
       "      <td>46</td>\n",
       "    </tr>\n",
       "    <tr>\n",
       "      <th>4</th>\n",
       "      <td>46_HH_1_5_18_100_BTCF/</td>\n",
       "      <td>96</td>\n",
       "      <td>46_HH_1_5_18_100_BTCF/IMG_0096.JPG</td>\n",
       "      <td>1</td>\n",
       "      <td>2017:04:26 17:08:06</td>\n",
       "      <td>17.0</td>\n",
       "      <td>46</td>\n",
       "    </tr>\n",
       "    <tr>\n",
       "      <th>...</th>\n",
       "      <td>...</td>\n",
       "      <td>...</td>\n",
       "      <td>...</td>\n",
       "      <td>...</td>\n",
       "      <td>...</td>\n",
       "      <td>...</td>\n",
       "      <td>...</td>\n",
       "    </tr>\n",
       "    <tr>\n",
       "      <th>106</th>\n",
       "      <td>46_HH_1_5_18_100_BTCF/</td>\n",
       "      <td>996</td>\n",
       "      <td>46_HH_1_5_18_100_BTCF/IMG_0996.JPG</td>\n",
       "      <td>1</td>\n",
       "      <td>2017:05:01 14:47:16</td>\n",
       "      <td>14.0</td>\n",
       "      <td>46</td>\n",
       "    </tr>\n",
       "    <tr>\n",
       "      <th>107</th>\n",
       "      <td>46_HH_1_5_18_100_BTCF/</td>\n",
       "      <td>1001</td>\n",
       "      <td>46_HH_1_5_18_100_BTCF/IMG_1001.JPG</td>\n",
       "      <td>1</td>\n",
       "      <td>2017:05:01 14:59:22</td>\n",
       "      <td>14.0</td>\n",
       "      <td>46</td>\n",
       "    </tr>\n",
       "    <tr>\n",
       "      <th>108</th>\n",
       "      <td>46_HH_1_5_18_100_BTCF/</td>\n",
       "      <td>1007</td>\n",
       "      <td>46_HH_1_5_18_100_BTCF/IMG_1007.JPG</td>\n",
       "      <td>1</td>\n",
       "      <td>2017:05:01 15:05:37</td>\n",
       "      <td>15.0</td>\n",
       "      <td>46</td>\n",
       "    </tr>\n",
       "    <tr>\n",
       "      <th>109</th>\n",
       "      <td>46_HH_1_5_18_100_BTCF/</td>\n",
       "      <td>1017</td>\n",
       "      <td>46_HH_1_5_18_100_BTCF/IMG_1017.JPG</td>\n",
       "      <td>1</td>\n",
       "      <td>2017:05:01 15:37:11</td>\n",
       "      <td>15.0</td>\n",
       "      <td>46</td>\n",
       "    </tr>\n",
       "    <tr>\n",
       "      <th>110</th>\n",
       "      <td>46_HH_1_5_18_100_BTCF/</td>\n",
       "      <td>1031</td>\n",
       "      <td>46_HH_1_5_18_100_BTCF/IMG_1031.JPG</td>\n",
       "      <td>1</td>\n",
       "      <td>2017:05:01 17:24:30</td>\n",
       "      <td>17.0</td>\n",
       "      <td>46</td>\n",
       "    </tr>\n",
       "  </tbody>\n",
       "</table>\n",
       "<p>111 rows × 7 columns</p>\n",
       "</div>"
      ],
      "text/plain": [
       "                     Folder  ImageId                          SourceFile  \\\n",
       "0    46_HH_1_5_18_100_BTCF/        6  46_HH_1_5_18_100_BTCF/IMG_0006.JPG   \n",
       "1    46_HH_1_5_18_100_BTCF/       26  46_HH_1_5_18_100_BTCF/IMG_0026.JPG   \n",
       "2    46_HH_1_5_18_100_BTCF/       41  46_HH_1_5_18_100_BTCF/IMG_0041.JPG   \n",
       "3    46_HH_1_5_18_100_BTCF/       91  46_HH_1_5_18_100_BTCF/IMG_0091.JPG   \n",
       "4    46_HH_1_5_18_100_BTCF/       96  46_HH_1_5_18_100_BTCF/IMG_0096.JPG   \n",
       "..                      ...      ...                                 ...   \n",
       "106  46_HH_1_5_18_100_BTCF/      996  46_HH_1_5_18_100_BTCF/IMG_0996.JPG   \n",
       "107  46_HH_1_5_18_100_BTCF/     1001  46_HH_1_5_18_100_BTCF/IMG_1001.JPG   \n",
       "108  46_HH_1_5_18_100_BTCF/     1007  46_HH_1_5_18_100_BTCF/IMG_1007.JPG   \n",
       "109  46_HH_1_5_18_100_BTCF/     1017  46_HH_1_5_18_100_BTCF/IMG_1017.JPG   \n",
       "110  46_HH_1_5_18_100_BTCF/     1031  46_HH_1_5_18_100_BTCF/IMG_1031.JPG   \n",
       "\n",
       "     Count           CreateDate     h  placeID  \n",
       "0        1  2017:04:26 16:07:17  16.0       46  \n",
       "1        2  2017:04:26 17:01:01  17.0       46  \n",
       "2        1  2017:04:26 17:01:56  17.0       46  \n",
       "3        1  2017:04:26 17:04:20  17.0       46  \n",
       "4        1  2017:04:26 17:08:06  17.0       46  \n",
       "..     ...                  ...   ...      ...  \n",
       "106      1  2017:05:01 14:47:16  14.0       46  \n",
       "107      1  2017:05:01 14:59:22  14.0       46  \n",
       "108      1  2017:05:01 15:05:37  15.0       46  \n",
       "109      1  2017:05:01 15:37:11  15.0       46  \n",
       "110      1  2017:05:01 17:24:30  17.0       46  \n",
       "\n",
       "[111 rows x 7 columns]"
      ]
     },
     "execution_count": 21,
     "metadata": {},
     "output_type": "execute_result"
    }
   ],
   "source": [
    "subd"
   ]
  },
  {
   "cell_type": "code",
   "execution_count": 22,
   "metadata": {},
   "outputs": [
    {
     "data": {
      "text/html": [
       "<div>\n",
       "<style scoped>\n",
       "    .dataframe tbody tr th:only-of-type {\n",
       "        vertical-align: middle;\n",
       "    }\n",
       "\n",
       "    .dataframe tbody tr th {\n",
       "        vertical-align: top;\n",
       "    }\n",
       "\n",
       "    .dataframe thead th {\n",
       "        text-align: right;\n",
       "    }\n",
       "</style>\n",
       "<table border=\"1\" class=\"dataframe\">\n",
       "  <thead>\n",
       "    <tr style=\"text-align: right;\">\n",
       "      <th></th>\n",
       "      <th>A</th>\n",
       "      <th>B</th>\n",
       "      <th>C</th>\n",
       "      <th>D</th>\n",
       "    </tr>\n",
       "  </thead>\n",
       "  <tbody>\n",
       "    <tr>\n",
       "      <th>0</th>\n",
       "      <td>[1, 2, 3, 4]</td>\n",
       "      <td>[2, 3, 4, 5]</td>\n",
       "      <td>[4, 5, 5, 6]</td>\n",
       "      <td>[6, 3, 4, 5]</td>\n",
       "    </tr>\n",
       "    <tr>\n",
       "      <th>1</th>\n",
       "      <td>[2, 3, 5, 6]</td>\n",
       "      <td>[3, 4, 6, 6]</td>\n",
       "      <td>[3, 4, 5, 7]</td>\n",
       "      <td>[2, 6, 3, 4]</td>\n",
       "    </tr>\n",
       "    <tr>\n",
       "      <th>2</th>\n",
       "      <td>[8, 9, 6, 7]</td>\n",
       "      <td>[5, 7, 9, 5]</td>\n",
       "      <td>[3, 7, 9, 5]</td>\n",
       "      <td>[5, 7, 9, 8]</td>\n",
       "    </tr>\n",
       "  </tbody>\n",
       "</table>\n",
       "</div>"
      ],
      "text/plain": [
       "              A             B             C             D\n",
       "0  [1, 2, 3, 4]  [2, 3, 4, 5]  [4, 5, 5, 6]  [6, 3, 4, 5]\n",
       "1  [2, 3, 5, 6]  [3, 4, 6, 6]  [3, 4, 5, 7]  [2, 6, 3, 4]\n",
       "2  [8, 9, 6, 7]  [5, 7, 9, 5]  [3, 7, 9, 5]  [5, 7, 9, 8]"
      ]
     },
     "execution_count": 22,
     "metadata": {},
     "output_type": "execute_result"
    }
   ],
   "source": [
    "pd.DataFrame(\n",
    "    [[[1, 2, 3, 4], [2, 3, 4, 5], [4, 5, 5, 6], [6, 3, 4, 5]],\n",
    "     [[2, 3, 5, 6], [3, 4, 6, 6], [3, 4, 5, 7], [2, 6, 3, 4]],\n",
    "     [[8, 9, 6, 7], [5, 7, 9, 5], [3, 7, 9, 5], [5, 7, 9, 8]]],\n",
    "    columns=list('ABCD')\n",
    ")"
   ]
  }
 ],
 "metadata": {
  "kernelspec": {
   "display_name": "Python 3",
   "language": "python",
   "name": "python3"
  },
  "language_info": {
   "codemirror_mode": {
    "name": "ipython",
    "version": 3
   },
   "file_extension": ".py",
   "mimetype": "text/x-python",
   "name": "python",
   "nbconvert_exporter": "python",
   "pygments_lexer": "ipython3",
   "version": "3.7.3"
  }
 },
 "nbformat": 4,
 "nbformat_minor": 2
}
