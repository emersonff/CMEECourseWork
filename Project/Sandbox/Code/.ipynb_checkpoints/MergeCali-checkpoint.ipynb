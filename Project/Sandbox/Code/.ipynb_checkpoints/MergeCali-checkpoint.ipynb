{
 "cells": [
  {
   "cell_type": "code",
   "execution_count": 1,
   "metadata": {},
   "outputs": [],
   "source": [
    "\"\"\"Merge calibration data into the original dataset\"\"\"\n",
    "import pandas as pd #'1.0.4'"
   ]
  },
  {
   "cell_type": "code",
   "execution_count": 2,
   "metadata": {},
   "outputs": [],
   "source": [
    "d = pd.read_csv(\"../Data/data.csv\")"
   ]
  },
  {
   "cell_type": "code",
   "execution_count": 3,
   "metadata": {},
   "outputs": [],
   "source": [
    "cali = pd.read_csv(\"../Data/Cali.csv\")"
   ]
  },
  {
   "cell_type": "code",
   "execution_count": 4,
   "metadata": {},
   "outputs": [
    {
     "data": {
      "text/plain": [
       "57634"
      ]
     },
     "execution_count": 4,
     "metadata": {},
     "output_type": "execute_result"
    }
   ],
   "source": [
    "len(cali)"
   ]
  },
  {
   "cell_type": "code",
   "execution_count": 5,
   "metadata": {},
   "outputs": [],
   "source": [
    "d.SourceFile = d.SourceFile.str.extract(r'(\\d+_.*)')"
   ]
  },
  {
   "cell_type": "code",
   "execution_count": 6,
   "metadata": {},
   "outputs": [],
   "source": [
    "df = pd.read_csv(\"../Data/Cali_Simp.csv\")"
   ]
  },
  {
   "cell_type": "code",
   "execution_count": 7,
   "metadata": {
    "scrolled": false
   },
   "outputs": [
    {
     "data": {
      "text/html": [
       "<div>\n",
       "<style scoped>\n",
       "    .dataframe tbody tr th:only-of-type {\n",
       "        vertical-align: middle;\n",
       "    }\n",
       "\n",
       "    .dataframe tbody tr th {\n",
       "        vertical-align: top;\n",
       "    }\n",
       "\n",
       "    .dataframe thead th {\n",
       "        text-align: right;\n",
       "    }\n",
       "</style>\n",
       "<table border=\"1\" class=\"dataframe\">\n",
       "  <thead>\n",
       "    <tr style=\"text-align: right;\">\n",
       "      <th></th>\n",
       "      <th>SourceFile</th>\n",
       "      <th>CreateDate</th>\n",
       "      <th>Keywords</th>\n",
       "    </tr>\n",
       "  </thead>\n",
       "  <tbody>\n",
       "    <tr>\n",
       "      <th>0</th>\n",
       "      <td>58_HH_2_5_18_BTCF/100_BTCF/IMG_0001.JPG</td>\n",
       "      <td>2018:04:19  13:09:46</td>\n",
       "      <td>placeID: 58</td>\n",
       "    </tr>\n",
       "    <tr>\n",
       "      <th>1</th>\n",
       "      <td>58_HH_2_5_18_BTCF/100_BTCF/IMG_0002.JPG</td>\n",
       "      <td>2018:04:19  13:09:47</td>\n",
       "      <td>placeID: 58</td>\n",
       "    </tr>\n",
       "    <tr>\n",
       "      <th>2</th>\n",
       "      <td>58_HH_2_5_18_BTCF/100_BTCF/IMG_0005.JPG</td>\n",
       "      <td>2018:04:19  13:09:48</td>\n",
       "      <td>placeID: 58</td>\n",
       "    </tr>\n",
       "    <tr>\n",
       "      <th>3</th>\n",
       "      <td>58_HH_2_5_18_BTCF/100_BTCF/IMG_0004.JPG</td>\n",
       "      <td>2018:04:19  13:09:48</td>\n",
       "      <td>placeID: 58</td>\n",
       "    </tr>\n",
       "    <tr>\n",
       "      <th>4</th>\n",
       "      <td>58_HH_2_5_18_BTCF/100_BTCF/IMG_0003.JPG</td>\n",
       "      <td>2018:04:19  13:09:48</td>\n",
       "      <td>placeID: 58</td>\n",
       "    </tr>\n",
       "  </tbody>\n",
       "</table>\n",
       "</div>"
      ],
      "text/plain": [
       "                                SourceFile            CreateDate     Keywords\n",
       "0  58_HH_2_5_18_BTCF/100_BTCF/IMG_0001.JPG  2018:04:19  13:09:46  placeID: 58\n",
       "1  58_HH_2_5_18_BTCF/100_BTCF/IMG_0002.JPG  2018:04:19  13:09:47  placeID: 58\n",
       "2  58_HH_2_5_18_BTCF/100_BTCF/IMG_0005.JPG  2018:04:19  13:09:48  placeID: 58\n",
       "3  58_HH_2_5_18_BTCF/100_BTCF/IMG_0004.JPG  2018:04:19  13:09:48  placeID: 58\n",
       "4  58_HH_2_5_18_BTCF/100_BTCF/IMG_0003.JPG  2018:04:19  13:09:48  placeID: 58"
      ]
     },
     "execution_count": 7,
     "metadata": {},
     "output_type": "execute_result"
    }
   ],
   "source": [
    "df.head()"
   ]
  },
  {
   "cell_type": "code",
   "execution_count": 8,
   "metadata": {
    "scrolled": true
   },
   "outputs": [
    {
     "data": {
      "text/plain": [
       "False    364347\n",
       "True      54398\n",
       "Name: SourceFile, dtype: int64"
      ]
     },
     "execution_count": 8,
     "metadata": {},
     "output_type": "execute_result"
    }
   ],
   "source": [
    "#d.loc[d.SourceFile.isin(df.SourceFile),]\n",
    "d.SourceFile.isin(df.SourceFile).value_counts()"
   ]
  },
  {
   "cell_type": "code",
   "execution_count": 9,
   "metadata": {},
   "outputs": [],
   "source": [
    "d.loc[d.SourceFile.isin(df.SourceFile), ['CreateDate', 'Keywords']] = df[['CreateDate', 'Keywords']]"
   ]
  },
  {
   "cell_type": "code",
   "execution_count": 9,
   "metadata": {},
   "outputs": [],
   "source": [
    "#df1 = df.loc[~df.SourceFile.isin(d.SourceFile),]\n",
    "#df2 = pd.concat([d, df1], ignore_index=True)"
   ]
  },
  {
   "cell_type": "code",
   "execution_count": 16,
   "metadata": {},
   "outputs": [],
   "source": [
    "#df2.to_csv(\"../Data/Merged_Data.csv\", index = False)\n",
    "d.to_csv(\"../Data/Merged_Data.csv\", index = False)"
   ]
  },
  {
   "cell_type": "code",
   "execution_count": 11,
   "metadata": {},
   "outputs": [
    {
     "data": {
      "text/html": [
       "<div>\n",
       "<style scoped>\n",
       "    .dataframe tbody tr th:only-of-type {\n",
       "        vertical-align: middle;\n",
       "    }\n",
       "\n",
       "    .dataframe tbody tr th {\n",
       "        vertical-align: top;\n",
       "    }\n",
       "\n",
       "    .dataframe thead th {\n",
       "        text-align: right;\n",
       "    }\n",
       "</style>\n",
       "<table border=\"1\" class=\"dataframe\">\n",
       "  <thead>\n",
       "    <tr style=\"text-align: right;\">\n",
       "      <th></th>\n",
       "      <th>SourceFile</th>\n",
       "      <th>CreateDate</th>\n",
       "      <th>Keywords</th>\n",
       "    </tr>\n",
       "  </thead>\n",
       "  <tbody>\n",
       "    <tr>\n",
       "      <th>38994</th>\n",
       "      <td>71_HH_1_6_18_T/100_BTCF/IMG_0002.JPG</td>\n",
       "      <td>2018:05:02  12:14:49</td>\n",
       "      <td>placeID: 71</td>\n",
       "    </tr>\n",
       "    <tr>\n",
       "      <th>38995</th>\n",
       "      <td>71_HH_1_6_18_T/100_BTCF/IMG_0001.JPG</td>\n",
       "      <td>2018:05:02  12:14:49</td>\n",
       "      <td>placeID: 71</td>\n",
       "    </tr>\n",
       "    <tr>\n",
       "      <th>38996</th>\n",
       "      <td>71_HH_1_6_18_T/100_BTCF/IMG_0004.JPG</td>\n",
       "      <td>2018:05:02  12:14:50</td>\n",
       "      <td>placeID: 71</td>\n",
       "    </tr>\n",
       "    <tr>\n",
       "      <th>38997</th>\n",
       "      <td>71_HH_1_6_18_T/100_BTCF/IMG_0003.JPG</td>\n",
       "      <td>2018:05:02  12:14:50</td>\n",
       "      <td>placeID: 71</td>\n",
       "    </tr>\n",
       "    <tr>\n",
       "      <th>38998</th>\n",
       "      <td>71_HH_1_6_18_T/100_BTCF/IMG_0006.JPG</td>\n",
       "      <td>2018:05:02  12:14:52</td>\n",
       "      <td>placeID: 71</td>\n",
       "    </tr>\n",
       "    <tr>\n",
       "      <th>...</th>\n",
       "      <td>...</td>\n",
       "      <td>...</td>\n",
       "      <td>...</td>\n",
       "    </tr>\n",
       "    <tr>\n",
       "      <th>57629</th>\n",
       "      <td>77_HH_1_6_18_T/100_BTCF/IMG_1027.JPG</td>\n",
       "      <td>2018:05:31  12:31:38</td>\n",
       "      <td>placeID: 77</td>\n",
       "    </tr>\n",
       "    <tr>\n",
       "      <th>57630</th>\n",
       "      <td>77_HH_1_6_18_T/100_BTCF/IMG_1029.JPG</td>\n",
       "      <td>2018:05:31  12:31:39</td>\n",
       "      <td>placeID: 77</td>\n",
       "    </tr>\n",
       "    <tr>\n",
       "      <th>57631</th>\n",
       "      <td>77_HH_1_6_18_T/100_BTCF/IMG_1030.JPG</td>\n",
       "      <td>2018:05:31  12:31:40</td>\n",
       "      <td>placeID: 77</td>\n",
       "    </tr>\n",
       "    <tr>\n",
       "      <th>57632</th>\n",
       "      <td>77_HH_1_6_18_T/100_BTCF/IMG_1032.JPG</td>\n",
       "      <td>2018:05:31  12:31:41</td>\n",
       "      <td>placeID: 77</td>\n",
       "    </tr>\n",
       "    <tr>\n",
       "      <th>57633</th>\n",
       "      <td>77_HH_1_6_18_T/100_BTCF/IMG_1031.JPG</td>\n",
       "      <td>2018:05:31  12:31:41</td>\n",
       "      <td>placeID: 77</td>\n",
       "    </tr>\n",
       "  </tbody>\n",
       "</table>\n",
       "<p>3236 rows × 3 columns</p>\n",
       "</div>"
      ],
      "text/plain": [
       "                                 SourceFile            CreateDate     Keywords\n",
       "38994  71_HH_1_6_18_T/100_BTCF/IMG_0002.JPG  2018:05:02  12:14:49  placeID: 71\n",
       "38995  71_HH_1_6_18_T/100_BTCF/IMG_0001.JPG  2018:05:02  12:14:49  placeID: 71\n",
       "38996  71_HH_1_6_18_T/100_BTCF/IMG_0004.JPG  2018:05:02  12:14:50  placeID: 71\n",
       "38997  71_HH_1_6_18_T/100_BTCF/IMG_0003.JPG  2018:05:02  12:14:50  placeID: 71\n",
       "38998  71_HH_1_6_18_T/100_BTCF/IMG_0006.JPG  2018:05:02  12:14:52  placeID: 71\n",
       "...                                     ...                   ...          ...\n",
       "57629  77_HH_1_6_18_T/100_BTCF/IMG_1027.JPG  2018:05:31  12:31:38  placeID: 77\n",
       "57630  77_HH_1_6_18_T/100_BTCF/IMG_1029.JPG  2018:05:31  12:31:39  placeID: 77\n",
       "57631  77_HH_1_6_18_T/100_BTCF/IMG_1030.JPG  2018:05:31  12:31:40  placeID: 77\n",
       "57632  77_HH_1_6_18_T/100_BTCF/IMG_1032.JPG  2018:05:31  12:31:41  placeID: 77\n",
       "57633  77_HH_1_6_18_T/100_BTCF/IMG_1031.JPG  2018:05:31  12:31:41  placeID: 77\n",
       "\n",
       "[3236 rows x 3 columns]"
      ]
     },
     "execution_count": 11,
     "metadata": {},
     "output_type": "execute_result"
    }
   ],
   "source": [
    "df.loc[~df.SourceFile.isin(d.SourceFile),]#cali data that does not exist\n",
    "                                         # in the original data 3236\n",
    "#len(df)#57634"
   ]
  },
  {
   "cell_type": "code",
   "execution_count": 12,
   "metadata": {
    "scrolled": true
   },
   "outputs": [],
   "source": [
    "#df.head()"
   ]
  },
  {
   "cell_type": "code",
   "execution_count": 13,
   "metadata": {},
   "outputs": [
    {
     "data": {
      "text/plain": [
       "array(['71_HH_1_6_18_T/100_BTCF', '129_HH_17_5_18_T/100_BTCF',\n",
       "       '75_HH_2_5_18_BTCF_T/100_BTCF', '65_HH_23_5_18',\n",
       "       '77_HH_1_6_18_T/100_BTCF'], dtype=object)"
      ]
     },
     "execution_count": 13,
     "metadata": {},
     "output_type": "execute_result"
    }
   ],
   "source": [
    "a = df.loc[~df.SourceFile.isin(d.SourceFile),]\n",
    "a[\"SourceFile\"].str.extract(\"(\\d+_HH_.*)/\").squeeze().unique()\n"
   ]
  },
  {
   "cell_type": "code",
   "execution_count": 14,
   "metadata": {},
   "outputs": [],
   "source": [
    "#cali.loc[cali[\"SourceFile\"].str.match(r\"71_HH_1_6_18_T/100_BTCF\"),]"
   ]
  }
 ],
 "metadata": {
  "kernelspec": {
   "display_name": "Python 3",
   "language": "python",
   "name": "python3"
  },
  "language_info": {
   "codemirror_mode": {
    "name": "ipython",
    "version": 3
   },
   "file_extension": ".py",
   "mimetype": "text/x-python",
   "name": "python",
   "nbconvert_exporter": "python",
   "pygments_lexer": "ipython3",
   "version": "3.7.3"
  }
 },
 "nbformat": 4,
 "nbformat_minor": 2
}
