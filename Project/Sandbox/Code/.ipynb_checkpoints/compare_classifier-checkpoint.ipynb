{
 "cells": [
  {
   "cell_type": "code",
   "execution_count": 1,
   "metadata": {},
   "outputs": [],
   "source": [
    "import sys\n",
    "#import json\n",
    "import os\n",
    "import pandas as pd #'1.0.4'\n",
    "import scipy as sc\n",
    "import numpy as np\n",
    "import re\n",
    "import shutil\n",
    "#import Json\n",
    "from matplotlib import pyplot as plt\n",
    "import seaborn as sn"
   ]
  },
  {
   "cell_type": "code",
   "execution_count": 2,
   "metadata": {},
   "outputs": [
    {
     "name": "stderr",
     "output_type": "stream",
     "text": [
      "/home/xiang/anaconda3/lib/python3.7/site-packages/IPython/core/interactiveshell.py:3049: DtypeWarning: Columns (14,16) have mixed types.Specify dtype option on import or set low_memory=False.\n",
      "  interactivity=interactivity, compiler=compiler, result=result)\n"
     ]
    }
   ],
   "source": [
    "c1 = pd.read_csv(\"../Data/human_MLP_predictions_C1.csv\")\n",
    "c2 = pd.read_csv(\"../Data/human_MLP_predictions_C2.csv\")\n",
    "d = pd.read_csv(\"../Data/SkeletonCount.csv\")\n",
    "cor_d1 = pd.read_csv(\"../Data/Corrupt_d_C1.csv\")\n",
    "cor_d2 = pd.read_csv(\"../Data/Corrupt_d_C2.csv\")\n",
    "df = pd.read_csv(\"../Data/Final_Data.csv\")"
   ]
  },
  {
   "cell_type": "code",
   "execution_count": 3,
   "metadata": {},
   "outputs": [],
   "source": [
    "cor_d = pd.concat([cor_d1, cor_d2])\n",
    "c = pd.concat([c1, c2])"
   ]
  },
  {
   "cell_type": "code",
   "execution_count": 4,
   "metadata": {
    "scrolled": true
   },
   "outputs": [],
   "source": [
    "c.SourceFile = c.SourceFile.str.extract(r\"(?:c_C1+/|c_C2+/)(.*)\")\n",
    "c.SourceFile = c.SourceFile.str.replace(\"+\", \"/\")\n",
    "cor_d.SourceFile = cor_d.SourceFile.str.replace(\"+\", \"/\")"
   ]
  },
  {
   "cell_type": "code",
   "execution_count": 5,
   "metadata": {},
   "outputs": [],
   "source": [
    "df = df[df.SourceFile.isin(c.SourceFile)]"
   ]
  },
  {
   "cell_type": "code",
   "execution_count": 6,
   "metadata": {},
   "outputs": [
    {
     "data": {
      "text/plain": [
       "418726"
      ]
     },
     "execution_count": 6,
     "metadata": {},
     "output_type": "execute_result"
    }
   ],
   "source": [
    "len(c)"
   ]
  },
  {
   "cell_type": "code",
   "execution_count": 7,
   "metadata": {},
   "outputs": [
    {
     "data": {
      "text/plain": [
       "418726"
      ]
     },
     "execution_count": 7,
     "metadata": {},
     "output_type": "execute_result"
    }
   ],
   "source": [
    "len(df)"
   ]
  },
  {
   "cell_type": "code",
   "execution_count": 8,
   "metadata": {},
   "outputs": [],
   "source": [
    "d = d.drop(d[d.SourceFile.isin(cor_d.SourceFile)].index)"
   ]
  },
  {
   "cell_type": "code",
   "execution_count": 9,
   "metadata": {},
   "outputs": [],
   "source": [
    "#c = c.drop([\"CreateDate\", \"human_prob\", \"non_human_prob\"], axis=1)"
   ]
  },
  {
   "cell_type": "code",
   "execution_count": 10,
   "metadata": {},
   "outputs": [],
   "source": [
    "df2 = pd.merge(df, c, on = \"SourceFile\")\n"
   ]
  },
  {
   "cell_type": "code",
   "execution_count": 11,
   "metadata": {},
   "outputs": [],
   "source": [
    "d = d.drop([\"CreateDate\", \"h\", \"placeID\"], axis=1)"
   ]
  },
  {
   "cell_type": "code",
   "execution_count": 12,
   "metadata": {},
   "outputs": [],
   "source": [
    "df2 = df2.merge(d, on = \"SourceFile\", how = \"left\")"
   ]
  },
  {
   "cell_type": "code",
   "execution_count": 13,
   "metadata": {},
   "outputs": [],
   "source": [
    "df2.Count = df2.Count.fillna(0)"
   ]
  },
  {
   "cell_type": "code",
   "execution_count": 14,
   "metadata": {},
   "outputs": [
    {
     "data": {
      "text/html": [
       "<div>\n",
       "<style scoped>\n",
       "    .dataframe tbody tr th:only-of-type {\n",
       "        vertical-align: middle;\n",
       "    }\n",
       "\n",
       "    .dataframe tbody tr th {\n",
       "        vertical-align: top;\n",
       "    }\n",
       "\n",
       "    .dataframe thead th {\n",
       "        text-align: right;\n",
       "    }\n",
       "</style>\n",
       "<table border=\"1\" class=\"dataframe\">\n",
       "  <thead>\n",
       "    <tr style=\"text-align: right;\">\n",
       "      <th></th>\n",
       "      <th>Folder</th>\n",
       "      <th>h</th>\n",
       "      <th>ImageID</th>\n",
       "      <th>SourceFile</th>\n",
       "      <th>CreateDate_x</th>\n",
       "      <th>Keywords</th>\n",
       "      <th>Make</th>\n",
       "      <th>Model</th>\n",
       "      <th>Sequence</th>\n",
       "      <th>placeID</th>\n",
       "      <th>...</th>\n",
       "      <th>species2</th>\n",
       "      <th>contact.3</th>\n",
       "      <th>species3</th>\n",
       "      <th>Human.Presence</th>\n",
       "      <th>Sp</th>\n",
       "      <th>CreateDate_y</th>\n",
       "      <th>human_prob</th>\n",
       "      <th>non_human_prob</th>\n",
       "      <th>IsHuman</th>\n",
       "      <th>Count</th>\n",
       "    </tr>\n",
       "  </thead>\n",
       "  <tbody>\n",
       "    <tr>\n",
       "      <th>0</th>\n",
       "      <td>100_HH_11_5_18100_BTCF_T/</td>\n",
       "      <td>15.0</td>\n",
       "      <td>1</td>\n",
       "      <td>100_HH_11_5_18100_BTCF_T/IMG_0001.JPG</td>\n",
       "      <td>2018:05:03  15:22:40</td>\n",
       "      <td>placeID: 100</td>\n",
       "      <td>Prometheus</td>\n",
       "      <td>BTC5HDP</td>\n",
       "      <td>NaN</td>\n",
       "      <td>100</td>\n",
       "      <td>...</td>\n",
       "      <td>NaN</td>\n",
       "      <td>NaN</td>\n",
       "      <td>NaN</td>\n",
       "      <td>NaN</td>\n",
       "      <td>NaN</td>\n",
       "      <td>NaN</td>\n",
       "      <td>0.993216</td>\n",
       "      <td>6.783837e-03</td>\n",
       "      <td>human</td>\n",
       "      <td>0.0</td>\n",
       "    </tr>\n",
       "    <tr>\n",
       "      <th>1</th>\n",
       "      <td>100_HH_11_5_18100_BTCF_T/</td>\n",
       "      <td>15.0</td>\n",
       "      <td>2</td>\n",
       "      <td>100_HH_11_5_18100_BTCF_T/IMG_0002.JPG</td>\n",
       "      <td>2018:05:03  15:22:44</td>\n",
       "      <td>placeID: 100</td>\n",
       "      <td>Prometheus</td>\n",
       "      <td>BTC5HDP</td>\n",
       "      <td>NaN</td>\n",
       "      <td>100</td>\n",
       "      <td>...</td>\n",
       "      <td>NaN</td>\n",
       "      <td>NaN</td>\n",
       "      <td>NaN</td>\n",
       "      <td>NaN</td>\n",
       "      <td>NaN</td>\n",
       "      <td>NaN</td>\n",
       "      <td>1.000000</td>\n",
       "      <td>2.988270e-08</td>\n",
       "      <td>human</td>\n",
       "      <td>0.0</td>\n",
       "    </tr>\n",
       "    <tr>\n",
       "      <th>2</th>\n",
       "      <td>100_HH_11_5_18100_BTCF_T/</td>\n",
       "      <td>15.0</td>\n",
       "      <td>3</td>\n",
       "      <td>100_HH_11_5_18100_BTCF_T/IMG_0003.JPG</td>\n",
       "      <td>2018:05:03  15:22:45</td>\n",
       "      <td>placeID: 100</td>\n",
       "      <td>Prometheus</td>\n",
       "      <td>BTC5HDP</td>\n",
       "      <td>NaN</td>\n",
       "      <td>100</td>\n",
       "      <td>...</td>\n",
       "      <td>NaN</td>\n",
       "      <td>NaN</td>\n",
       "      <td>NaN</td>\n",
       "      <td>NaN</td>\n",
       "      <td>NaN</td>\n",
       "      <td>NaN</td>\n",
       "      <td>0.161847</td>\n",
       "      <td>8.381528e-01</td>\n",
       "      <td>non-human</td>\n",
       "      <td>0.0</td>\n",
       "    </tr>\n",
       "    <tr>\n",
       "      <th>3</th>\n",
       "      <td>100_HH_11_5_18100_BTCF_T/</td>\n",
       "      <td>15.0</td>\n",
       "      <td>4</td>\n",
       "      <td>100_HH_11_5_18100_BTCF_T/IMG_0004.JPG</td>\n",
       "      <td>2018:05:03  15:22:46</td>\n",
       "      <td>placeID: 100</td>\n",
       "      <td>Prometheus</td>\n",
       "      <td>BTC5HDP</td>\n",
       "      <td>NaN</td>\n",
       "      <td>100</td>\n",
       "      <td>...</td>\n",
       "      <td>NaN</td>\n",
       "      <td>NaN</td>\n",
       "      <td>NaN</td>\n",
       "      <td>NaN</td>\n",
       "      <td>NaN</td>\n",
       "      <td>NaN</td>\n",
       "      <td>0.920996</td>\n",
       "      <td>7.900441e-02</td>\n",
       "      <td>human</td>\n",
       "      <td>0.0</td>\n",
       "    </tr>\n",
       "    <tr>\n",
       "      <th>4</th>\n",
       "      <td>100_HH_11_5_18100_BTCF_T/</td>\n",
       "      <td>15.0</td>\n",
       "      <td>5</td>\n",
       "      <td>100_HH_11_5_18100_BTCF_T/IMG_0005.JPG</td>\n",
       "      <td>2018:05:03  15:22:46</td>\n",
       "      <td>placeID: 100</td>\n",
       "      <td>Prometheus</td>\n",
       "      <td>BTC5HDP</td>\n",
       "      <td>NaN</td>\n",
       "      <td>100</td>\n",
       "      <td>...</td>\n",
       "      <td>NaN</td>\n",
       "      <td>NaN</td>\n",
       "      <td>NaN</td>\n",
       "      <td>NaN</td>\n",
       "      <td>NaN</td>\n",
       "      <td>NaN</td>\n",
       "      <td>0.999688</td>\n",
       "      <td>3.116191e-04</td>\n",
       "      <td>human</td>\n",
       "      <td>0.0</td>\n",
       "    </tr>\n",
       "    <tr>\n",
       "      <th>...</th>\n",
       "      <td>...</td>\n",
       "      <td>...</td>\n",
       "      <td>...</td>\n",
       "      <td>...</td>\n",
       "      <td>...</td>\n",
       "      <td>...</td>\n",
       "      <td>...</td>\n",
       "      <td>...</td>\n",
       "      <td>...</td>\n",
       "      <td>...</td>\n",
       "      <td>...</td>\n",
       "      <td>...</td>\n",
       "      <td>...</td>\n",
       "      <td>...</td>\n",
       "      <td>...</td>\n",
       "      <td>...</td>\n",
       "      <td>...</td>\n",
       "      <td>...</td>\n",
       "      <td>...</td>\n",
       "      <td>...</td>\n",
       "      <td>...</td>\n",
       "    </tr>\n",
       "    <tr>\n",
       "      <th>418721</th>\n",
       "      <td>9_HH_26_4_18/DCIM/101RECNX/</td>\n",
       "      <td>13.0</td>\n",
       "      <td>931</td>\n",
       "      <td>9_HH_26_4_18/DCIM/101RECNX/IMG_0931.JPG</td>\n",
       "      <td>2018:04:22 13:27:16</td>\n",
       "      <td>placeID: 09</td>\n",
       "      <td>RECONYX</td>\n",
       "      <td>HC500 HYPERFIRE</td>\n",
       "      <td>10.0</td>\n",
       "      <td>9</td>\n",
       "      <td>...</td>\n",
       "      <td>NaN</td>\n",
       "      <td>NaN</td>\n",
       "      <td>NaN</td>\n",
       "      <td>NaN</td>\n",
       "      <td>NaN</td>\n",
       "      <td>2018:04:22 13:27:16</td>\n",
       "      <td>0.950169</td>\n",
       "      <td>4.983127e-02</td>\n",
       "      <td>human</td>\n",
       "      <td>0.0</td>\n",
       "    </tr>\n",
       "    <tr>\n",
       "      <th>418722</th>\n",
       "      <td>9_HH_26_4_18/DCIM/101RECNX/</td>\n",
       "      <td>13.0</td>\n",
       "      <td>932</td>\n",
       "      <td>9_HH_26_4_18/DCIM/101RECNX/IMG_0932.JPG</td>\n",
       "      <td>2018:04:22 13:33:29</td>\n",
       "      <td>placeID: 09</td>\n",
       "      <td>RECONYX</td>\n",
       "      <td>HC500 HYPERFIRE</td>\n",
       "      <td>1.0</td>\n",
       "      <td>9</td>\n",
       "      <td>...</td>\n",
       "      <td>NaN</td>\n",
       "      <td>NaN</td>\n",
       "      <td>NaN</td>\n",
       "      <td>NaN</td>\n",
       "      <td>NaN</td>\n",
       "      <td>2018:04:22 13:33:29</td>\n",
       "      <td>1.000000</td>\n",
       "      <td>1.492437e-09</td>\n",
       "      <td>human</td>\n",
       "      <td>1.0</td>\n",
       "    </tr>\n",
       "    <tr>\n",
       "      <th>418723</th>\n",
       "      <td>9_HH_26_4_18/DCIM/101RECNX/</td>\n",
       "      <td>13.0</td>\n",
       "      <td>933</td>\n",
       "      <td>9_HH_26_4_18/DCIM/101RECNX/IMG_0933.JPG</td>\n",
       "      <td>2018:04:22 13:33:29</td>\n",
       "      <td>placeID: 09</td>\n",
       "      <td>RECONYX</td>\n",
       "      <td>HC500 HYPERFIRE</td>\n",
       "      <td>2.0</td>\n",
       "      <td>9</td>\n",
       "      <td>...</td>\n",
       "      <td>NaN</td>\n",
       "      <td>NaN</td>\n",
       "      <td>NaN</td>\n",
       "      <td>NaN</td>\n",
       "      <td>NaN</td>\n",
       "      <td>2018:04:22 13:33:29</td>\n",
       "      <td>0.992303</td>\n",
       "      <td>7.697083e-03</td>\n",
       "      <td>human</td>\n",
       "      <td>0.0</td>\n",
       "    </tr>\n",
       "    <tr>\n",
       "      <th>418724</th>\n",
       "      <td>9_HH_26_4_18/DCIM/101RECNX/</td>\n",
       "      <td>13.0</td>\n",
       "      <td>934</td>\n",
       "      <td>9_HH_26_4_18/DCIM/101RECNX/IMG_0934.JPG</td>\n",
       "      <td>2018:04:22 13:33:30</td>\n",
       "      <td>placeID: 09</td>\n",
       "      <td>RECONYX</td>\n",
       "      <td>HC500 HYPERFIRE</td>\n",
       "      <td>3.0</td>\n",
       "      <td>9</td>\n",
       "      <td>...</td>\n",
       "      <td>NaN</td>\n",
       "      <td>NaN</td>\n",
       "      <td>NaN</td>\n",
       "      <td>NaN</td>\n",
       "      <td>NaN</td>\n",
       "      <td>2018:04:22 13:33:30</td>\n",
       "      <td>0.968105</td>\n",
       "      <td>3.189503e-02</td>\n",
       "      <td>human</td>\n",
       "      <td>0.0</td>\n",
       "    </tr>\n",
       "    <tr>\n",
       "      <th>418725</th>\n",
       "      <td>9_HH_26_4_18/DCIM/101RECNX/</td>\n",
       "      <td>13.0</td>\n",
       "      <td>935</td>\n",
       "      <td>9_HH_26_4_18/DCIM/101RECNX/IMG_0935.JPG</td>\n",
       "      <td>2018:04:22 13:33:30</td>\n",
       "      <td>placeID: 09</td>\n",
       "      <td>RECONYX</td>\n",
       "      <td>HC500 HYPERFIRE</td>\n",
       "      <td>4.0</td>\n",
       "      <td>9</td>\n",
       "      <td>...</td>\n",
       "      <td>NaN</td>\n",
       "      <td>NaN</td>\n",
       "      <td>NaN</td>\n",
       "      <td>NaN</td>\n",
       "      <td>NaN</td>\n",
       "      <td>2018:04:22 13:33:30</td>\n",
       "      <td>0.847136</td>\n",
       "      <td>1.528645e-01</td>\n",
       "      <td>human</td>\n",
       "      <td>0.0</td>\n",
       "    </tr>\n",
       "  </tbody>\n",
       "</table>\n",
       "<p>418726 rows × 22 columns</p>\n",
       "</div>"
      ],
      "text/plain": [
       "                             Folder     h  ImageID  \\\n",
       "0         100_HH_11_5_18100_BTCF_T/  15.0        1   \n",
       "1         100_HH_11_5_18100_BTCF_T/  15.0        2   \n",
       "2         100_HH_11_5_18100_BTCF_T/  15.0        3   \n",
       "3         100_HH_11_5_18100_BTCF_T/  15.0        4   \n",
       "4         100_HH_11_5_18100_BTCF_T/  15.0        5   \n",
       "...                             ...   ...      ...   \n",
       "418721  9_HH_26_4_18/DCIM/101RECNX/  13.0      931   \n",
       "418722  9_HH_26_4_18/DCIM/101RECNX/  13.0      932   \n",
       "418723  9_HH_26_4_18/DCIM/101RECNX/  13.0      933   \n",
       "418724  9_HH_26_4_18/DCIM/101RECNX/  13.0      934   \n",
       "418725  9_HH_26_4_18/DCIM/101RECNX/  13.0      935   \n",
       "\n",
       "                                     SourceFile          CreateDate_x  \\\n",
       "0         100_HH_11_5_18100_BTCF_T/IMG_0001.JPG  2018:05:03  15:22:40   \n",
       "1         100_HH_11_5_18100_BTCF_T/IMG_0002.JPG  2018:05:03  15:22:44   \n",
       "2         100_HH_11_5_18100_BTCF_T/IMG_0003.JPG  2018:05:03  15:22:45   \n",
       "3         100_HH_11_5_18100_BTCF_T/IMG_0004.JPG  2018:05:03  15:22:46   \n",
       "4         100_HH_11_5_18100_BTCF_T/IMG_0005.JPG  2018:05:03  15:22:46   \n",
       "...                                         ...                   ...   \n",
       "418721  9_HH_26_4_18/DCIM/101RECNX/IMG_0931.JPG   2018:04:22 13:27:16   \n",
       "418722  9_HH_26_4_18/DCIM/101RECNX/IMG_0932.JPG   2018:04:22 13:33:29   \n",
       "418723  9_HH_26_4_18/DCIM/101RECNX/IMG_0933.JPG   2018:04:22 13:33:29   \n",
       "418724  9_HH_26_4_18/DCIM/101RECNX/IMG_0934.JPG   2018:04:22 13:33:30   \n",
       "418725  9_HH_26_4_18/DCIM/101RECNX/IMG_0935.JPG   2018:04:22 13:33:30   \n",
       "\n",
       "            Keywords        Make            Model  Sequence  placeID  ...  \\\n",
       "0       placeID: 100  Prometheus          BTC5HDP       NaN      100  ...   \n",
       "1       placeID: 100  Prometheus          BTC5HDP       NaN      100  ...   \n",
       "2       placeID: 100  Prometheus          BTC5HDP       NaN      100  ...   \n",
       "3       placeID: 100  Prometheus          BTC5HDP       NaN      100  ...   \n",
       "4       placeID: 100  Prometheus          BTC5HDP       NaN      100  ...   \n",
       "...              ...         ...              ...       ...      ...  ...   \n",
       "418721   placeID: 09     RECONYX  HC500 HYPERFIRE      10.0        9  ...   \n",
       "418722   placeID: 09     RECONYX  HC500 HYPERFIRE       1.0        9  ...   \n",
       "418723   placeID: 09     RECONYX  HC500 HYPERFIRE       2.0        9  ...   \n",
       "418724   placeID: 09     RECONYX  HC500 HYPERFIRE       3.0        9  ...   \n",
       "418725   placeID: 09     RECONYX  HC500 HYPERFIRE       4.0        9  ...   \n",
       "\n",
       "        species2 contact.3 species3  Human.Presence   Sp         CreateDate_y  \\\n",
       "0            NaN       NaN      NaN             NaN  NaN                  NaN   \n",
       "1            NaN       NaN      NaN             NaN  NaN                  NaN   \n",
       "2            NaN       NaN      NaN             NaN  NaN                  NaN   \n",
       "3            NaN       NaN      NaN             NaN  NaN                  NaN   \n",
       "4            NaN       NaN      NaN             NaN  NaN                  NaN   \n",
       "...          ...       ...      ...             ...  ...                  ...   \n",
       "418721       NaN       NaN      NaN             NaN  NaN  2018:04:22 13:27:16   \n",
       "418722       NaN       NaN      NaN             NaN  NaN  2018:04:22 13:33:29   \n",
       "418723       NaN       NaN      NaN             NaN  NaN  2018:04:22 13:33:29   \n",
       "418724       NaN       NaN      NaN             NaN  NaN  2018:04:22 13:33:30   \n",
       "418725       NaN       NaN      NaN             NaN  NaN  2018:04:22 13:33:30   \n",
       "\n",
       "       human_prob non_human_prob    IsHuman  Count  \n",
       "0        0.993216   6.783837e-03      human    0.0  \n",
       "1        1.000000   2.988270e-08      human    0.0  \n",
       "2        0.161847   8.381528e-01  non-human    0.0  \n",
       "3        0.920996   7.900441e-02      human    0.0  \n",
       "4        0.999688   3.116191e-04      human    0.0  \n",
       "...           ...            ...        ...    ...  \n",
       "418721   0.950169   4.983127e-02      human    0.0  \n",
       "418722   1.000000   1.492437e-09      human    1.0  \n",
       "418723   0.992303   7.697083e-03      human    0.0  \n",
       "418724   0.968105   3.189503e-02      human    0.0  \n",
       "418725   0.847136   1.528645e-01      human    0.0  \n",
       "\n",
       "[418726 rows x 22 columns]"
      ]
     },
     "execution_count": 14,
     "metadata": {},
     "output_type": "execute_result"
    }
   ],
   "source": [
    "df2"
   ]
  },
  {
   "cell_type": "code",
   "execution_count": 15,
   "metadata": {},
   "outputs": [],
   "source": [
    "def convert1(x):\n",
    "    if x == \"human\":\n",
    "        return 1\n",
    "    else:\n",
    "        return 0\n",
    "\n",
    "def convert2(x):\n",
    "    if x > 0:\n",
    "        return 1\n",
    "    else:\n",
    "        return 0"
   ]
  },
  {
   "cell_type": "code",
   "execution_count": 16,
   "metadata": {
    "scrolled": false
   },
   "outputs": [],
   "source": [
    "df2.IsHuman.apply(convert1)\n",
    "df2.insert(len(df2.columns),\"Actual\", df2.IsHuman.apply(convert1))\n",
    "df2.insert(len(df2.columns),\"Predicted\",df2.Count.apply(convert2))"
   ]
  },
  {
   "cell_type": "code",
   "execution_count": 17,
   "metadata": {},
   "outputs": [
    {
     "name": "stdout",
     "output_type": "stream",
     "text": [
      "Predicted       0       1\n",
      "Actual                   \n",
      "0          202343   31881\n",
      "1           82815  101687\n"
     ]
    },
    {
     "data": {
      "image/png": "[encoded data removed]",
      "text/plain": [
       "<Figure size 432x288 with 2 Axes>"
      ]
     },
     "metadata": {
      "needs_background": "light"
     },
     "output_type": "display_data"
    }
   ],
   "source": [
    "cf_matrix = pd.crosstab(df2['Actual'], df2['Predicted'], rownames=['Actual'], colnames=['Predicted'])\n",
    "print(cf_matrix)\n",
    "cf_matrix = cf_matrix.to_numpy()\n",
    "#sn.heatmap(cf_matrix, annot=True)\n",
    "#ax = sn.heatmap(cf_matrix, annot=True, fmt = '.1f', square=1, linewidth=1.)\n",
    "#for t in ax.texts: t.set_text(str(float(\"{:.2f}\".format(float(t.get_text()) / n * 100))) + \" %\")\n",
    "group_names = [\"True Neg\",\"False Pos\",\"False Neg\",\"True Pos\"]\n",
    "group_counts = [\"{0:0.0f}\".format(value) for value in cf_matrix.flatten()]\n",
    "group_percentages = [\"{0:.2%}\".format(value) for value in cf_matrix.flatten()/np.sum(cf_matrix)]\n",
    "labels = [f\"{v1}\\n{v2}\\n{v3}\" for v1, v2, v3 in zip(group_names,group_counts,group_percentages)]\n",
    "labels = np.asarray(labels).reshape(2,2)\n",
    "sn.heatmap(cf_matrix, annot=labels, fmt=\"\", cmap='Blues')\n",
    "plt.show()"
   ]
  },
  {
   "cell_type": "code",
   "execution_count": 18,
   "metadata": {},
   "outputs": [],
   "source": [
    "from sklearn.metrics import confusion_matrix"
   ]
  },
  {
   "cell_type": "code",
   "execution_count": 19,
   "metadata": {},
   "outputs": [],
   "source": [
    "def cm_analysis(y_true, y_pred, filename, labels, ymap=None, figsize=(10,10)):\n",
    "    \"\"\"\n",
    "    Generate matrix plot of confusion matrix with pretty annotations.\n",
    "    The plot image is saved to disk.\n",
    "    args: \n",
    "      y_true:    true label of the data, with shape (nsamples,)\n",
    "      y_pred:    prediction of the data, with shape (nsamples,)\n",
    "      filename:  filename of figure file to save\n",
    "      labels:    string array, name the order of class labels in the confusion matrix.\n",
    "                 use `clf.classes_` if using scikit-learn models.\n",
    "                 with shape (nclass,).\n",
    "      ymap:      dict: any -> string, length == nclass.\n",
    "                 if not None, map the labels & ys to more understandable strings.\n",
    "                 Caution: original y_true, y_pred and labels must align.\n",
    "      figsize:   the size of the figure plotted.\n",
    "    \"\"\"\n",
    "    if ymap is not None:\n",
    "        y_pred = [ymap[yi] for yi in y_pred]\n",
    "        y_true = [ymap[yi] for yi in y_true]\n",
    "        labels = [ymap[yi] for yi in labels]\n",
    "    cm = confusion_matrix(y_true, y_pred, labels=labels)\n",
    "    cm_sum = np.sum(cm, axis=1, keepdims=True)\n",
    "    cm_perc = cm / cm_sum.astype(float) * 100\n",
    "    annot = np.empty_like(cm).astype(str)\n",
    "    nrows, ncols = cm.shape\n",
    "    for i in range(nrows):\n",
    "        for j in range(ncols):\n",
    "            c = cm[i, j]\n",
    "            p = cm_perc[i, j]\n",
    "            if i == j:\n",
    "                s = cm_sum[i]\n",
    "                annot[i, j] = '%.1f%%\\n%d/%d' % (p, c, s)\n",
    "            elif c == 0:\n",
    "                annot[i, j] = ''\n",
    "            else:\n",
    "                annot[i, j] = '%.1f%%\\n%d' % (p, c)\n",
    "    cm = pd.DataFrame(cm, index=labels, columns=labels)\n",
    "    cm.index.name = 'Actual'\n",
    "    cm.columns.name = 'Predicted'\n",
    "    fig, ax = plt.subplots(figsize=figsize)\n",
    "    sn.heatmap(cm, annot=annot, fmt='', ax=ax, cmap='Blues')\n",
    "    plt.savefig(filename)"
   ]
  },
  {
   "cell_type": "code",
   "execution_count": 20,
   "metadata": {
    "scrolled": true
   },
   "outputs": [
    {
     "data": {
      "image/png": "[encoded data removed]",
      "text/plain": [
       "<Figure size 360x288 with 2 Axes>"
      ]
     },
     "metadata": {
      "needs_background": "light"
     },
     "output_type": "display_data"
    }
   ],
   "source": [
    "cm_analysis(df2[\"Actual\"], df2[\"Predicted\"], \"../Results/All_cm.png\", [1, 0], ymap=None, figsize=(5,4))"
   ]
  },
  {
   "cell_type": "code",
   "execution_count": 21,
   "metadata": {},
   "outputs": [],
   "source": [
    "#sq_d = pd.read_csv(\"../Data/Seq_first_ske.csv\")"
   ]
  },
  {
   "cell_type": "code",
   "execution_count": 22,
   "metadata": {
    "scrolled": true
   },
   "outputs": [],
   "source": [
    "#df3 = df2[df2.SourceFile.isin(sq_d.SourceFile)]"
   ]
  },
  {
   "cell_type": "code",
   "execution_count": 23,
   "metadata": {},
   "outputs": [],
   "source": [
    "import Json"
   ]
  },
  {
   "cell_type": "code",
   "execution_count": 24,
   "metadata": {
    "scrolled": true
   },
   "outputs": [],
   "source": [
    "temp = Json.Json(\"../Data/p1/\", 0.5 , 1)"
   ]
  },
  {
   "cell_type": "code",
   "execution_count": 25,
   "metadata": {},
   "outputs": [],
   "source": [
    "d_all = temp.getAllSke()"
   ]
  },
  {
   "cell_type": "code",
   "execution_count": 26,
   "metadata": {},
   "outputs": [],
   "source": [
    "d_a = pd.DataFrame(list(d_all.items()), columns = [\"SourceFile\", \"Predicted_A\"])"
   ]
  },
  {
   "cell_type": "code",
   "execution_count": 27,
   "metadata": {
    "scrolled": true
   },
   "outputs": [
    {
     "data": {
      "text/html": [
       "<div>\n",
       "<style scoped>\n",
       "    .dataframe tbody tr th:only-of-type {\n",
       "        vertical-align: middle;\n",
       "    }\n",
       "\n",
       "    .dataframe tbody tr th {\n",
       "        vertical-align: top;\n",
       "    }\n",
       "\n",
       "    .dataframe thead th {\n",
       "        text-align: right;\n",
       "    }\n",
       "</style>\n",
       "<table border=\"1\" class=\"dataframe\">\n",
       "  <thead>\n",
       "    <tr style=\"text-align: right;\">\n",
       "      <th></th>\n",
       "      <th>SourceFile</th>\n",
       "      <th>Predicted_A</th>\n",
       "    </tr>\n",
       "  </thead>\n",
       "  <tbody>\n",
       "    <tr>\n",
       "      <th>0</th>\n",
       "      <td>6_HH_1_5_18_DCIM/100RECNX/IMG_3428.JPG</td>\n",
       "      <td>1</td>\n",
       "    </tr>\n",
       "    <tr>\n",
       "      <th>1</th>\n",
       "      <td>137_HH_17_5_18_T/101RECNX/IMG_1413.JPG</td>\n",
       "      <td>0</td>\n",
       "    </tr>\n",
       "    <tr>\n",
       "      <th>2</th>\n",
       "      <td>97_HH_15_06_18/100RECNX/IMG_2603.JPG</td>\n",
       "      <td>1</td>\n",
       "    </tr>\n",
       "    <tr>\n",
       "      <th>3</th>\n",
       "      <td>24_HH_23_4_18_DCIM/100_BTCF/IMG_0066.JPG</td>\n",
       "      <td>1</td>\n",
       "    </tr>\n",
       "    <tr>\n",
       "      <th>4</th>\n",
       "      <td>145_HH_17_5_18/100_BTCF/IMG_2789.JPG</td>\n",
       "      <td>0</td>\n",
       "    </tr>\n",
       "    <tr>\n",
       "      <th>...</th>\n",
       "      <td>...</td>\n",
       "      <td>...</td>\n",
       "    </tr>\n",
       "    <tr>\n",
       "      <th>418738</th>\n",
       "      <td>77_HH_2_5_18_BTCF/100_BTCF/IMG_1187.JPG</td>\n",
       "      <td>0</td>\n",
       "    </tr>\n",
       "    <tr>\n",
       "      <th>418739</th>\n",
       "      <td>112_11_20_7_18_BTCF/IMG_5472.JPG</td>\n",
       "      <td>0</td>\n",
       "    </tr>\n",
       "    <tr>\n",
       "      <th>418740</th>\n",
       "      <td>29_HH_2_5_18_BTCF/100RECNX/IMG_1935.JPG</td>\n",
       "      <td>1</td>\n",
       "    </tr>\n",
       "    <tr>\n",
       "      <th>418741</th>\n",
       "      <td>88_HH_25_06_18/DCIM/100_BTCF/IMG_3656.JPG</td>\n",
       "      <td>0</td>\n",
       "    </tr>\n",
       "    <tr>\n",
       "      <th>418742</th>\n",
       "      <td>87_HH_22_06_18/DCIM/100_BTCF/IMG_3447.JPG</td>\n",
       "      <td>1</td>\n",
       "    </tr>\n",
       "  </tbody>\n",
       "</table>\n",
       "<p>418743 rows × 2 columns</p>\n",
       "</div>"
      ],
      "text/plain": [
       "                                       SourceFile  Predicted_A\n",
       "0          6_HH_1_5_18_DCIM/100RECNX/IMG_3428.JPG            1\n",
       "1          137_HH_17_5_18_T/101RECNX/IMG_1413.JPG            0\n",
       "2            97_HH_15_06_18/100RECNX/IMG_2603.JPG            1\n",
       "3        24_HH_23_4_18_DCIM/100_BTCF/IMG_0066.JPG            1\n",
       "4            145_HH_17_5_18/100_BTCF/IMG_2789.JPG            0\n",
       "...                                           ...          ...\n",
       "418738    77_HH_2_5_18_BTCF/100_BTCF/IMG_1187.JPG            0\n",
       "418739           112_11_20_7_18_BTCF/IMG_5472.JPG            0\n",
       "418740    29_HH_2_5_18_BTCF/100RECNX/IMG_1935.JPG            1\n",
       "418741  88_HH_25_06_18/DCIM/100_BTCF/IMG_3656.JPG            0\n",
       "418742  87_HH_22_06_18/DCIM/100_BTCF/IMG_3447.JPG            1\n",
       "\n",
       "[418743 rows x 2 columns]"
      ]
     },
     "execution_count": 27,
     "metadata": {},
     "output_type": "execute_result"
    }
   ],
   "source": [
    "d_a"
   ]
  },
  {
   "cell_type": "code",
   "execution_count": 28,
   "metadata": {},
   "outputs": [],
   "source": [
    "df3 = df2.merge(d_a, on = \"SourceFile\", how = \"left\")\n",
    "df3.Predicted_A = df3.Predicted_A.fillna(0)"
   ]
  },
  {
   "cell_type": "code",
   "execution_count": 29,
   "metadata": {
    "scrolled": true
   },
   "outputs": [
    {
     "data": {
      "image/png": "[encoded data removed]",
      "text/plain": [
       "<Figure size 360x288 with 2 Axes>"
      ]
     },
     "metadata": {
      "needs_background": "light"
     },
     "output_type": "display_data"
    }
   ],
   "source": [
    "cm_analysis(df3[\"Actual\"], df3[\"Predicted_A\"], \"../Results/All_cm_all.png\", [1, 0], ymap=None, figsize=(5,4))"
   ]
  },
  {
   "cell_type": "code",
   "execution_count": 30,
   "metadata": {},
   "outputs": [],
   "source": [
    "def calstats(tp, fn, fp, tn):\n",
    "\n",
    "    accuracy = (tp + tn) / (tn + tp + fn + fp)\n",
    "    precision = tp / (tp + fp)\n",
    "    recall = tp / (tp + fn)\n",
    "    f1score = (2 * tp) / (2 * tp + fp + fn)\n",
    "    return {\"accuracy\":accuracy, \"precision\":precision, \"recall\":recall, \"f1score\":f1score}"
   ]
  },
  {
   "cell_type": "code",
   "execution_count": 31,
   "metadata": {
    "scrolled": true
   },
   "outputs": [
    {
     "data": {
      "text/plain": [
       "{'accuracy': 0.6916336697506245,\n",
       " 'precision': 0.6641881755815263,\n",
       " 'recall': 0.6071262100139836,\n",
       " 'f1score': 0.634376601642914}"
      ]
     },
     "execution_count": 31,
     "metadata": {},
     "output_type": "execute_result"
    }
   ],
   "source": [
    "calstats(112016, 72486, 56635, 177589)"
   ]
  },
  {
   "cell_type": "code",
   "execution_count": 32,
   "metadata": {
    "scrolled": true
   },
   "outputs": [
    {
     "data": {
      "text/plain": [
       "{'accuracy': 0.6497470899824707,\n",
       " 'precision': 0.7666657270907912,\n",
       " 'recall': 0.29483691233699366,\n",
       " 'f1score': 0.4258893899536515}"
      ]
     },
     "execution_count": 32,
     "metadata": {},
     "output_type": "execute_result"
    }
   ],
   "source": [
    "calstats(54398, 130104, 16556, 217668)"
   ]
  },
  {
   "cell_type": "code",
   "execution_count": 33,
   "metadata": {},
   "outputs": [
    {
     "data": {
      "text/plain": [
       "{'accuracy': 0.8105685054319165,\n",
       " 'precision': 0.9126839523475824,\n",
       " 'recall': 0.6868473789684633,\n",
       " 'f1score': 0.783822821376986}"
      ]
     },
     "execution_count": 33,
     "metadata": {},
     "output_type": "execute_result"
    }
   ],
   "source": [
    "#for classifer results\n",
    "#calstats(tp, fn, fp, tn)\n",
    "calstats(6512, 2969, 623, 8858)"
   ]
  },
  {
   "cell_type": "code",
   "execution_count": 34,
   "metadata": {},
   "outputs": [
    {
     "data": {
      "text/plain": [
       "{'accuracy': 0.7181731884822277,\n",
       " 'precision': 0.8657824933687003,\n",
       " 'recall': 0.5164012234996308,\n",
       " 'f1score': 0.6469344608879493}"
      ]
     },
     "execution_count": 34,
     "metadata": {},
     "output_type": "execute_result"
    }
   ],
   "source": [
    "#for 0.5 2\n",
    "calstats(4896, 4585, 759, 8722)"
   ]
  },
  {
   "cell_type": "code",
   "execution_count": 35,
   "metadata": {},
   "outputs": [
    {
     "data": {
      "text/plain": [
       "{'accuracy': 0.721759308089864,\n",
       " 'precision': 0.8438266557645135,\n",
       " 'recall': 0.5442463875118658,\n",
       " 'f1score': 0.6617081302898179}"
      ]
     },
     "execution_count": 35,
     "metadata": {},
     "output_type": "execute_result"
    }
   ],
   "source": [
    "#for 0.5 1\n",
    "calstats(5160, 4321, 955, 8526)"
   ]
  },
  {
   "cell_type": "code",
   "execution_count": 36,
   "metadata": {
    "scrolled": true
   },
   "outputs": [
    {
     "data": {
      "text/plain": [
       "{'accuracy': 0.7241899776224378,\n",
       " 'precision': 0.7547920727745289,\n",
       " 'recall': 0.5540481945995165,\n",
       " 'f1score': 0.6390255490194853}"
      ]
     },
     "execution_count": 36,
     "metadata": {},
     "output_type": "execute_result"
    }
   ],
   "source": [
    "calstats(102223, 82279, 33209, 201012)"
   ]
  },
  {
   "cell_type": "code",
   "execution_count": 37,
   "metadata": {
    "scrolled": true
   },
   "outputs": [
    {
     "data": {
      "text/plain": [
       "{'accuracy': 0.7103681046303133,\n",
       " 'precision': 0.7809550640935343,\n",
       " 'recall': 0.584748444256935,\n",
       " 'f1score': 0.66875753920386}"
      ]
     },
     "execution_count": 37,
     "metadata": {},
     "output_type": "execute_result"
    }
   ],
   "source": [
    "#for 0.4 1\n",
    "calstats(5544, 3937, 1555, 7926)"
   ]
  },
  {
   "cell_type": "code",
   "execution_count": 38,
   "metadata": {},
   "outputs": [
    {
     "data": {
      "text/plain": [
       "{'accuracy': 0.7103681046303133,\n",
       " 'precision': 0.7809550640935343,\n",
       " 'recall': 0.584748444256935,\n",
       " 'f1score': 0.66875753920386}"
      ]
     },
     "execution_count": 38,
     "metadata": {},
     "output_type": "execute_result"
    }
   ],
   "source": [
    "#for 0.4 2\n",
    "calstats(5298, 4183, 1272, 8209)"
   ]
  }
 ],
 "metadata": {
  "kernelspec": {
   "display_name": "Python 3",
   "language": "python",
   "name": "python3"
  },
  "language_info": {
   "codemirror_mode": {
    "name": "ipython",
    "version": 3
   },
   "file_extension": ".py",
   "mimetype": "text/x-python",
   "name": "python",
   "nbconvert_exporter": "python",
   "pygments_lexer": "ipython3",
   "version": "3.7.3"
  }
 },
 "nbformat": 4,
 "nbformat_minor": 2
}
