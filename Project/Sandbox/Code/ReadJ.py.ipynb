{
 "cells": [
  {
   "cell_type": "code",
   "execution_count": 1,
   "metadata": {},
   "outputs": [],
   "source": [
    "import json\n",
    "import pandas as pd #'1.0.4'\n",
    "import numpy as np\n",
    "import os\n",
    "import seaborn as sn\n",
    "import matplotlib.pyplot as plt\n",
    "#import Json\n",
    "#from pandas_ml import ConfusionMatrix"
   ]
  },
  {
   "cell_type": "code",
   "execution_count": 2,
   "metadata": {},
   "outputs": [],
   "source": [
    "hu = pd.read_csv(\"../Data/SampleHu.csv\")\n",
    "notHu = pd.read_csv(\"../Data/SampleNotHu.csv\")"
   ]
  },
  {
   "cell_type": "code",
   "execution_count": 3,
   "metadata": {},
   "outputs": [],
   "source": [
    "#read names of json files, should be the same for all three models\n",
    "path_to_json = \"../Data/COCO/\"\n",
    "jsonFiles = [pos_json for pos_json in os.listdir(path_to_json) if pos_json.endswith('.json')]"
   ]
  },
  {
   "cell_type": "code",
   "execution_count": 4,
   "metadata": {},
   "outputs": [
    {
     "data": {
      "text/html": [
       "<div>\n",
       "<style scoped>\n",
       "    .dataframe tbody tr th:only-of-type {\n",
       "        vertical-align: middle;\n",
       "    }\n",
       "\n",
       "    .dataframe tbody tr th {\n",
       "        vertical-align: top;\n",
       "    }\n",
       "\n",
       "    .dataframe thead th {\n",
       "        text-align: right;\n",
       "    }\n",
       "</style>\n",
       "<table border=\"1\" class=\"dataframe\">\n",
       "  <thead>\n",
       "    <tr style=\"text-align: right;\">\n",
       "      <th></th>\n",
       "      <th>actual</th>\n",
       "    </tr>\n",
       "    <tr>\n",
       "      <th>SourceFile</th>\n",
       "      <th></th>\n",
       "    </tr>\n",
       "  </thead>\n",
       "  <tbody>\n",
       "    <tr>\n",
       "      <th>100_HH_11_5_18100_BTCF_T/IMG_0318.JPG</th>\n",
       "      <td>1.0</td>\n",
       "    </tr>\n",
       "    <tr>\n",
       "      <th>100_HH_11_5_18100_BTCF_T/IMG_0321.JPG</th>\n",
       "      <td>1.0</td>\n",
       "    </tr>\n",
       "    <tr>\n",
       "      <th>100_HH_11_5_18100_BTCF_T/IMG_0322.JPG</th>\n",
       "      <td>1.0</td>\n",
       "    </tr>\n",
       "    <tr>\n",
       "      <th>100_HH_11_5_18100_BTCF_T/IMG_0325.JPG</th>\n",
       "      <td>1.0</td>\n",
       "    </tr>\n",
       "    <tr>\n",
       "      <th>100_HH_11_5_18100_BTCF_T/IMG_0326.JPG</th>\n",
       "      <td>1.0</td>\n",
       "    </tr>\n",
       "    <tr>\n",
       "      <th>...</th>\n",
       "      <td>...</td>\n",
       "    </tr>\n",
       "    <tr>\n",
       "      <th>127_HH_1_6_18_T/101RECNX/IMG_1499.JPG</th>\n",
       "      <td>0.0</td>\n",
       "    </tr>\n",
       "    <tr>\n",
       "      <th>127_HH_1_6_18_T/101RECNX/IMG_1500.JPG</th>\n",
       "      <td>0.0</td>\n",
       "    </tr>\n",
       "    <tr>\n",
       "      <th>127_HH_1_6_18_T/101RECNX/IMG_1503.JPG</th>\n",
       "      <td>0.0</td>\n",
       "    </tr>\n",
       "    <tr>\n",
       "      <th>127_HH_1_6_18_T/101RECNX/IMG_1504.JPG</th>\n",
       "      <td>0.0</td>\n",
       "    </tr>\n",
       "    <tr>\n",
       "      <th>127_HH_1_6_18_T/101RECNX/IMG_1505.JPG</th>\n",
       "      <td>0.0</td>\n",
       "    </tr>\n",
       "  </tbody>\n",
       "</table>\n",
       "<p>18962 rows × 1 columns</p>\n",
       "</div>"
      ],
      "text/plain": [
       "                                       actual\n",
       "SourceFile                                   \n",
       "100_HH_11_5_18100_BTCF_T/IMG_0318.JPG     1.0\n",
       "100_HH_11_5_18100_BTCF_T/IMG_0321.JPG     1.0\n",
       "100_HH_11_5_18100_BTCF_T/IMG_0322.JPG     1.0\n",
       "100_HH_11_5_18100_BTCF_T/IMG_0325.JPG     1.0\n",
       "100_HH_11_5_18100_BTCF_T/IMG_0326.JPG     1.0\n",
       "...                                       ...\n",
       "127_HH_1_6_18_T/101RECNX/IMG_1499.JPG     0.0\n",
       "127_HH_1_6_18_T/101RECNX/IMG_1500.JPG     0.0\n",
       "127_HH_1_6_18_T/101RECNX/IMG_1503.JPG     0.0\n",
       "127_HH_1_6_18_T/101RECNX/IMG_1504.JPG     0.0\n",
       "127_HH_1_6_18_T/101RECNX/IMG_1505.JPG     0.0\n",
       "\n",
       "[18962 rows x 1 columns]"
      ]
     },
     "execution_count": 4,
     "metadata": {},
     "output_type": "execute_result"
    }
   ],
   "source": [
    "actual1 = pd.DataFrame(np.ones(9481),index = hu.SourceFile, columns = [\"actual\"])\n",
    "actual2 = pd.DataFrame(np.zeros(9481),index = notHu.SourceFile, columns = [\"actual\"])\n",
    "actual = pd.concat([actual1, actual2])\n",
    "actual"
   ]
  },
  {
   "cell_type": "code",
   "execution_count": 5,
   "metadata": {},
   "outputs": [],
   "source": [
    "def ReadJSON_p(path, precision):\n",
    "    dic = {}\n",
    "    con = precision\n",
    "    for j in jsonFiles:\n",
    "        with open(path + j) as f:\n",
    "            data = json.load(f)\n",
    "        name = j.replace(\"+\", \"/\").replace(\"_keypoints.json\", \".JPG\")\n",
    "        dic[name] = 0 #default\n",
    "        if len(data[\"people\"]) != 0:\n",
    "            for p in data[\"people\"]:\n",
    "                max_con = max(p[\"pose_keypoints_2d\"][2:45:3])\n",
    "                if max_con >= con:\n",
    "                    dic[name] = 1  \n",
    "    return dic"
   ]
  },
  {
   "cell_type": "code",
   "execution_count": 6,
   "metadata": {},
   "outputs": [],
   "source": [
    "def CM_p(path, p):#draw confusion matrix\n",
    "    df = pd.DataFrame.from_dict(ReadJSON_p(path, p), orient='index', columns=[\"predicted\"])\n",
    "    n = len(df.index)\n",
    "    df = df.merge(actual, left_index=True, right_index=True)\n",
    "    cf_matrix = pd.crosstab(df['actual'], df['predicted'], rownames=['Actual'], colnames=['Predicted'])\n",
    "    print(cf_matrix)\n",
    "    cf_matrix = cf_matrix.to_numpy()\n",
    "    #sn.heatmap(cf_matrix, annot=True)\n",
    "    #ax = sn.heatmap(cf_matrix, annot=True, fmt = '.1f', square=1, linewidth=1.)\n",
    "    #for t in ax.texts: t.set_text(str(float(\"{:.2f}\".format(float(t.get_text()) / n * 100))) + \" %\")\n",
    "    group_names = [\"True Neg\",\"False Pos\",\"False Neg\",\"True Pos\"]\n",
    "    group_counts = [\"{0:0.0f}\".format(value) for value in cf_matrix.flatten()]\n",
    "    group_percentages = [\"{0:.2%}\".format(value) for value in cf_matrix.flatten()/np.sum(cf_matrix)]\n",
    "    labels = [f\"{v1}\\n{v2}\\n{v3}\" for v1, v2, v3 in zip(group_names,group_counts,group_percentages)]\n",
    "    labels = np.asarray(labels).reshape(2,2)\n",
    "    sn.heatmap(cf_matrix, annot=labels, fmt=\"\", cmap='Blues')\n",
    "    plt.show()\n",
    "    return cf_matrix"
   ]
  },
  {
   "cell_type": "code",
   "execution_count": 7,
   "metadata": {},
   "outputs": [],
   "source": [
    "#BODY25 = CM(\"../Data/BODY25/\")\n",
    "#COCO = CM(\"../Data/COCO/\")\n",
    "#MPI = CM(\"../Data/MPI/\")"
   ]
  },
  {
   "cell_type": "code",
   "execution_count": 8,
   "metadata": {},
   "outputs": [],
   "source": [
    "def calstats(m):\n",
    "    tn = m[0][0]#True Neg\n",
    "    fp = m[0][1]#False Pos\n",
    "    fn = m[1][0]#False Neg\n",
    "    tp = m[1][1]#True Pos\n",
    "    accuracy = (tp + tn) / (tn + tp + fn + fp)\n",
    "    precision = tp / (tp + fp)\n",
    "    recall = tp / (tp + fn)\n",
    "    f1score = (2 * tp) / (2 * tp + fp + fn)\n",
    "    return {\"accuracy\":accuracy, \"precision\":precision, \"recall\":recall, \"f1score\":f1score}"
   ]
  },
  {
   "cell_type": "code",
   "execution_count": 14,
   "metadata": {},
   "outputs": [
    {
     "name": "stdout",
     "output_type": "stream",
     "text": [
      "Predicted     0     1\n",
      "Actual               \n",
      "0.0        8556   925\n",
      "1.0        4403  5078\n"
     ]
    },
    {
     "data": {
      "image/png": "[encoded data removed]",
      "text/plain": [
       "<Figure size 432x288 with 2 Axes>"
      ]
     },
     "metadata": {
      "needs_background": "light"
     },
     "output_type": "display_data"
    },
    {
     "data": {
      "text/plain": [
       "{'accuracy': 0.7190169813310833,\n",
       " 'precision': 0.8459103781442612,\n",
       " 'recall': 0.5355975108110959,\n",
       " 'f1score': 0.6559028674761044}"
      ]
     },
     "execution_count": 14,
     "metadata": {},
     "output_type": "execute_result"
    }
   ],
   "source": [
    "#BODY25 = CM_p(\"../Data/BODY25/\",0)\n",
    "#Predicted     0     1\n",
    "#Actual               \n",
    "#0.0        6404  3077\n",
    "#1.0        3264  6217\n",
    "\n",
    "BODY25 = CM_p(\"../Data/BODY25/\", 0.5)\n",
    "calstats(BODY25)\n",
    "\n"
   ]
  },
  {
   "cell_type": "code",
   "execution_count": 10,
   "metadata": {},
   "outputs": [
    {
     "name": "stdout",
     "output_type": "stream",
     "text": [
      "8556\n",
      "925\n",
      "4403\n",
      "5078\n"
     ]
    }
   ],
   "source": [
    "print(BODY25[0][0])#True Neg\n",
    "print(BODY25[0][1])#False Pos\n",
    "print(BODY25[1][0])#False Neg\n",
    "print(BODY25[1][1])#True Pos"
   ]
  }
 ],
 "metadata": {
  "kernelspec": {
   "display_name": "Python 3",
   "language": "python",
   "name": "python3"
  },
  "language_info": {
   "codemirror_mode": {
    "name": "ipython",
    "version": 3
   },
   "file_extension": ".py",
   "mimetype": "text/x-python",
   "name": "python",
   "nbconvert_exporter": "python",
   "pygments_lexer": "ipython3",
   "version": "3.7.3"
  }
 },
 "nbformat": 4,
 "nbformat_minor": 2
}
