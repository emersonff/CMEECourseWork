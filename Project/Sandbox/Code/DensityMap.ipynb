{
 "cells": [
  {
   "cell_type": "code",
   "execution_count": 1,
   "metadata": {},
   "outputs": [],
   "source": [
    "import gmaps\n",
    "import gmaps.datasets\n",
    "import pandas as pd #'1.0.4'\n",
    "import seaborn as sn"
   ]
  },
  {
   "cell_type": "code",
   "execution_count": 2,
   "metadata": {},
   "outputs": [],
   "source": [
    "KEY = \"......\"\n",
    "gmaps.configure(api_key = KEY) # Fill in with your API key"
   ]
  },
  {
   "cell_type": "code",
   "execution_count": 3,
   "metadata": {},
   "outputs": [],
   "source": [
    "d = pd.read_csv(\"../Data/SkeletonCount.csv\")\n",
    "coor = pd.read_csv(\"../Data/coor.csv\")"
   ]
  },
  {
   "cell_type": "code",
   "execution_count": 4,
   "metadata": {},
   "outputs": [],
   "source": [
    "temp = d.groupby(\"placeID\").sum().reset_index()[[\"placeID\", \"Count\"]]"
   ]
  },
  {
   "cell_type": "code",
   "execution_count": 5,
   "metadata": {
    "scrolled": false
   },
   "outputs": [
    {
     "data": {
      "text/html": [
       "<div>\n",
       "<style scoped>\n",
       "    .dataframe tbody tr th:only-of-type {\n",
       "        vertical-align: middle;\n",
       "    }\n",
       "\n",
       "    .dataframe tbody tr th {\n",
       "        vertical-align: top;\n",
       "    }\n",
       "\n",
       "    .dataframe thead th {\n",
       "        text-align: right;\n",
       "    }\n",
       "</style>\n",
       "<table border=\"1\" class=\"dataframe\">\n",
       "  <thead>\n",
       "    <tr style=\"text-align: right;\">\n",
       "      <th></th>\n",
       "      <th>placeID</th>\n",
       "      <th>Count</th>\n",
       "      <th>Long</th>\n",
       "      <th>Lat</th>\n",
       "    </tr>\n",
       "  </thead>\n",
       "  <tbody>\n",
       "    <tr>\n",
       "      <th>0</th>\n",
       "      <td>1</td>\n",
       "      <td>331</td>\n",
       "      <td>-0.150357</td>\n",
       "      <td>51.555687</td>\n",
       "    </tr>\n",
       "    <tr>\n",
       "      <th>1</th>\n",
       "      <td>2</td>\n",
       "      <td>27</td>\n",
       "      <td>-0.165098</td>\n",
       "      <td>51.556899</td>\n",
       "    </tr>\n",
       "    <tr>\n",
       "      <th>2</th>\n",
       "      <td>3</td>\n",
       "      <td>719</td>\n",
       "      <td>-0.159498</td>\n",
       "      <td>51.556765</td>\n",
       "    </tr>\n",
       "    <tr>\n",
       "      <th>3</th>\n",
       "      <td>4</td>\n",
       "      <td>19</td>\n",
       "      <td>-0.157035</td>\n",
       "      <td>51.556936</td>\n",
       "    </tr>\n",
       "    <tr>\n",
       "      <th>4</th>\n",
       "      <td>5</td>\n",
       "      <td>1670</td>\n",
       "      <td>-0.154072</td>\n",
       "      <td>51.557078</td>\n",
       "    </tr>\n",
       "    <tr>\n",
       "      <th>...</th>\n",
       "      <td>...</td>\n",
       "      <td>...</td>\n",
       "      <td>...</td>\n",
       "      <td>...</td>\n",
       "    </tr>\n",
       "    <tr>\n",
       "      <th>128</th>\n",
       "      <td>144</td>\n",
       "      <td>15</td>\n",
       "      <td>-0.184382</td>\n",
       "      <td>51.574011</td>\n",
       "    </tr>\n",
       "    <tr>\n",
       "      <th>129</th>\n",
       "      <td>145</td>\n",
       "      <td>12</td>\n",
       "      <td>-0.186500</td>\n",
       "      <td>51.575328</td>\n",
       "    </tr>\n",
       "    <tr>\n",
       "      <th>130</th>\n",
       "      <td>147</td>\n",
       "      <td>4</td>\n",
       "      <td>-0.188618</td>\n",
       "      <td>51.576644</td>\n",
       "    </tr>\n",
       "    <tr>\n",
       "      <th>131</th>\n",
       "      <td>149</td>\n",
       "      <td>1434</td>\n",
       "      <td>-0.184479</td>\n",
       "      <td>51.576778</td>\n",
       "    </tr>\n",
       "    <tr>\n",
       "      <th>132</th>\n",
       "      <td>150</td>\n",
       "      <td>11</td>\n",
       "      <td>-0.184600</td>\n",
       "      <td>51.578300</td>\n",
       "    </tr>\n",
       "  </tbody>\n",
       "</table>\n",
       "<p>133 rows × 4 columns</p>\n",
       "</div>"
      ],
      "text/plain": [
       "     placeID  Count      Long        Lat\n",
       "0          1    331 -0.150357  51.555687\n",
       "1          2     27 -0.165098  51.556899\n",
       "2          3    719 -0.159498  51.556765\n",
       "3          4     19 -0.157035  51.556936\n",
       "4          5   1670 -0.154072  51.557078\n",
       "..       ...    ...       ...        ...\n",
       "128      144     15 -0.184382  51.574011\n",
       "129      145     12 -0.186500  51.575328\n",
       "130      147      4 -0.188618  51.576644\n",
       "131      149   1434 -0.184479  51.576778\n",
       "132      150     11 -0.184600  51.578300\n",
       "\n",
       "[133 rows x 4 columns]"
      ]
     },
     "execution_count": 5,
     "metadata": {},
     "output_type": "execute_result"
    }
   ],
   "source": [
    "temp = pd.merge(temp, coor, on = \"placeID\")\n",
    "temp"
   ]
  },
  {
   "cell_type": "code",
   "execution_count": 6,
   "metadata": {
    "scrolled": true
   },
   "outputs": [
    {
     "data": {
      "application/vnd.jupyter.widget-view+json": {
       "model_id": "fdf7b86001054faaa224b04862cbbd59",
       "version_major": 2,
       "version_minor": 0
      },
      "text/plain": [
       "Figure(layout=FigureLayout(height='420px', margin='0 auto 0 auto', width='500px'))"
      ]
     },
     "metadata": {},
     "output_type": "display_data"
    }
   ],
   "source": [
    "#density of full skeleton data\n",
    "locations = temp[[\"Lat\", \"Long\"]]\n",
    "weights = temp[\"Count\"]\n",
    "figure_layout = {'width': '500px', 'margin': '0 auto 0 auto'}\n",
    "fig = gmaps.figure(layout=figure_layout,map_type='SATELLITE', display_toolbar = False)\n",
    "#fig.add_layer(gmaps.heatmap_layer(locations, weights=weights))\n",
    "heatmap_layer = gmaps.heatmap_layer(locations, weights=weights)\n",
    "heatmap_layer.max_intensity = 150\n",
    "heatmap_layer.point_radius = 6\n",
    "fig.add_layer(heatmap_layer)\n",
    "fig"
   ]
  },
  {
   "cell_type": "code",
   "execution_count": 7,
   "metadata": {},
   "outputs": [
    {
     "data": {
      "text/plain": [
       "6043"
      ]
     },
     "execution_count": 7,
     "metadata": {},
     "output_type": "execute_result"
    }
   ],
   "source": [
    "temp2 = d.groupby([\"placeID\", \"h\"]).sum().reset_index()[[\"placeID\", \"Count\", \"h\"]]\n",
    "max(temp2.Count)"
   ]
  },
  {
   "cell_type": "code",
   "execution_count": 8,
   "metadata": {},
   "outputs": [
    {
     "data": {
      "image/png": "[encoded data removed]",
      "text/plain": [
       "<Figure size 432x288 with 2 Axes>"
      ]
     },
     "metadata": {
      "needs_background": "light"
     },
     "output_type": "display_data"
    }
   ],
   "source": [
    "flights = temp2.pivot(\"placeID\", \"h\", \"Count\")\n",
    "\n",
    "ax = sn.heatmap(flights, vmin=0, vmax=400)\n",
    "ax.set_title('Time distribution of skeletons between different sites.\\nColor represents the number of skeletons')\n",
    "figure = ax.get_figure()    \n",
    "figure.savefig('../Results/heatmap_h_id.png', dpi=400)"
   ]
  },
  {
   "cell_type": "code",
   "execution_count": 9,
   "metadata": {},
   "outputs": [],
   "source": [
    "df = pd.read_csv(\"../Data/Seq_first_ske.csv\")"
   ]
  },
  {
   "cell_type": "code",
   "execution_count": 10,
   "metadata": {},
   "outputs": [
    {
     "data": {
      "text/plain": [
       "593"
      ]
     },
     "execution_count": 10,
     "metadata": {},
     "output_type": "execute_result"
    }
   ],
   "source": [
    "temp3 = df.groupby([\"placeID\", \"h\"]).sum().reset_index()[[\"placeID\", \"Count\", \"h\"]]\n",
    "max(temp3.Count)"
   ]
  },
  {
   "cell_type": "code",
   "execution_count": 11,
   "metadata": {},
   "outputs": [
    {
     "data": {
      "image/png": "[encoded data removed]",
      "text/plain": [
       "<Figure size 432x288 with 2 Axes>"
      ]
     },
     "metadata": {
      "needs_background": "light"
     },
     "output_type": "display_data"
    }
   ],
   "source": [
    "h_seq = temp3.pivot(\"placeID\", \"h\", \"Count\")\n",
    "\n",
    "ax = sn.heatmap(h_seq, vmin=0, vmax=400)\n",
    "ax.set_title('Time distribution of skeletons between different sites.\\nColor represents the number of skeletons')\n",
    "figure = ax.get_figure()    \n",
    "figure.savefig('../Results/heatmap_h_id_seq.png', dpi=400)"
   ]
  },
  {
   "cell_type": "code",
   "execution_count": 12,
   "metadata": {},
   "outputs": [],
   "source": [
    "#density map of human images detected by the openpose"
   ]
  },
  {
   "cell_type": "code",
   "execution_count": 13,
   "metadata": {},
   "outputs": [],
   "source": [
    "d = pd.read_csv(\"../Results/results_d.csv\")\n",
    "coor = pd.read_csv(\"../Data/coor.csv\")"
   ]
  },
  {
   "cell_type": "code",
   "execution_count": 14,
   "metadata": {},
   "outputs": [],
   "source": [
    "op_d = d.loc[d[\"OpenPose\"] == 1, [\"placeID\", \"OpenPose\"]]"
   ]
  },
  {
   "cell_type": "code",
   "execution_count": 15,
   "metadata": {},
   "outputs": [],
   "source": [
    "temp = op_d.groupby(\"placeID\").sum().reset_index()[[\"placeID\", \"OpenPose\"]]"
   ]
  },
  {
   "cell_type": "code",
   "execution_count": 16,
   "metadata": {},
   "outputs": [
    {
     "data": {
      "text/html": [
       "<div>\n",
       "<style scoped>\n",
       "    .dataframe tbody tr th:only-of-type {\n",
       "        vertical-align: middle;\n",
       "    }\n",
       "\n",
       "    .dataframe tbody tr th {\n",
       "        vertical-align: top;\n",
       "    }\n",
       "\n",
       "    .dataframe thead th {\n",
       "        text-align: right;\n",
       "    }\n",
       "</style>\n",
       "<table border=\"1\" class=\"dataframe\">\n",
       "  <thead>\n",
       "    <tr style=\"text-align: right;\">\n",
       "      <th></th>\n",
       "      <th>placeID</th>\n",
       "      <th>OpenPose</th>\n",
       "      <th>Long</th>\n",
       "      <th>Lat</th>\n",
       "    </tr>\n",
       "  </thead>\n",
       "  <tbody>\n",
       "    <tr>\n",
       "      <th>0</th>\n",
       "      <td>1</td>\n",
       "      <td>479</td>\n",
       "      <td>-0.150357</td>\n",
       "      <td>51.555687</td>\n",
       "    </tr>\n",
       "    <tr>\n",
       "      <th>1</th>\n",
       "      <td>2</td>\n",
       "      <td>156</td>\n",
       "      <td>-0.165098</td>\n",
       "      <td>51.556899</td>\n",
       "    </tr>\n",
       "    <tr>\n",
       "      <th>2</th>\n",
       "      <td>3</td>\n",
       "      <td>1149</td>\n",
       "      <td>-0.159498</td>\n",
       "      <td>51.556765</td>\n",
       "    </tr>\n",
       "    <tr>\n",
       "      <th>3</th>\n",
       "      <td>4</td>\n",
       "      <td>94</td>\n",
       "      <td>-0.157035</td>\n",
       "      <td>51.556936</td>\n",
       "    </tr>\n",
       "    <tr>\n",
       "      <th>4</th>\n",
       "      <td>5</td>\n",
       "      <td>2806</td>\n",
       "      <td>-0.154072</td>\n",
       "      <td>51.557078</td>\n",
       "    </tr>\n",
       "    <tr>\n",
       "      <th>...</th>\n",
       "      <td>...</td>\n",
       "      <td>...</td>\n",
       "      <td>...</td>\n",
       "      <td>...</td>\n",
       "    </tr>\n",
       "    <tr>\n",
       "      <th>131</th>\n",
       "      <td>145</td>\n",
       "      <td>75</td>\n",
       "      <td>-0.186500</td>\n",
       "      <td>51.575328</td>\n",
       "    </tr>\n",
       "    <tr>\n",
       "      <th>132</th>\n",
       "      <td>146</td>\n",
       "      <td>11</td>\n",
       "      <td>-0.184654</td>\n",
       "      <td>51.575761</td>\n",
       "    </tr>\n",
       "    <tr>\n",
       "      <th>133</th>\n",
       "      <td>147</td>\n",
       "      <td>18</td>\n",
       "      <td>-0.188618</td>\n",
       "      <td>51.576644</td>\n",
       "    </tr>\n",
       "    <tr>\n",
       "      <th>134</th>\n",
       "      <td>149</td>\n",
       "      <td>3261</td>\n",
       "      <td>-0.184479</td>\n",
       "      <td>51.576778</td>\n",
       "    </tr>\n",
       "    <tr>\n",
       "      <th>135</th>\n",
       "      <td>150</td>\n",
       "      <td>179</td>\n",
       "      <td>-0.184600</td>\n",
       "      <td>51.578300</td>\n",
       "    </tr>\n",
       "  </tbody>\n",
       "</table>\n",
       "<p>136 rows × 4 columns</p>\n",
       "</div>"
      ],
      "text/plain": [
       "     placeID  OpenPose      Long        Lat\n",
       "0          1       479 -0.150357  51.555687\n",
       "1          2       156 -0.165098  51.556899\n",
       "2          3      1149 -0.159498  51.556765\n",
       "3          4        94 -0.157035  51.556936\n",
       "4          5      2806 -0.154072  51.557078\n",
       "..       ...       ...       ...        ...\n",
       "131      145        75 -0.186500  51.575328\n",
       "132      146        11 -0.184654  51.575761\n",
       "133      147        18 -0.188618  51.576644\n",
       "134      149      3261 -0.184479  51.576778\n",
       "135      150       179 -0.184600  51.578300\n",
       "\n",
       "[136 rows x 4 columns]"
      ]
     },
     "execution_count": 16,
     "metadata": {},
     "output_type": "execute_result"
    }
   ],
   "source": [
    "temp = pd.merge(temp, coor, on = \"placeID\")\n",
    "temp"
   ]
  },
  {
   "cell_type": "code",
   "execution_count": 17,
   "metadata": {
    "scrolled": true
   },
   "outputs": [
    {
     "data": {
      "application/vnd.jupyter.widget-view+json": {
       "model_id": "f1746c242b2443cea23041dfb4a040b2",
       "version_major": 2,
       "version_minor": 0
      },
      "text/plain": [
       "Figure(layout=FigureLayout(height='420px', margin='0 auto 0 auto', width='500px'))"
      ]
     },
     "metadata": {},
     "output_type": "display_data"
    }
   ],
   "source": [
    "#density of openpose human image data\n",
    "locations = temp[[\"Lat\", \"Long\"]]\n",
    "weights = temp[\"OpenPose\"]\n",
    "figure_layout = {'width': '500px', 'margin': '0 auto 0 auto'}\n",
    "fig = gmaps.figure(layout=figure_layout,map_type='SATELLITE', display_toolbar = False)\n",
    "#fig.add_layer(gmaps.heatmap_layer(locations, weights=weights))\n",
    "heatmap_layer = gmaps.heatmap_layer(locations, weights=weights)\n",
    "heatmap_layer.max_intensity = 150\n",
    "heatmap_layer.point_radius = 6\n",
    "fig.add_layer(heatmap_layer)\n",
    "fig"
   ]
  },
  {
   "cell_type": "code",
   "execution_count": 61,
   "metadata": {},
   "outputs": [],
   "source": [
    "#presence_map = gmaps.symbolabs_layer(\n",
    "#   temp[[\"Lat\",\"Long\"]], fill_color='red', stroke_color='blue',fill_opacity = 0.5, stroke_opacity=0,\n",
    "#     scale=[int(x / 1000) + 5 for x in list(temp[\"OpenPose\"])], info_box_content=[str(x) for x in list(temp[\"placeID\"])])\n",
    "\n",
    "#fig = gmaps.figure()\n",
    "#fig.add_layer(presence_map)\n",
    "#fig"
   ]
  },
  {
   "cell_type": "code",
   "execution_count": 38,
   "metadata": {},
   "outputs": [],
   "source": [
    "xiangD = pd.read_csv(\"~/Downloads/landscape.csv\")"
   ]
  },
  {
   "cell_type": "code",
   "execution_count": 47,
   "metadata": {
    "scrolled": true
   },
   "outputs": [
    {
     "data": {
      "text/html": [
       "<div>\n",
       "<style scoped>\n",
       "    .dataframe tbody tr th:only-of-type {\n",
       "        vertical-align: middle;\n",
       "    }\n",
       "\n",
       "    .dataframe tbody tr th {\n",
       "        vertical-align: top;\n",
       "    }\n",
       "\n",
       "    .dataframe thead th {\n",
       "        text-align: right;\n",
       "    }\n",
       "</style>\n",
       "<table border=\"1\" class=\"dataframe\">\n",
       "  <thead>\n",
       "    <tr style=\"text-align: right;\">\n",
       "      <th></th>\n",
       "      <th>Place ID</th>\n",
       "      <th>Latitude</th>\n",
       "      <th>Longitude</th>\n",
       "    </tr>\n",
       "  </thead>\n",
       "  <tbody>\n",
       "    <tr>\n",
       "      <th>0</th>\n",
       "      <td>Ayos</td>\n",
       "      <td>3.906557</td>\n",
       "      <td>12.525616</td>\n",
       "    </tr>\n",
       "    <tr>\n",
       "      <th>1</th>\n",
       "      <td>Bokito</td>\n",
       "      <td>4.572275</td>\n",
       "      <td>11.118336</td>\n",
       "    </tr>\n",
       "    <tr>\n",
       "      <th>2</th>\n",
       "      <td>Dja</td>\n",
       "      <td>3.150000</td>\n",
       "      <td>13.000000</td>\n",
       "    </tr>\n",
       "    <tr>\n",
       "      <th>3</th>\n",
       "      <td>Ebolowa</td>\n",
       "      <td>2.921054</td>\n",
       "      <td>11.153526</td>\n",
       "    </tr>\n",
       "    <tr>\n",
       "      <th>4</th>\n",
       "      <td>Elat</td>\n",
       "      <td>2.680026</td>\n",
       "      <td>10.837815</td>\n",
       "    </tr>\n",
       "    <tr>\n",
       "      <th>5</th>\n",
       "      <td>Konye</td>\n",
       "      <td>4.922287</td>\n",
       "      <td>9.464687</td>\n",
       "    </tr>\n",
       "    <tr>\n",
       "      <th>6</th>\n",
       "      <td>Ngoumou</td>\n",
       "      <td>3.589449</td>\n",
       "      <td>11.306906</td>\n",
       "    </tr>\n",
       "    <tr>\n",
       "      <th>7</th>\n",
       "      <td>Somalomo</td>\n",
       "      <td>3.381138</td>\n",
       "      <td>12.734300</td>\n",
       "    </tr>\n",
       "  </tbody>\n",
       "</table>\n",
       "</div>"
      ],
      "text/plain": [
       "   Place ID  Latitude  Longitude\n",
       "0      Ayos  3.906557  12.525616\n",
       "1    Bokito  4.572275  11.118336\n",
       "2       Dja  3.150000  13.000000\n",
       "3   Ebolowa  2.921054  11.153526\n",
       "4      Elat  2.680026  10.837815\n",
       "5     Konye  4.922287   9.464687\n",
       "6   Ngoumou  3.589449  11.306906\n",
       "7  Somalomo  3.381138  12.734300"
      ]
     },
     "execution_count": 47,
     "metadata": {},
     "output_type": "execute_result"
    }
   ],
   "source": [
    "xiangD"
   ]
  },
  {
   "cell_type": "code",
   "execution_count": 49,
   "metadata": {
    "scrolled": false
   },
   "outputs": [
    {
     "data": {
      "application/vnd.jupyter.widget-view+json": {
       "model_id": "ac9b10e79b364f76a5df81ffcd232df5",
       "version_major": 2,
       "version_minor": 0
      },
      "text/plain": [
       "Figure(layout=FigureLayout(height='420px'))"
      ]
     },
     "metadata": {},
     "output_type": "display_data"
    }
   ],
   "source": [
    "\n",
    "\n",
    "starbucks_layer = gmaps.symbol_layer(\n",
    "    xiangD[['Latitude', 'Longitude']], fill_color='red', stroke_color='red', scale=4, info_box_content = list(xiangD[\"Place ID\"]))\n",
    "fig = gmaps.figure()\n",
    "fig.add_layer(starbucks_layer)\n",
    "fig"
   ]
  }
 ],
 "metadata": {
  "kernelspec": {
   "display_name": "Python 3",
   "language": "python",
   "name": "python3"
  },
  "language_info": {
   "codemirror_mode": {
    "name": "ipython",
    "version": 3
   },
   "file_extension": ".py",
   "mimetype": "text/x-python",
   "name": "python",
   "nbconvert_exporter": "python",
   "pygments_lexer": "ipython3",
   "version": "3.7.3"
  }
 },
 "nbformat": 4,
 "nbformat_minor": 2
}
