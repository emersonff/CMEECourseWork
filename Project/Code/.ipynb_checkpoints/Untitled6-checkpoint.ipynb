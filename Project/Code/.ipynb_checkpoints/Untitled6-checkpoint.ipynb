{
 "cells": [
  {
   "cell_type": "code",
   "execution_count": 11,
   "metadata": {},
   "outputs": [],
   "source": [
    "import sys\n",
    "import pandas as pd #'1.0.4'\n",
    "import scipy as sc\n",
    "import numpy as np\n",
    "import re\n",
    "import shutil\n",
    "from datetime import datetime\n",
    "#get first image of every squence"
   ]
  },
  {
   "cell_type": "code",
   "execution_count": 2,
   "metadata": {},
   "outputs": [],
   "source": [
    "int_low = 7#time interval\n",
    "int_up = 19\n",
    "seq_interval = 45 #every 45 seconds"
   ]
  },
  {
   "cell_type": "code",
   "execution_count": 3,
   "metadata": {},
   "outputs": [],
   "source": [
    "d = pd.read_csv(\"../Data/SkeletonCount.csv\")\n",
    "d.insert(0, \"Folder\", d.SourceFile.str.extract(r'(\\d+_.*)IMG'))\n",
    "d.insert(1, \"ImageId\", d.SourceFile.str.extract(r'IMG_(\\d*).JPG'))"
   ]
  },
  {
   "cell_type": "code",
   "execution_count": 4,
   "metadata": {},
   "outputs": [],
   "source": [
    "d = d.loc[(d[\"h\"] >= 7) & (d[\"h\"] <= 19)]"
   ]
  },
  {
   "cell_type": "code",
   "execution_count": 5,
   "metadata": {
    "scrolled": true
   },
   "outputs": [
    {
     "data": {
      "text/html": [
       "<div>\n",
       "<style scoped>\n",
       "    .dataframe tbody tr th:only-of-type {\n",
       "        vertical-align: middle;\n",
       "    }\n",
       "\n",
       "    .dataframe tbody tr th {\n",
       "        vertical-align: top;\n",
       "    }\n",
       "\n",
       "    .dataframe thead th {\n",
       "        text-align: right;\n",
       "    }\n",
       "</style>\n",
       "<table border=\"1\" class=\"dataframe\">\n",
       "  <thead>\n",
       "    <tr style=\"text-align: right;\">\n",
       "      <th></th>\n",
       "      <th>Folder</th>\n",
       "      <th>ImageId</th>\n",
       "      <th>SourceFile</th>\n",
       "      <th>Count</th>\n",
       "      <th>CreateDate</th>\n",
       "      <th>h</th>\n",
       "      <th>placeID</th>\n",
       "    </tr>\n",
       "  </thead>\n",
       "  <tbody>\n",
       "    <tr>\n",
       "      <th>0</th>\n",
       "      <td>6_HH_1_5_18_DCIM/100RECNX/</td>\n",
       "      <td>3428</td>\n",
       "      <td>6_HH_1_5_18_DCIM/100RECNX/IMG_3428.JPG</td>\n",
       "      <td>2</td>\n",
       "      <td>2018:04:25 16:33:55</td>\n",
       "      <td>16.0</td>\n",
       "      <td>6</td>\n",
       "    </tr>\n",
       "    <tr>\n",
       "      <th>1</th>\n",
       "      <td>97_HH_15_06_18/102RECNX/</td>\n",
       "      <td>2673</td>\n",
       "      <td>97_HH_15_06_18/102RECNX/IMG_2673.JPG</td>\n",
       "      <td>1</td>\n",
       "      <td>2018:06:14 13:45:09</td>\n",
       "      <td>13.0</td>\n",
       "      <td>97</td>\n",
       "    </tr>\n",
       "    <tr>\n",
       "      <th>2</th>\n",
       "      <td>96_HH_15_06_18/100RECNX/</td>\n",
       "      <td>0672</td>\n",
       "      <td>96_HH_15_06_18/100RECNX/IMG_0672.JPG</td>\n",
       "      <td>1</td>\n",
       "      <td>2018:06:05 17:29:25</td>\n",
       "      <td>17.0</td>\n",
       "      <td>96</td>\n",
       "    </tr>\n",
       "    <tr>\n",
       "      <th>3</th>\n",
       "      <td>34_HH_1_6_18/100_BTCF/</td>\n",
       "      <td>2135</td>\n",
       "      <td>34_HH_1_6_18/100_BTCF/IMG_2135.JPG</td>\n",
       "      <td>1</td>\n",
       "      <td>2018:05:18 15:44:49</td>\n",
       "      <td>15.0</td>\n",
       "      <td>34</td>\n",
       "    </tr>\n",
       "    <tr>\n",
       "      <th>4</th>\n",
       "      <td>97_HH_15_06_18/100RECNX/</td>\n",
       "      <td>6217</td>\n",
       "      <td>97_HH_15_06_18/100RECNX/IMG_6217.JPG</td>\n",
       "      <td>1</td>\n",
       "      <td>2018:06:08 10:28:05</td>\n",
       "      <td>10.0</td>\n",
       "      <td>97</td>\n",
       "    </tr>\n",
       "    <tr>\n",
       "      <th>...</th>\n",
       "      <td>...</td>\n",
       "      <td>...</td>\n",
       "      <td>...</td>\n",
       "      <td>...</td>\n",
       "      <td>...</td>\n",
       "      <td>...</td>\n",
       "      <td>...</td>\n",
       "    </tr>\n",
       "    <tr>\n",
       "      <th>70949</th>\n",
       "      <td>74_HH_2_5_18_BTCF/</td>\n",
       "      <td>1556</td>\n",
       "      <td>74_HH_2_5_18_BTCF/IMG_1556.JPG</td>\n",
       "      <td>1</td>\n",
       "      <td>2018:04:23 13:34:22</td>\n",
       "      <td>13.0</td>\n",
       "      <td>74</td>\n",
       "    </tr>\n",
       "    <tr>\n",
       "      <th>70950</th>\n",
       "      <td>35_HH_1_6_18/100_BTCF/</td>\n",
       "      <td>3683</td>\n",
       "      <td>35_HH_1_6_18/100_BTCF/IMG_3683.JPG</td>\n",
       "      <td>1</td>\n",
       "      <td>2018:05:19 18:56:13</td>\n",
       "      <td>18.0</td>\n",
       "      <td>35</td>\n",
       "    </tr>\n",
       "    <tr>\n",
       "      <th>70951</th>\n",
       "      <td>65_HH_23_5_18/</td>\n",
       "      <td>6429</td>\n",
       "      <td>65_HH_23_5_18/IMG_6429.JPG</td>\n",
       "      <td>2</td>\n",
       "      <td>2018:05:20  16:45:18</td>\n",
       "      <td>16.0</td>\n",
       "      <td>65</td>\n",
       "    </tr>\n",
       "    <tr>\n",
       "      <th>70952</th>\n",
       "      <td>5_HH_23_4_18_DCIM/100RECNX/</td>\n",
       "      <td>3748</td>\n",
       "      <td>5_HH_23_4_18_DCIM/100RECNX/IMG_3748.JPG</td>\n",
       "      <td>1</td>\n",
       "      <td>2018:04:23 09:59:51</td>\n",
       "      <td>9.0</td>\n",
       "      <td>5</td>\n",
       "    </tr>\n",
       "    <tr>\n",
       "      <th>70953</th>\n",
       "      <td>97_HH_15_06_18/101RECNX/</td>\n",
       "      <td>2502</td>\n",
       "      <td>97_HH_15_06_18/101RECNX/IMG_2502.JPG</td>\n",
       "      <td>1</td>\n",
       "      <td>2018:06:10 11:31:13</td>\n",
       "      <td>11.0</td>\n",
       "      <td>97</td>\n",
       "    </tr>\n",
       "  </tbody>\n",
       "</table>\n",
       "<p>65263 rows × 7 columns</p>\n",
       "</div>"
      ],
      "text/plain": [
       "                            Folder ImageId  \\\n",
       "0       6_HH_1_5_18_DCIM/100RECNX/    3428   \n",
       "1         97_HH_15_06_18/102RECNX/    2673   \n",
       "2         96_HH_15_06_18/100RECNX/    0672   \n",
       "3           34_HH_1_6_18/100_BTCF/    2135   \n",
       "4         97_HH_15_06_18/100RECNX/    6217   \n",
       "...                            ...     ...   \n",
       "70949           74_HH_2_5_18_BTCF/    1556   \n",
       "70950       35_HH_1_6_18/100_BTCF/    3683   \n",
       "70951               65_HH_23_5_18/    6429   \n",
       "70952  5_HH_23_4_18_DCIM/100RECNX/    3748   \n",
       "70953     97_HH_15_06_18/101RECNX/    2502   \n",
       "\n",
       "                                    SourceFile  Count            CreateDate  \\\n",
       "0       6_HH_1_5_18_DCIM/100RECNX/IMG_3428.JPG      2   2018:04:25 16:33:55   \n",
       "1         97_HH_15_06_18/102RECNX/IMG_2673.JPG      1   2018:06:14 13:45:09   \n",
       "2         96_HH_15_06_18/100RECNX/IMG_0672.JPG      1   2018:06:05 17:29:25   \n",
       "3           34_HH_1_6_18/100_BTCF/IMG_2135.JPG      1   2018:05:18 15:44:49   \n",
       "4         97_HH_15_06_18/100RECNX/IMG_6217.JPG      1   2018:06:08 10:28:05   \n",
       "...                                        ...    ...                   ...   \n",
       "70949           74_HH_2_5_18_BTCF/IMG_1556.JPG      1   2018:04:23 13:34:22   \n",
       "70950       35_HH_1_6_18/100_BTCF/IMG_3683.JPG      1   2018:05:19 18:56:13   \n",
       "70951               65_HH_23_5_18/IMG_6429.JPG      2  2018:05:20  16:45:18   \n",
       "70952  5_HH_23_4_18_DCIM/100RECNX/IMG_3748.JPG      1   2018:04:23 09:59:51   \n",
       "70953     97_HH_15_06_18/101RECNX/IMG_2502.JPG      1   2018:06:10 11:31:13   \n",
       "\n",
       "          h  placeID  \n",
       "0      16.0        6  \n",
       "1      13.0       97  \n",
       "2      17.0       96  \n",
       "3      15.0       34  \n",
       "4      10.0       97  \n",
       "...     ...      ...  \n",
       "70949  13.0       74  \n",
       "70950  18.0       35  \n",
       "70951  16.0       65  \n",
       "70952   9.0        5  \n",
       "70953  11.0       97  \n",
       "\n",
       "[65263 rows x 7 columns]"
      ]
     },
     "execution_count": 5,
     "metadata": {},
     "output_type": "execute_result"
    }
   ],
   "source": [
    "d"
   ]
  },
  {
   "cell_type": "code",
   "execution_count": 6,
   "metadata": {},
   "outputs": [
    {
     "data": {
      "text/plain": [
       "'6_HH_1_5_18_DCIM/100RECNX/'"
      ]
     },
     "execution_count": 6,
     "metadata": {},
     "output_type": "execute_result"
    }
   ],
   "source": [
    "f = d[\"Folder\"].unique()[0]\n",
    "f"
   ]
  },
  {
   "cell_type": "code",
   "execution_count": 7,
   "metadata": {
    "scrolled": true
   },
   "outputs": [
    {
     "data": {
      "text/html": [
       "<div>\n",
       "<style scoped>\n",
       "    .dataframe tbody tr th:only-of-type {\n",
       "        vertical-align: middle;\n",
       "    }\n",
       "\n",
       "    .dataframe tbody tr th {\n",
       "        vertical-align: top;\n",
       "    }\n",
       "\n",
       "    .dataframe thead th {\n",
       "        text-align: right;\n",
       "    }\n",
       "</style>\n",
       "<table border=\"1\" class=\"dataframe\">\n",
       "  <thead>\n",
       "    <tr style=\"text-align: right;\">\n",
       "      <th></th>\n",
       "      <th>Folder</th>\n",
       "      <th>ImageId</th>\n",
       "      <th>SourceFile</th>\n",
       "      <th>Count</th>\n",
       "      <th>CreateDate</th>\n",
       "      <th>h</th>\n",
       "      <th>placeID</th>\n",
       "    </tr>\n",
       "  </thead>\n",
       "  <tbody>\n",
       "    <tr>\n",
       "      <th>0</th>\n",
       "      <td>6_HH_1_5_18_DCIM/100RECNX/</td>\n",
       "      <td>0051</td>\n",
       "      <td>6_HH_1_5_18_DCIM/100RECNX/IMG_0051.JPG</td>\n",
       "      <td>1</td>\n",
       "      <td>2018:04:23 12:08:26</td>\n",
       "      <td>12.0</td>\n",
       "      <td>6</td>\n",
       "    </tr>\n",
       "    <tr>\n",
       "      <th>1</th>\n",
       "      <td>6_HH_1_5_18_DCIM/100RECNX/</td>\n",
       "      <td>0052</td>\n",
       "      <td>6_HH_1_5_18_DCIM/100RECNX/IMG_0052.JPG</td>\n",
       "      <td>1</td>\n",
       "      <td>2018:04:23 12:08:27</td>\n",
       "      <td>12.0</td>\n",
       "      <td>6</td>\n",
       "    </tr>\n",
       "    <tr>\n",
       "      <th>2</th>\n",
       "      <td>6_HH_1_5_18_DCIM/100RECNX/</td>\n",
       "      <td>0053</td>\n",
       "      <td>6_HH_1_5_18_DCIM/100RECNX/IMG_0053.JPG</td>\n",
       "      <td>2</td>\n",
       "      <td>2018:04:23 12:08:28</td>\n",
       "      <td>12.0</td>\n",
       "      <td>6</td>\n",
       "    </tr>\n",
       "    <tr>\n",
       "      <th>3</th>\n",
       "      <td>6_HH_1_5_18_DCIM/100RECNX/</td>\n",
       "      <td>0054</td>\n",
       "      <td>6_HH_1_5_18_DCIM/100RECNX/IMG_0054.JPG</td>\n",
       "      <td>1</td>\n",
       "      <td>2018:04:23 12:08:28</td>\n",
       "      <td>12.0</td>\n",
       "      <td>6</td>\n",
       "    </tr>\n",
       "    <tr>\n",
       "      <th>4</th>\n",
       "      <td>6_HH_1_5_18_DCIM/100RECNX/</td>\n",
       "      <td>0055</td>\n",
       "      <td>6_HH_1_5_18_DCIM/100RECNX/IMG_0055.JPG</td>\n",
       "      <td>1</td>\n",
       "      <td>2018:04:23 12:08:29</td>\n",
       "      <td>12.0</td>\n",
       "      <td>6</td>\n",
       "    </tr>\n",
       "    <tr>\n",
       "      <th>...</th>\n",
       "      <td>...</td>\n",
       "      <td>...</td>\n",
       "      <td>...</td>\n",
       "      <td>...</td>\n",
       "      <td>...</td>\n",
       "      <td>...</td>\n",
       "      <td>...</td>\n",
       "    </tr>\n",
       "    <tr>\n",
       "      <th>3142</th>\n",
       "      <td>6_HH_1_5_18_DCIM/100RECNX/</td>\n",
       "      <td>6287</td>\n",
       "      <td>6_HH_1_5_18_DCIM/100RECNX/IMG_6287.JPG</td>\n",
       "      <td>1</td>\n",
       "      <td>2018:04:29 08:34:13</td>\n",
       "      <td>8.0</td>\n",
       "      <td>6</td>\n",
       "    </tr>\n",
       "    <tr>\n",
       "      <th>3143</th>\n",
       "      <td>6_HH_1_5_18_DCIM/100RECNX/</td>\n",
       "      <td>6288</td>\n",
       "      <td>6_HH_1_5_18_DCIM/100RECNX/IMG_6288.JPG</td>\n",
       "      <td>1</td>\n",
       "      <td>2018:04:29 08:34:14</td>\n",
       "      <td>8.0</td>\n",
       "      <td>6</td>\n",
       "    </tr>\n",
       "    <tr>\n",
       "      <th>3144</th>\n",
       "      <td>6_HH_1_5_18_DCIM/100RECNX/</td>\n",
       "      <td>6289</td>\n",
       "      <td>6_HH_1_5_18_DCIM/100RECNX/IMG_6289.JPG</td>\n",
       "      <td>1</td>\n",
       "      <td>2018:04:29 08:34:14</td>\n",
       "      <td>8.0</td>\n",
       "      <td>6</td>\n",
       "    </tr>\n",
       "    <tr>\n",
       "      <th>3145</th>\n",
       "      <td>6_HH_1_5_18_DCIM/100RECNX/</td>\n",
       "      <td>6290</td>\n",
       "      <td>6_HH_1_5_18_DCIM/100RECNX/IMG_6290.JPG</td>\n",
       "      <td>1</td>\n",
       "      <td>2018:04:29 08:34:15</td>\n",
       "      <td>8.0</td>\n",
       "      <td>6</td>\n",
       "    </tr>\n",
       "    <tr>\n",
       "      <th>3146</th>\n",
       "      <td>6_HH_1_5_18_DCIM/100RECNX/</td>\n",
       "      <td>6291</td>\n",
       "      <td>6_HH_1_5_18_DCIM/100RECNX/IMG_6291.JPG</td>\n",
       "      <td>1</td>\n",
       "      <td>2018:04:29 09:26:36</td>\n",
       "      <td>9.0</td>\n",
       "      <td>6</td>\n",
       "    </tr>\n",
       "  </tbody>\n",
       "</table>\n",
       "<p>3147 rows × 7 columns</p>\n",
       "</div>"
      ],
      "text/plain": [
       "                          Folder ImageId  \\\n",
       "0     6_HH_1_5_18_DCIM/100RECNX/    0051   \n",
       "1     6_HH_1_5_18_DCIM/100RECNX/    0052   \n",
       "2     6_HH_1_5_18_DCIM/100RECNX/    0053   \n",
       "3     6_HH_1_5_18_DCIM/100RECNX/    0054   \n",
       "4     6_HH_1_5_18_DCIM/100RECNX/    0055   \n",
       "...                          ...     ...   \n",
       "3142  6_HH_1_5_18_DCIM/100RECNX/    6287   \n",
       "3143  6_HH_1_5_18_DCIM/100RECNX/    6288   \n",
       "3144  6_HH_1_5_18_DCIM/100RECNX/    6289   \n",
       "3145  6_HH_1_5_18_DCIM/100RECNX/    6290   \n",
       "3146  6_HH_1_5_18_DCIM/100RECNX/    6291   \n",
       "\n",
       "                                  SourceFile  Count           CreateDate  \\\n",
       "0     6_HH_1_5_18_DCIM/100RECNX/IMG_0051.JPG      1  2018:04:23 12:08:26   \n",
       "1     6_HH_1_5_18_DCIM/100RECNX/IMG_0052.JPG      1  2018:04:23 12:08:27   \n",
       "2     6_HH_1_5_18_DCIM/100RECNX/IMG_0053.JPG      2  2018:04:23 12:08:28   \n",
       "3     6_HH_1_5_18_DCIM/100RECNX/IMG_0054.JPG      1  2018:04:23 12:08:28   \n",
       "4     6_HH_1_5_18_DCIM/100RECNX/IMG_0055.JPG      1  2018:04:23 12:08:29   \n",
       "...                                      ...    ...                  ...   \n",
       "3142  6_HH_1_5_18_DCIM/100RECNX/IMG_6287.JPG      1  2018:04:29 08:34:13   \n",
       "3143  6_HH_1_5_18_DCIM/100RECNX/IMG_6288.JPG      1  2018:04:29 08:34:14   \n",
       "3144  6_HH_1_5_18_DCIM/100RECNX/IMG_6289.JPG      1  2018:04:29 08:34:14   \n",
       "3145  6_HH_1_5_18_DCIM/100RECNX/IMG_6290.JPG      1  2018:04:29 08:34:15   \n",
       "3146  6_HH_1_5_18_DCIM/100RECNX/IMG_6291.JPG      1  2018:04:29 09:26:36   \n",
       "\n",
       "         h  placeID  \n",
       "0     12.0        6  \n",
       "1     12.0        6  \n",
       "2     12.0        6  \n",
       "3     12.0        6  \n",
       "4     12.0        6  \n",
       "...    ...      ...  \n",
       "3142   8.0        6  \n",
       "3143   8.0        6  \n",
       "3144   8.0        6  \n",
       "3145   8.0        6  \n",
       "3146   9.0        6  \n",
       "\n",
       "[3147 rows x 7 columns]"
      ]
     },
     "execution_count": 7,
     "metadata": {},
     "output_type": "execute_result"
    }
   ],
   "source": [
    "subd = d.loc[d[\"Folder\"] == f].sort_values(by=['ImageId']).reset_index().drop(columns =[\"index\"])\n",
    "subd"
   ]
  },
  {
   "cell_type": "code",
   "execution_count": 24,
   "metadata": {},
   "outputs": [
    {
     "data": {
      "text/plain": [
       "3147"
      ]
     },
     "execution_count": 24,
     "metadata": {},
     "output_type": "execute_result"
    }
   ],
   "source": [
    "image_list = []\n",
    "#subd.loc[i][\"CreateDate\"]\n",
    "len(subd)"
   ]
  },
  {
   "cell_type": "code",
   "execution_count": 28,
   "metadata": {},
   "outputs": [
    {
     "ename": "KeyboardInterrupt",
     "evalue": "",
     "output_type": "error",
     "traceback": [
      "\u001b[0;31m---------------------------------------------------------------------------\u001b[0m",
      "\u001b[0;31mKeyboardInterrupt\u001b[0m                         Traceback (most recent call last)",
      "\u001b[0;32m<ipython-input-28-843231db2ab6>\u001b[0m in \u001b[0;36m<module>\u001b[0;34m\u001b[0m\n\u001b[1;32m      5\u001b[0m     \u001b[0mcurrent\u001b[0m \u001b[0;34m=\u001b[0m \u001b[0msubd\u001b[0m\u001b[0;34m.\u001b[0m\u001b[0mloc\u001b[0m\u001b[0;34m[\u001b[0m\u001b[0mi\u001b[0m\u001b[0;34m]\u001b[0m\u001b[0;34m[\u001b[0m\u001b[0;34m\"SourceFile\"\u001b[0m\u001b[0;34m]\u001b[0m\u001b[0;34m\u001b[0m\u001b[0;34m\u001b[0m\u001b[0m\n\u001b[1;32m      6\u001b[0m     \u001b[0mimage_list\u001b[0m\u001b[0;34m.\u001b[0m\u001b[0mappend\u001b[0m\u001b[0;34m(\u001b[0m\u001b[0mcurrent\u001b[0m\u001b[0;34m)\u001b[0m\u001b[0;34m\u001b[0m\u001b[0;34m\u001b[0m\u001b[0m\n\u001b[0;32m----> 7\u001b[0;31m     \u001b[0mt1\u001b[0m \u001b[0;34m=\u001b[0m \u001b[0mdatetime\u001b[0m\u001b[0;34m.\u001b[0m\u001b[0mstrptime\u001b[0m\u001b[0;34m(\u001b[0m\u001b[0msubd\u001b[0m\u001b[0;34m.\u001b[0m\u001b[0mloc\u001b[0m\u001b[0;34m[\u001b[0m\u001b[0mi\u001b[0m\u001b[0;34m]\u001b[0m\u001b[0;34m[\u001b[0m\u001b[0;34m\"CreateDate\"\u001b[0m\u001b[0;34m]\u001b[0m\u001b[0;34m,\u001b[0m \u001b[0;34m'%Y:%m:%d %H:%M:%S'\u001b[0m\u001b[0;34m)\u001b[0m\u001b[0;34m\u001b[0m\u001b[0;34m\u001b[0m\u001b[0m\n\u001b[0m\u001b[1;32m      8\u001b[0m     \u001b[0mj\u001b[0m \u001b[0;34m=\u001b[0m \u001b[0mi\u001b[0m \u001b[0;34m+\u001b[0m \u001b[0;36m1\u001b[0m\u001b[0;34m\u001b[0m\u001b[0;34m\u001b[0m\u001b[0m\n\u001b[1;32m      9\u001b[0m     \u001b[0;32mif\u001b[0m \u001b[0mj\u001b[0m \u001b[0;34m<\u001b[0m \u001b[0mlen\u001b[0m\u001b[0;34m(\u001b[0m\u001b[0msubd\u001b[0m\u001b[0;34m)\u001b[0m\u001b[0;34m:\u001b[0m\u001b[0;34m\u001b[0m\u001b[0;34m\u001b[0m\u001b[0m\n",
      "\u001b[0;32m~/.local/lib/python3.7/site-packages/pandas/core/indexing.py\u001b[0m in \u001b[0;36m__getitem__\u001b[0;34m(self, key)\u001b[0m\n\u001b[1;32m   1766\u001b[0m \u001b[0;34m\u001b[0m\u001b[0m\n\u001b[1;32m   1767\u001b[0m             \u001b[0mmaybe_callable\u001b[0m \u001b[0;34m=\u001b[0m \u001b[0mcom\u001b[0m\u001b[0;34m.\u001b[0m\u001b[0mapply_if_callable\u001b[0m\u001b[0;34m(\u001b[0m\u001b[0mkey\u001b[0m\u001b[0;34m,\u001b[0m \u001b[0mself\u001b[0m\u001b[0;34m.\u001b[0m\u001b[0mobj\u001b[0m\u001b[0;34m)\u001b[0m\u001b[0;34m\u001b[0m\u001b[0;34m\u001b[0m\u001b[0m\n\u001b[0;32m-> 1768\u001b[0;31m             \u001b[0;32mreturn\u001b[0m \u001b[0mself\u001b[0m\u001b[0;34m.\u001b[0m\u001b[0m_getitem_axis\u001b[0m\u001b[0;34m(\u001b[0m\u001b[0mmaybe_callable\u001b[0m\u001b[0;34m,\u001b[0m \u001b[0maxis\u001b[0m\u001b[0;34m=\u001b[0m\u001b[0maxis\u001b[0m\u001b[0;34m)\u001b[0m\u001b[0;34m\u001b[0m\u001b[0;34m\u001b[0m\u001b[0m\n\u001b[0m\u001b[1;32m   1769\u001b[0m \u001b[0;34m\u001b[0m\u001b[0m\n\u001b[1;32m   1770\u001b[0m     \u001b[0;32mdef\u001b[0m \u001b[0m_is_scalar_access\u001b[0m\u001b[0;34m(\u001b[0m\u001b[0mself\u001b[0m\u001b[0;34m,\u001b[0m \u001b[0mkey\u001b[0m\u001b[0;34m:\u001b[0m \u001b[0mTuple\u001b[0m\u001b[0;34m)\u001b[0m\u001b[0;34m:\u001b[0m\u001b[0;34m\u001b[0m\u001b[0;34m\u001b[0m\u001b[0m\n",
      "\u001b[0;32m~/.local/lib/python3.7/site-packages/pandas/core/indexing.py\u001b[0m in \u001b[0;36m_getitem_axis\u001b[0;34m(self, key, axis)\u001b[0m\n\u001b[1;32m   1963\u001b[0m         \u001b[0;31m# fall thru to straight lookup\u001b[0m\u001b[0;34m\u001b[0m\u001b[0;34m\u001b[0m\u001b[0;34m\u001b[0m\u001b[0m\n\u001b[1;32m   1964\u001b[0m         \u001b[0mself\u001b[0m\u001b[0;34m.\u001b[0m\u001b[0m_validate_key\u001b[0m\u001b[0;34m(\u001b[0m\u001b[0mkey\u001b[0m\u001b[0;34m,\u001b[0m \u001b[0maxis\u001b[0m\u001b[0;34m)\u001b[0m\u001b[0;34m\u001b[0m\u001b[0;34m\u001b[0m\u001b[0m\n\u001b[0;32m-> 1965\u001b[0;31m         \u001b[0;32mreturn\u001b[0m \u001b[0mself\u001b[0m\u001b[0;34m.\u001b[0m\u001b[0m_get_label\u001b[0m\u001b[0;34m(\u001b[0m\u001b[0mkey\u001b[0m\u001b[0;34m,\u001b[0m \u001b[0maxis\u001b[0m\u001b[0;34m=\u001b[0m\u001b[0maxis\u001b[0m\u001b[0;34m)\u001b[0m\u001b[0;34m\u001b[0m\u001b[0;34m\u001b[0m\u001b[0m\n\u001b[0m\u001b[1;32m   1966\u001b[0m \u001b[0;34m\u001b[0m\u001b[0m\n\u001b[1;32m   1967\u001b[0m \u001b[0;34m\u001b[0m\u001b[0m\n",
      "\u001b[0;32m~/.local/lib/python3.7/site-packages/pandas/core/indexing.py\u001b[0m in \u001b[0;36m_get_label\u001b[0;34m(self, label, axis)\u001b[0m\n\u001b[1;32m    623\u001b[0m             \u001b[0;32mraise\u001b[0m \u001b[0mIndexingError\u001b[0m\u001b[0;34m(\u001b[0m\u001b[0;34m\"no slices here, handle elsewhere\"\u001b[0m\u001b[0;34m)\u001b[0m\u001b[0;34m\u001b[0m\u001b[0;34m\u001b[0m\u001b[0m\n\u001b[1;32m    624\u001b[0m \u001b[0;34m\u001b[0m\u001b[0m\n\u001b[0;32m--> 625\u001b[0;31m         \u001b[0;32mreturn\u001b[0m \u001b[0mself\u001b[0m\u001b[0;34m.\u001b[0m\u001b[0mobj\u001b[0m\u001b[0;34m.\u001b[0m\u001b[0m_xs\u001b[0m\u001b[0;34m(\u001b[0m\u001b[0mlabel\u001b[0m\u001b[0;34m,\u001b[0m \u001b[0maxis\u001b[0m\u001b[0;34m=\u001b[0m\u001b[0maxis\u001b[0m\u001b[0;34m)\u001b[0m\u001b[0;34m\u001b[0m\u001b[0;34m\u001b[0m\u001b[0m\n\u001b[0m\u001b[1;32m    626\u001b[0m \u001b[0;34m\u001b[0m\u001b[0m\n\u001b[1;32m    627\u001b[0m     \u001b[0;32mdef\u001b[0m \u001b[0m_get_loc\u001b[0m\u001b[0;34m(\u001b[0m\u001b[0mself\u001b[0m\u001b[0;34m,\u001b[0m \u001b[0mkey\u001b[0m\u001b[0;34m:\u001b[0m \u001b[0mint\u001b[0m\u001b[0;34m,\u001b[0m \u001b[0maxis\u001b[0m\u001b[0;34m:\u001b[0m \u001b[0mint\u001b[0m\u001b[0;34m)\u001b[0m\u001b[0;34m:\u001b[0m\u001b[0;34m\u001b[0m\u001b[0;34m\u001b[0m\u001b[0m\n",
      "\u001b[0;32m~/.local/lib/python3.7/site-packages/pandas/core/generic.py\u001b[0m in \u001b[0;36mxs\u001b[0;34m(self, key, axis, level, drop_level)\u001b[0m\n\u001b[1;32m   3562\u001b[0m                 \u001b[0mindex\u001b[0m\u001b[0;34m=\u001b[0m\u001b[0mself\u001b[0m\u001b[0;34m.\u001b[0m\u001b[0mcolumns\u001b[0m\u001b[0;34m,\u001b[0m\u001b[0;34m\u001b[0m\u001b[0;34m\u001b[0m\u001b[0m\n\u001b[1;32m   3563\u001b[0m                 \u001b[0mname\u001b[0m\u001b[0;34m=\u001b[0m\u001b[0mself\u001b[0m\u001b[0;34m.\u001b[0m\u001b[0mindex\u001b[0m\u001b[0;34m[\u001b[0m\u001b[0mloc\u001b[0m\u001b[0;34m]\u001b[0m\u001b[0;34m,\u001b[0m\u001b[0;34m\u001b[0m\u001b[0;34m\u001b[0m\u001b[0m\n\u001b[0;32m-> 3564\u001b[0;31m                 \u001b[0mdtype\u001b[0m\u001b[0;34m=\u001b[0m\u001b[0mnew_values\u001b[0m\u001b[0;34m.\u001b[0m\u001b[0mdtype\u001b[0m\u001b[0;34m,\u001b[0m\u001b[0;34m\u001b[0m\u001b[0;34m\u001b[0m\u001b[0m\n\u001b[0m\u001b[1;32m   3565\u001b[0m             )\n\u001b[1;32m   3566\u001b[0m \u001b[0;34m\u001b[0m\u001b[0m\n",
      "\u001b[0;32m~/.local/lib/python3.7/site-packages/pandas/core/series.py\u001b[0m in \u001b[0;36m__init__\u001b[0;34m(self, data, index, dtype, name, copy, fastpath)\u001b[0m\n\u001b[1;32m    309\u001b[0m         \u001b[0mgeneric\u001b[0m\u001b[0;34m.\u001b[0m\u001b[0mNDFrame\u001b[0m\u001b[0;34m.\u001b[0m\u001b[0m__init__\u001b[0m\u001b[0;34m(\u001b[0m\u001b[0mself\u001b[0m\u001b[0;34m,\u001b[0m \u001b[0mdata\u001b[0m\u001b[0;34m,\u001b[0m \u001b[0mfastpath\u001b[0m\u001b[0;34m=\u001b[0m\u001b[0;32mTrue\u001b[0m\u001b[0;34m)\u001b[0m\u001b[0;34m\u001b[0m\u001b[0;34m\u001b[0m\u001b[0m\n\u001b[1;32m    310\u001b[0m         \u001b[0mself\u001b[0m\u001b[0;34m.\u001b[0m\u001b[0mname\u001b[0m \u001b[0;34m=\u001b[0m \u001b[0mname\u001b[0m\u001b[0;34m\u001b[0m\u001b[0;34m\u001b[0m\u001b[0m\n\u001b[0;32m--> 311\u001b[0;31m         \u001b[0mself\u001b[0m\u001b[0;34m.\u001b[0m\u001b[0m_set_axis\u001b[0m\u001b[0;34m(\u001b[0m\u001b[0;36m0\u001b[0m\u001b[0;34m,\u001b[0m \u001b[0mindex\u001b[0m\u001b[0;34m,\u001b[0m \u001b[0mfastpath\u001b[0m\u001b[0;34m=\u001b[0m\u001b[0;32mTrue\u001b[0m\u001b[0;34m)\u001b[0m\u001b[0;34m\u001b[0m\u001b[0;34m\u001b[0m\u001b[0m\n\u001b[0m\u001b[1;32m    312\u001b[0m \u001b[0;34m\u001b[0m\u001b[0m\n\u001b[1;32m    313\u001b[0m     \u001b[0;32mdef\u001b[0m \u001b[0m_init_dict\u001b[0m\u001b[0;34m(\u001b[0m\u001b[0mself\u001b[0m\u001b[0;34m,\u001b[0m \u001b[0mdata\u001b[0m\u001b[0;34m,\u001b[0m \u001b[0mindex\u001b[0m\u001b[0;34m=\u001b[0m\u001b[0;32mNone\u001b[0m\u001b[0;34m,\u001b[0m \u001b[0mdtype\u001b[0m\u001b[0;34m=\u001b[0m\u001b[0;32mNone\u001b[0m\u001b[0;34m)\u001b[0m\u001b[0;34m:\u001b[0m\u001b[0;34m\u001b[0m\u001b[0;34m\u001b[0m\u001b[0m\n",
      "\u001b[0;32m~/.local/lib/python3.7/site-packages/pandas/core/series.py\u001b[0m in \u001b[0;36m_set_axis\u001b[0;34m(self, axis, labels, fastpath)\u001b[0m\n\u001b[1;32m    397\u001b[0m         \u001b[0mself\u001b[0m\u001b[0;34m.\u001b[0m\u001b[0m_set_subtyp\u001b[0m\u001b[0;34m(\u001b[0m\u001b[0mis_all_dates\u001b[0m\u001b[0;34m)\u001b[0m\u001b[0;34m\u001b[0m\u001b[0;34m\u001b[0m\u001b[0m\n\u001b[1;32m    398\u001b[0m \u001b[0;34m\u001b[0m\u001b[0m\n\u001b[0;32m--> 399\u001b[0;31m         \u001b[0mobject\u001b[0m\u001b[0;34m.\u001b[0m\u001b[0m__setattr__\u001b[0m\u001b[0;34m(\u001b[0m\u001b[0mself\u001b[0m\u001b[0;34m,\u001b[0m \u001b[0;34m\"_index\"\u001b[0m\u001b[0;34m,\u001b[0m \u001b[0mlabels\u001b[0m\u001b[0;34m)\u001b[0m\u001b[0;34m\u001b[0m\u001b[0;34m\u001b[0m\u001b[0m\n\u001b[0m\u001b[1;32m    400\u001b[0m         \u001b[0;32mif\u001b[0m \u001b[0;32mnot\u001b[0m \u001b[0mfastpath\u001b[0m\u001b[0;34m:\u001b[0m\u001b[0;34m\u001b[0m\u001b[0;34m\u001b[0m\u001b[0m\n\u001b[1;32m    401\u001b[0m             \u001b[0mself\u001b[0m\u001b[0;34m.\u001b[0m\u001b[0m_data\u001b[0m\u001b[0;34m.\u001b[0m\u001b[0mset_axis\u001b[0m\u001b[0;34m(\u001b[0m\u001b[0maxis\u001b[0m\u001b[0;34m,\u001b[0m \u001b[0mlabels\u001b[0m\u001b[0;34m)\u001b[0m\u001b[0;34m\u001b[0m\u001b[0;34m\u001b[0m\u001b[0m\n",
      "\u001b[0;31mKeyboardInterrupt\u001b[0m: "
     ]
    }
   ],
   "source": [
    "i = 0\n",
    "#current = subd.loc[0][\"SourceFile\"]\n",
    "#image_list.append(current)\n",
    "while i < len(subd):\n",
    "    current = subd.loc[i][\"SourceFile\"]\n",
    "    image_list.append(current)\n",
    "    t1 = datetime.strptime(subd.loc[i][\"CreateDate\"], '%Y:%m:%d %H:%M:%S')\n",
    "    j = i + 1\n",
    "    if j < len(subd):\n",
    "        t2 = datetime.strptime(subd.loc[j][\"CreateDate\"], '%Y:%m:%d %H:%M:%S')\n",
    "        diff = (t2 - t1).total_seconds()\n",
    "        while (diff < seq_interval) & (j < len(subd) - 1):\n",
    "            j = j + 1\n",
    "            t2 = datetime.strptime(subd.loc[j][\"CreateDate\"], '%Y:%m:%d %H:%M:%S')\n",
    "            diff = (t2 - t1).total_seconds()   \n",
    "    i = j\n",
    "    "
   ]
  },
  {
   "cell_type": "code",
   "execution_count": 27,
   "metadata": {},
   "outputs": [
    {
     "data": {
      "text/plain": [
       "237"
      ]
     },
     "execution_count": 27,
     "metadata": {},
     "output_type": "execute_result"
    }
   ],
   "source": [
    "image_list"
   ]
  },
  {
   "cell_type": "code",
   "execution_count": null,
   "metadata": {},
   "outputs": [],
   "source": [
    "a = [\"a\", \"b\", \"c\", \"d\"]\n",
    "b = [\"b\", \"c\"]"
   ]
  },
  {
   "cell_type": "code",
   "execution_count": null,
   "metadata": {},
   "outputs": [],
   "source": [
    "list(set(a).difference(b))"
   ]
  },
  {
   "cell_type": "code",
   "execution_count": null,
   "metadata": {},
   "outputs": [],
   "source": [
    "from datetime import datetime\n"
   ]
  },
  {
   "cell_type": "code",
   "execution_count": null,
   "metadata": {},
   "outputs": [],
   "source": [
    "date = \"2018:04:22 15:33:29\"\n",
    "date2 = \"2018:04:22 13:33:29\""
   ]
  },
  {
   "cell_type": "code",
   "execution_count": null,
   "metadata": {},
   "outputs": [],
   "source": [
    "datetime_object = datetime.strptime(date, '%Y:%m:%d %H:%M:%S')\n",
    "date2 = datetime.strptime(date2, '%Y:%m:%d %H:%M:%S')"
   ]
  },
  {
   "cell_type": "code",
   "execution_count": null,
   "metadata": {
    "scrolled": true
   },
   "outputs": [],
   "source": [
    "(date2 - datetime_object).total_seconds()"
   ]
  },
  {
   "cell_type": "code",
   "execution_count": null,
   "metadata": {},
   "outputs": [],
   "source": [
    "date2 - datetime_object"
   ]
  },
  {
   "cell_type": "code",
   "execution_count": null,
   "metadata": {},
   "outputs": [],
   "source": [
    "list1 = [int(\"0762\"), int(\"001\"), int(\"0002\"), int(\"0100\")]\n",
    "list1.sort()\n",
    "list1"
   ]
  }
 ],
 "metadata": {
  "kernelspec": {
   "display_name": "Python 3",
   "language": "python",
   "name": "python3"
  },
  "language_info": {
   "codemirror_mode": {
    "name": "ipython",
    "version": 3
   },
   "file_extension": ".py",
   "mimetype": "text/x-python",
   "name": "python",
   "nbconvert_exporter": "python",
   "pygments_lexer": "ipython3",
   "version": "3.7.3"
  }
 },
 "nbformat": 4,
 "nbformat_minor": 2
}
