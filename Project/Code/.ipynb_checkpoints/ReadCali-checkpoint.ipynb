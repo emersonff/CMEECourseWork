{
 "cells": [
  {
   "cell_type": "code",
   "execution_count": 1,
   "metadata": {},
   "outputs": [],
   "source": [
    "\"\"\"Read calibration data, unify the format, and merge them into\n",
    "one single csv file\"\"\"\n",
    "import glob\n",
    "import pandas as pd #'1.0.4'"
   ]
  },
  {
   "cell_type": "code",
   "execution_count": 2,
   "metadata": {},
   "outputs": [],
   "source": [
    "def ReplaceComma(x):\n",
    "    \"\"\"replace semicolon(s) between tags by comma(s)\"\"\"\n",
    "    t = x.str.replace(r\";\",r\",\")\n",
    "    t = t.str.replace(r\",([^ ])\",r\";\\1\", n = 16)\n",
    "    return t.str.replace(r\",\",r\", \")"
   ]
  },
  {
   "cell_type": "code",
   "execution_count": 3,
   "metadata": {},
   "outputs": [],
   "source": [
    "allFiles = glob.glob(\"../Data/data_from_camera/*.txt\")# all file names\n",
    "cali = [pd.read_table(item) for item in allFiles]\n",
    "temp = pd.concat(cali, axis = 0)# read in one dataframe\n",
    "a = temp.apply(ReplaceComma, axis = 1)# unify format"
   ]
  },
  {
   "cell_type": "code",
   "execution_count": 4,
   "metadata": {},
   "outputs": [],
   "source": [
    "a.to_csv(\"../Data/Cali.txt\", index = False)"
   ]
  },
  {
   "cell_type": "code",
   "execution_count": 5,
   "metadata": {},
   "outputs": [],
   "source": [
    "df = pd.read_table(\"../Data/Cali.txt\", quotechar='\\0',sep = \";\")"
   ]
  },
  {
   "cell_type": "code",
   "execution_count": 6,
   "metadata": {},
   "outputs": [],
   "source": [
    "df[\"Photo\"] = df[\"Photo\"].str.replace(r\"\\\"\", r\"\")#remove quoting marks"
   ]
  },
  {
   "cell_type": "code",
   "execution_count": 7,
   "metadata": {},
   "outputs": [],
   "source": [
    "df[\"Tags\"] = df[\"Tags\"].str.replace(r\"\\\"\", r\"\")#remove quoting marks"
   ]
  },
  {
   "cell_type": "code",
   "execution_count": 8,
   "metadata": {},
   "outputs": [],
   "source": [
    "df[\"Path\"] = df[\"Path\"].str.replace(r\"\\\"\", r\"\")#remove quoting marks"
   ]
  },
  {
   "cell_type": "code",
   "execution_count": 10,
   "metadata": {},
   "outputs": [],
   "source": [
    "df[\"Date and Time\"] = df[\"Date and Time\"].str.replace(r\"/\", r\":\")"
   ]
  },
  {
   "cell_type": "code",
   "execution_count": 11,
   "metadata": {},
   "outputs": [],
   "source": [
    "#unify format\n",
    "df[\"Date and Time\"] = df[\"Date and Time\"].str.replace(r\"(\\d{2}):(\\d{2}):(\\d{4})\", r\"\\3:\\2:\\1\")"
   ]
  },
  {
   "cell_type": "code",
   "execution_count": 12,
   "metadata": {},
   "outputs": [],
   "source": [
    "df[\"SourceFile\"] =df[\"Path\"].str.extract(r'(\\d+_HH.*)')"
   ]
  },
  {
   "cell_type": "code",
   "execution_count": 13,
   "metadata": {},
   "outputs": [],
   "source": [
    "df[\"SourceFile\"] =df[\"SourceFile\"].str.replace(r\"\\\\\",\"/\" )"
   ]
  },
  {
   "cell_type": "code",
   "execution_count": 14,
   "metadata": {},
   "outputs": [],
   "source": [
    "#df.head()"
   ]
  },
  {
   "cell_type": "code",
   "execution_count": 15,
   "metadata": {},
   "outputs": [],
   "source": [
    "df.to_csv(\"../Data/Cali.csv\", index = False)"
   ]
  },
  {
   "cell_type": "code",
   "execution_count": 16,
   "metadata": {},
   "outputs": [],
   "source": [
    "df1 = df[['SourceFile','Date and Time', 'Tags']]"
   ]
  },
  {
   "cell_type": "code",
   "execution_count": 17,
   "metadata": {
    "scrolled": true
   },
   "outputs": [],
   "source": [
    "df1.columns = [\"SourceFile\", \"CreateDate\", \"Keywords\"]"
   ]
  },
  {
   "cell_type": "code",
   "execution_count": 18,
   "metadata": {},
   "outputs": [],
   "source": [
    "df1.to_csv(\"../Data/Cali_Simp.csv\", index = False)"
   ]
  },
  {
   "cell_type": "code",
   "execution_count": 19,
   "metadata": {},
   "outputs": [
    {
     "data": {
      "text/html": [
       "<div>\n",
       "<style scoped>\n",
       "    .dataframe tbody tr th:only-of-type {\n",
       "        vertical-align: middle;\n",
       "    }\n",
       "\n",
       "    .dataframe tbody tr th {\n",
       "        vertical-align: top;\n",
       "    }\n",
       "\n",
       "    .dataframe thead th {\n",
       "        text-align: right;\n",
       "    }\n",
       "</style>\n",
       "<table border=\"1\" class=\"dataframe\">\n",
       "  <thead>\n",
       "    <tr style=\"text-align: right;\">\n",
       "      <th></th>\n",
       "      <th>SourceFile</th>\n",
       "      <th>CreateDate</th>\n",
       "      <th>Keywords</th>\n",
       "    </tr>\n",
       "  </thead>\n",
       "  <tbody>\n",
       "    <tr>\n",
       "      <th>0</th>\n",
       "      <td>58_HH_2_5_18_BTCF/100_BTCF/IMG_0001.JPG</td>\n",
       "      <td>2018:04:19  13:09:46</td>\n",
       "      <td>placeID: 58</td>\n",
       "    </tr>\n",
       "    <tr>\n",
       "      <th>1</th>\n",
       "      <td>58_HH_2_5_18_BTCF/100_BTCF/IMG_0002.JPG</td>\n",
       "      <td>2018:04:19  13:09:47</td>\n",
       "      <td>placeID: 58</td>\n",
       "    </tr>\n",
       "    <tr>\n",
       "      <th>2</th>\n",
       "      <td>58_HH_2_5_18_BTCF/100_BTCF/IMG_0005.JPG</td>\n",
       "      <td>2018:04:19  13:09:48</td>\n",
       "      <td>placeID: 58</td>\n",
       "    </tr>\n",
       "    <tr>\n",
       "      <th>3</th>\n",
       "      <td>58_HH_2_5_18_BTCF/100_BTCF/IMG_0004.JPG</td>\n",
       "      <td>2018:04:19  13:09:48</td>\n",
       "      <td>placeID: 58</td>\n",
       "    </tr>\n",
       "    <tr>\n",
       "      <th>4</th>\n",
       "      <td>58_HH_2_5_18_BTCF/100_BTCF/IMG_0003.JPG</td>\n",
       "      <td>2018:04:19  13:09:48</td>\n",
       "      <td>placeID: 58</td>\n",
       "    </tr>\n",
       "  </tbody>\n",
       "</table>\n",
       "</div>"
      ],
      "text/plain": [
       "                                SourceFile            CreateDate     Keywords\n",
       "0  58_HH_2_5_18_BTCF/100_BTCF/IMG_0001.JPG  2018:04:19  13:09:46  placeID: 58\n",
       "1  58_HH_2_5_18_BTCF/100_BTCF/IMG_0002.JPG  2018:04:19  13:09:47  placeID: 58\n",
       "2  58_HH_2_5_18_BTCF/100_BTCF/IMG_0005.JPG  2018:04:19  13:09:48  placeID: 58\n",
       "3  58_HH_2_5_18_BTCF/100_BTCF/IMG_0004.JPG  2018:04:19  13:09:48  placeID: 58\n",
       "4  58_HH_2_5_18_BTCF/100_BTCF/IMG_0003.JPG  2018:04:19  13:09:48  placeID: 58"
      ]
     },
     "execution_count": 19,
     "metadata": {},
     "output_type": "execute_result"
    }
   ],
   "source": [
    "df1.head()"
   ]
  }
 ],
 "metadata": {
  "kernelspec": {
   "display_name": "Python 3",
   "language": "python",
   "name": "python3"
  },
  "language_info": {
   "codemirror_mode": {
    "name": "ipython",
    "version": 3
   },
   "file_extension": ".py",
   "mimetype": "text/x-python",
   "name": "python",
   "nbconvert_exporter": "python",
   "pygments_lexer": "ipython3",
   "version": "3.7.3"
  }
 },
 "nbformat": 4,
 "nbformat_minor": 2
}
