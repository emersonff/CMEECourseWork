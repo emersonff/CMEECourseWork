{
 "cells": [
  {
   "cell_type": "code",
   "execution_count": 1,
   "metadata": {},
   "outputs": [],
   "source": [
    "import sys\n",
    "#import json\n",
    "import os\n",
    "import pandas as pd #'1.0.4'\n",
    "import scipy as sc\n",
    "import numpy as np\n",
    "import re\n",
    "import shutil\n",
    "#import Json\n",
    "from matplotlib import pyplot as plt\n",
    "import seaborn as sn\n",
    "from sklearn.metrics import confusion_matrix\n",
    "import Json"
   ]
  },
  {
   "cell_type": "code",
   "execution_count": 2,
   "metadata": {},
   "outputs": [
    {
     "name": "stderr",
     "output_type": "stream",
     "text": [
      "/home/xiang/anaconda3/lib/python3.7/site-packages/IPython/core/interactiveshell.py:3049: DtypeWarning: Columns (14,16) have mixed types.Specify dtype option on import or set low_memory=False.\n",
      "  interactivity=interactivity, compiler=compiler, result=result)\n"
     ]
    }
   ],
   "source": [
    "#read classifer results\n",
    "c1 = pd.read_csv(\"../Data/human_MLP_predictions_C1.csv\")\n",
    "c2 = pd.read_csv(\"../Data/human_MLP_predictions_C2.csv\")\n",
    "d = pd.read_csv(\"../Results/SkeletonCount.csv\")\n",
    "cor_d1 = pd.read_csv(\"../Data/Corrupt_d_C1.csv\")\n",
    "cor_d2 = pd.read_csv(\"../Data/Corrupt_d_C2.csv\")\n",
    "df = pd.read_csv(\"../Results/Final_Data.csv\")"
   ]
  },
  {
   "cell_type": "code",
   "execution_count": 3,
   "metadata": {},
   "outputs": [],
   "source": [
    "#concat the results into one\n",
    "cor_d = pd.concat([cor_d1, cor_d2])\n",
    "c = pd.concat([c1, c2])"
   ]
  },
  {
   "cell_type": "code",
   "execution_count": null,
   "metadata": {},
   "outputs": [],
   "source": [
    "#unify formats\n",
    "c.SourceFile = c.SourceFile.str.extract(r\"(?:c_C1+/|c_C2+/)(.*)\")\n",
    "c.SourceFile = c.SourceFile.str.replace(\"+\", \"/\")\n",
    "cor_d.SourceFile = cor_d.SourceFile.str.replace(\"+\", \"/\")"
   ]
  },
  {
   "cell_type": "code",
   "execution_count": null,
   "metadata": {},
   "outputs": [],
   "source": [
    "df = df[df.SourceFile.isin(c.SourceFile)]#remove corrupt data from orginal dataset"
   ]
  },
  {
   "cell_type": "code",
   "execution_count": null,
   "metadata": {},
   "outputs": [],
   "source": [
    "d = d.drop(d[d.SourceFile.isin(cor_d.SourceFile)].index)#remove corrupt data"
   ]
  },
  {
   "cell_type": "code",
   "execution_count": null,
   "metadata": {},
   "outputs": [],
   "source": [
    "j = Json.Json(\"../Data/p1/\", 0.5, 1)"
   ]
  },
  {
   "cell_type": "code",
   "execution_count": null,
   "metadata": {},
   "outputs": [],
   "source": [
    "j_hu = j.getHuImage"
   ]
  },
  {
   "cell_type": "code",
   "execution_count": null,
   "metadata": {
    "scrolled": true
   },
   "outputs": [],
   "source": [
    "#test dataset\n",
    "hu = pd.read_csv(\"../Results/SampleHu.csv\")\n",
    "notHu = pd.read_csv(\"../Results/SampleNotHu.csv\")\n",
    "actual1 = pd.DataFrame(np.ones(9481),index = hu.SourceFile, columns = [\"actual\"])\n",
    "actual2 = pd.DataFrame(np.zeros(9481),index = notHu.SourceFile, columns = [\"actual\"])\n",
    "test_d = pd.concat([actual1, actual2])\n",
    "test_d"
   ]
  },
  {
   "cell_type": "code",
   "execution_count": null,
   "metadata": {},
   "outputs": [],
   "source": [
    "test_d = pd.merge(test_d, c[[\"SourceFile\", \"IsHuman\"]], on = \"SourceFile\")"
   ]
  },
  {
   "cell_type": "code",
   "execution_count": null,
   "metadata": {
    "scrolled": true
   },
   "outputs": [],
   "source": [
    "def convert1(x):\n",
    "    if x == \"human\":\n",
    "        return 1\n",
    "    else:\n",
    "        return 0\n",
    "test_d.IsHuman = test_d.IsHuman.apply(convert1)"
   ]
  },
  {
   "cell_type": "code",
   "execution_count": null,
   "metadata": {},
   "outputs": [],
   "source": [
    "#Predicted1 are the results from human image classifer\n",
    "test_d.rename(columns = {\"IsHuman\" : \"Classifer\"}, inplace = True) "
   ]
  },
  {
   "cell_type": "code",
   "execution_count": null,
   "metadata": {},
   "outputs": [],
   "source": [
    "test_d"
   ]
  },
  {
   "cell_type": "code",
   "execution_count": null,
   "metadata": {},
   "outputs": [],
   "source": [
    "def cm_analysis(y_true, y_pred, filename, labels, ymap=None, figsize=(10,10), Actual = \"Actual\", Predicted = \"Predicted\"):\n",
    "    \"\"\"\n",
    "    Generate matrix plot of confusion matrix with pretty annotations.\n",
    "    The plot image is saved to disk.\n",
    "    args: \n",
    "      y_true:    true label of the data, with shape (nsamples,)\n",
    "      y_pred:    prediction of the data, with shape (nsamples,)\n",
    "      filename:  filename of figure file to save\n",
    "      labels:    string array, name the order of class labels in the confusion matrix.\n",
    "                 use `clf.classes_` if using scikit-learn models.\n",
    "                 with shape (nclass,).\n",
    "      ymap:      dict: any -> string, length == nclass.\n",
    "                 if not None, map the labels & ys to more understandable strings.\n",
    "                 Caution: original y_true, y_pred and labels must align.\n",
    "      figsize:   the size of the figure plotted.\n",
    "    \"\"\"\n",
    "    if ymap is not None:\n",
    "        y_pred = [ymap[yi] for yi in y_pred]\n",
    "        y_true = [ymap[yi] for yi in y_true]\n",
    "        labels = [ymap[yi] for yi in labels]\n",
    "    cm = confusion_matrix(y_true, y_pred, labels=labels)\n",
    "    cm_sum = np.sum(cm, axis=1, keepdims=True)\n",
    "    cm_perc = cm / cm_sum.astype(float) * 100\n",
    "    annot = np.empty_like(cm).astype(str)\n",
    "    nrows, ncols = cm.shape\n",
    "    for i in range(nrows):\n",
    "        for j in range(ncols):\n",
    "            c = cm[i, j]\n",
    "            p = cm_perc[i, j]\n",
    "            if i == j:\n",
    "                s = cm_sum[i]\n",
    "                annot[i, j] = '%.1f%%\\n%d/%d' % (p, c, s)\n",
    "            elif c == 0:\n",
    "                annot[i, j] = ''\n",
    "            else:\n",
    "                annot[i, j] = '%.1f%%\\n%d' % (p, c)\n",
    "    cm = pd.DataFrame(cm, index=labels, columns=labels)\n",
    "    cm.index.name = Actual\n",
    "    cm.columns.name = Predicted\n",
    "    fig, ax = plt.subplots(figsize=figsize)\n",
    "    sn.heatmap(cm, annot=annot, fmt='', ax=ax, cmap='Blues')\n",
    "    plt.savefig(filename)"
   ]
  },
  {
   "cell_type": "code",
   "execution_count": null,
   "metadata": {
    "scrolled": true
   },
   "outputs": [],
   "source": [
    "cm_analysis(test_d[\"actual\"], test_d[\"Classifer\"], \"../Results/test_d_classifier_cm.png\", [1, 0], ymap=None, figsize=(5,4))"
   ]
  },
  {
   "cell_type": "code",
   "execution_count": null,
   "metadata": {},
   "outputs": [],
   "source": [
    "j_hu = j.getHuImage(0.5, 2)\n",
    "j_hu = pd.DataFrame(list(j_hu.items()), columns = [\"SourceFile\", \"OpenPose\"])"
   ]
  },
  {
   "cell_type": "code",
   "execution_count": null,
   "metadata": {
    "scrolled": true
   },
   "outputs": [],
   "source": [
    "test_d_1 = pd.merge(test_d, j_hu, on = \"SourceFile\")"
   ]
  },
  {
   "cell_type": "code",
   "execution_count": null,
   "metadata": {
    "scrolled": true
   },
   "outputs": [],
   "source": [
    "cm_analysis(test_d_1[\"actual\"], test_d_1[\"OpenPose\"], \"../Results/test_d_openpose_cm_0.5_2.png\", [1, 0], ymap=None, figsize=(5,4))"
   ]
  },
  {
   "cell_type": "code",
   "execution_count": null,
   "metadata": {},
   "outputs": [],
   "source": []
  },
  {
   "cell_type": "code",
   "execution_count": null,
   "metadata": {},
   "outputs": [],
   "source": []
  },
  {
   "cell_type": "code",
   "execution_count": null,
   "metadata": {},
   "outputs": [],
   "source": [
    "j_hu = j.getHuImage(0.5, 1)\n",
    "j_hu = pd.DataFrame(list(j_hu.items()), columns = [\"SourceFile\", \"OpenPose\"])"
   ]
  },
  {
   "cell_type": "code",
   "execution_count": null,
   "metadata": {},
   "outputs": [],
   "source": [
    "test_d_2 = pd.merge(test_d, j_hu, on = \"SourceFile\")"
   ]
  },
  {
   "cell_type": "code",
   "execution_count": null,
   "metadata": {
    "scrolled": true
   },
   "outputs": [],
   "source": [
    "cm_analysis(test_d_2[\"actual\"], test_d_2[\"OpenPose\"], \"../Results/test_d_openpose_cm_0.5_1.png\", [1, 0], ymap=None, figsize=(5,4))"
   ]
  },
  {
   "cell_type": "code",
   "execution_count": null,
   "metadata": {},
   "outputs": [],
   "source": [
    "j_hu = j.getHuImage(0.4, 1)\n",
    "j_hu = pd.DataFrame(list(j_hu.items()), columns = [\"SourceFile\", \"OpenPose\"])\n",
    "test_d_3 = pd.merge(test_d, j_hu, on = \"SourceFile\")\n",
    "cm_analysis(test_d_3[\"actual\"], test_d_3[\"OpenPose\"], \"../Results/test_d_openpose_cm_0.4_1.png\", [1, 0], ymap=None, figsize=(5,4))"
   ]
  },
  {
   "cell_type": "code",
   "execution_count": null,
   "metadata": {
    "scrolled": true
   },
   "outputs": [],
   "source": [
    "j_hu = j.getHuImage(0.4, 2)\n",
    "j_hu = pd.DataFrame(list(j_hu.items()), columns = [\"SourceFile\", \"OpenPose\"])\n",
    "test_d_4 = pd.merge(test_d, j_hu, on = \"SourceFile\")\n",
    "cm_analysis(test_d_4[\"actual\"], test_d_4[\"OpenPose\"], \"../Results/test_d_openpose_cm_0.1_1.png\", [1, 0], ymap=None, figsize=(5,4))"
   ]
  },
  {
   "cell_type": "code",
   "execution_count": null,
   "metadata": {},
   "outputs": [],
   "source": [
    "j_hu = j.getHuImage(0.6, 1)\n",
    "j_hu = pd.DataFrame(list(j_hu.items()), columns = [\"SourceFile\", \"OpenPose\"])\n",
    "test_d_4 = pd.merge(test_d, j_hu, on = \"SourceFile\")\n",
    "cm_analysis(test_d_4[\"actual\"], test_d_4[\"OpenPose\"], \"../Results/test_d_openpose_cm_0.6_1.png\", [1, 0], ymap=None, figsize=(5,4))"
   ]
  },
  {
   "cell_type": "code",
   "execution_count": null,
   "metadata": {},
   "outputs": [],
   "source": [
    "j_hu = j.getHuImage(0.6, 2)\n",
    "j_hu = pd.DataFrame(list(j_hu.items()), columns = [\"SourceFile\", \"OpenPose\"])\n",
    "test_d_4 = pd.merge(test_d, j_hu, on = \"SourceFile\")\n",
    "cm_analysis(test_d_4[\"actual\"], test_d_4[\"OpenPose\"], \"../Results/test_d_openpose_cm_0.6_2.png\", [1, 0], ymap=None, figsize=(5,4))"
   ]
  },
  {
   "cell_type": "code",
   "execution_count": null,
   "metadata": {
    "scrolled": true
   },
   "outputs": [],
   "source": [
    "#test_d"
   ]
  },
  {
   "cell_type": "code",
   "execution_count": null,
   "metadata": {},
   "outputs": [],
   "source": [
    "c.IsHuman = c.IsHuman.apply(convert1)"
   ]
  },
  {
   "cell_type": "code",
   "execution_count": null,
   "metadata": {},
   "outputs": [],
   "source": [
    "re = df[[\"SourceFile\", \"CreateDate\", \"placeID\", \"h\"]]"
   ]
  },
  {
   "cell_type": "code",
   "execution_count": null,
   "metadata": {},
   "outputs": [],
   "source": [
    "re1 = c[[\"SourceFile\", \"human_prob\", \"non_human_prob\", \"IsHuman\"]]"
   ]
  },
  {
   "cell_type": "code",
   "execution_count": null,
   "metadata": {
    "scrolled": true
   },
   "outputs": [],
   "source": [
    "result = pd.merge(re, re1, on = \"SourceFile\")\n"
   ]
  },
  {
   "cell_type": "code",
   "execution_count": null,
   "metadata": {},
   "outputs": [],
   "source": [
    "result"
   ]
  },
  {
   "cell_type": "code",
   "execution_count": null,
   "metadata": {},
   "outputs": [],
   "source": [
    "j_hu = j.getHuImage(0.5, 1)\n",
    "j_hu = pd.DataFrame(list(j_hu.items()), columns = [\"SourceFile\", \"OpenPose\"])"
   ]
  },
  {
   "cell_type": "code",
   "execution_count": null,
   "metadata": {
    "scrolled": false
   },
   "outputs": [],
   "source": [
    "result_d = pd.merge(result, j_hu, on = \"SourceFile\")\n",
    "result_d"
   ]
  },
  {
   "cell_type": "code",
   "execution_count": null,
   "metadata": {},
   "outputs": [],
   "source": [
    "result_d.CreateDate = result_d.CreateDate.str.replace(r\"\\s\\s+\", r\" \")"
   ]
  },
  {
   "cell_type": "code",
   "execution_count": null,
   "metadata": {},
   "outputs": [],
   "source": [
    "result_d.to_csv(\"../Results/results_d.csv\", index = False)"
   ]
  },
  {
   "cell_type": "code",
   "execution_count": null,
   "metadata": {
    "scrolled": true
   },
   "outputs": [],
   "source": [
    "cm_analysis(result_d[\"IsHuman\"], result_d[\"OpenPose\"], \"../Results/test_d_openpose_cm_0.1_1.png\", [1, 0], ymap=None, figsize=(5,4), Actual = \"Classifer result\", Predicted = \"OpenPose result\")"
   ]
  },
  {
   "cell_type": "code",
   "execution_count": null,
   "metadata": {},
   "outputs": [],
   "source": []
  },
  {
   "cell_type": "code",
   "execution_count": null,
   "metadata": {},
   "outputs": [],
   "source": [
    "#result = pd.merge(re, re1, on = \"SourceFile\")\n",
    "results_t = pd.merge(test_d_2, df[[\"SourceFile\", \"h\"]], on = \"SourceFile\")\n",
    "results_t.to_csv(\"../Results/test_d_2.csv\", index = False)"
   ]
  },
  {
   "cell_type": "code",
   "execution_count": null,
   "metadata": {
    "scrolled": true
   },
   "outputs": [],
   "source": [
    "#df whole dataset\n",
    "#c CNN classifer results\n",
    "#d full skeletons number of fully skeletons\n",
    "#j_hu# 418743 openpose results as human classifer given p and nr\n"
   ]
  },
  {
   "cell_type": "code",
   "execution_count": null,
   "metadata": {},
   "outputs": [],
   "source": [
    "temp = np.array(range(60))[2::3]\n",
    "pr = 0.5\n",
    "nr = 1\n",
    "len([i for i in temp if i >= pr]) >= nr"
   ]
  },
  {
   "cell_type": "code",
   "execution_count": null,
   "metadata": {
    "scrolled": true
   },
   "outputs": [],
   "source": [
    "j_hu[j_hu.SourceFile.isin(cor_d.SourceFile)]"
   ]
  },
  {
   "cell_type": "code",
   "execution_count": null,
   "metadata": {},
   "outputs": [],
   "source": [
    "cor = j_hu[~j_hu.SourceFile.isin(result.SourceFile)]\n",
    "cor.to_csv(\"../Results/cor.csv\", index = False)"
   ]
  },
  {
   "cell_type": "code",
   "execution_count": null,
   "metadata": {},
   "outputs": [],
   "source": [
    "np.array(range(0,45,3))"
   ]
  },
  {
   "cell_type": "code",
   "execution_count": null,
   "metadata": {},
   "outputs": [],
   "source": [
    "#test_d_2\n",
    "df.CreateDate = df.CreateDate.str.replace(r\"\\s\\s+\", r\" \")\n",
    "cm_re = pd.merge(test_d_2, df[[\"SourceFile\", \"placeID\", \"CreateDate\"]], on = \"SourceFile\")"
   ]
  },
  {
   "cell_type": "code",
   "execution_count": null,
   "metadata": {},
   "outputs": [],
   "source": [
    "cm_re.to_csv(\"../Results/cm_re.csv\", index = False)"
   ]
  },
  {
   "cell_type": "code",
   "execution_count": null,
   "metadata": {
    "scrolled": true
   },
   "outputs": [],
   "source": [
    "cm_re.loc[(cm_re[\"actual\"] == 1) & (cm_re[\"OpenPose\"] == 1)]"
   ]
  },
  {
   "cell_type": "code",
   "execution_count": null,
   "metadata": {
    "scrolled": true
   },
   "outputs": [],
   "source": [
    "cm_re.loc[(cm_re[\"actual\"] == 1) & (cm_re[\"OpenPose\"] == 0)]"
   ]
  },
  {
   "cell_type": "code",
   "execution_count": null,
   "metadata": {
    "scrolled": false
   },
   "outputs": [],
   "source": [
    "result_d"
   ]
  },
  {
   "cell_type": "code",
   "execution_count": null,
   "metadata": {},
   "outputs": [],
   "source": [
    "result_d.groupby([\"placeID\", \"h\"]).sum().reset_index()[[\"placeID\", \"OpenPose\", \"h\"]]"
   ]
  },
  {
   "cell_type": "code",
   "execution_count": null,
   "metadata": {},
   "outputs": [],
   "source": [
    "hp_all = result_d.groupby([\"placeID\", \"h\"]).sum().reset_index()[[\"placeID\", \"OpenPose\", \"h\"]]\n"
   ]
  },
  {
   "cell_type": "code",
   "execution_count": null,
   "metadata": {
    "scrolled": true
   },
   "outputs": [],
   "source": [
    "flights = hp_all.pivot(\"placeID\", \"h\", \"OpenPose\")\n",
    "\n",
    "ax = sn.heatmap(flights, cmap=\"Blues\")\n",
    "#ax.set_title('Time distribution of skeletons between different sites.\\nColor represents the number of skeletons')\n",
    "figure = ax.get_figure()    \n",
    "figure.savefig('../Results/heatmap_h_id_huImage.png', dpi=400)"
   ]
  },
  {
   "cell_type": "code",
   "execution_count": null,
   "metadata": {
    "scrolled": true
   },
   "outputs": [],
   "source": [
    "hp_all.sort_values(by=['OpenPose'])"
   ]
  },
  {
   "cell_type": "code",
   "execution_count": null,
   "metadata": {},
   "outputs": [],
   "source": [
    "hp_diff_d = result_d.loc[result_d[\"OpenPose\"] != result_d[\"IsHuman\"]]"
   ]
  },
  {
   "cell_type": "code",
   "execution_count": null,
   "metadata": {
    "scrolled": true
   },
   "outputs": [],
   "source": [
    "hp_diff_d[\"OpenPose\"].replace({0: 1}, inplace=True)\n",
    "#hp_diff\n",
    "#hp_diff_d.groupby([\"placeID\", \"h\"]).sum().reset_index()[[\"placeID\", \"OpenPose\", \"h\"]]"
   ]
  },
  {
   "cell_type": "code",
   "execution_count": null,
   "metadata": {},
   "outputs": [],
   "source": [
    "hp_diff = hp_diff_d.groupby([\"placeID\", \"h\"]).sum().reset_index()[[\"placeID\", \"OpenPose\", \"h\"]]\n",
    "flights = hp_diff.pivot(\"placeID\", \"h\", \"OpenPose\")\n",
    "\n",
    "ax = sn.heatmap(flights, cmap=\"Blues\")\n",
    "#ax.set_title('Time distribution of skeletons between different sites.\\nColor represents the number of skeletons')\n",
    "figure = ax.get_figure()   \n",
    "figure.savefig('../Results/heatmap_h_id_misclassified.png', dpi=400)"
   ]
  },
  {
   "cell_type": "code",
   "execution_count": null,
   "metadata": {},
   "outputs": [],
   "source": [
    "temp_all = result_d.groupby([\"placeID\"]).sum().reset_index()[[\"placeID\", \"OpenPose\", \"h\"]]\n",
    "temp_all.sort_values(by=['OpenPose'])"
   ]
  }
 ],
 "metadata": {
  "kernelspec": {
   "display_name": "Python 3",
   "language": "python",
   "name": "python3"
  },
  "language_info": {
   "codemirror_mode": {
    "name": "ipython",
    "version": 3
   },
   "file_extension": ".py",
   "mimetype": "text/x-python",
   "name": "python",
   "nbconvert_exporter": "python",
   "pygments_lexer": "ipython3",
   "version": "3.7.3"
  }
 },
 "nbformat": 4,
 "nbformat_minor": 2
}
