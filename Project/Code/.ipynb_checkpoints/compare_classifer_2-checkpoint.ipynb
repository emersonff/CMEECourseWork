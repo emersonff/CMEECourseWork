{
 "cells": [
  {
   "cell_type": "code",
   "execution_count": 1,
   "metadata": {},
   "outputs": [],
   "source": [
    "import sys\n",
    "#import json\n",
    "import os\n",
    "import pandas as pd #'1.0.4'\n",
    "import scipy as sc\n",
    "import numpy as np\n",
    "import re\n",
    "import shutil\n",
    "#import Json\n",
    "from matplotlib import pyplot as plt\n",
    "import seaborn as sn\n",
    "from sklearn.metrics import confusion_matrix\n",
    "import Json"
   ]
  },
  {
   "cell_type": "code",
   "execution_count": 2,
   "metadata": {},
   "outputs": [
    {
     "name": "stderr",
     "output_type": "stream",
     "text": [
      "/home/xiang/anaconda3/lib/python3.7/site-packages/IPython/core/interactiveshell.py:3049: DtypeWarning: Columns (14,16) have mixed types.Specify dtype option on import or set low_memory=False.\n",
      "  interactivity=interactivity, compiler=compiler, result=result)\n"
     ]
    }
   ],
   "source": [
    "#read classifer results\n",
    "c1 = pd.read_csv(\"../Data/human_MLP_predictions_C1.csv\")\n",
    "c2 = pd.read_csv(\"../Data/human_MLP_predictions_C2.csv\")\n",
    "d = pd.read_csv(\"../Data/SkeletonCount.csv\")\n",
    "cor_d1 = pd.read_csv(\"../Data/Corrupt_d_C1.csv\")\n",
    "cor_d2 = pd.read_csv(\"../Data/Corrupt_d_C2.csv\")\n",
    "df = pd.read_csv(\"../Data/Final_Data.csv\")"
   ]
  },
  {
   "cell_type": "code",
   "execution_count": 3,
   "metadata": {},
   "outputs": [],
   "source": [
    "#concat the results into one\n",
    "cor_d = pd.concat([cor_d1, cor_d2])\n",
    "c = pd.concat([c1, c2])"
   ]
  },
  {
   "cell_type": "code",
   "execution_count": 4,
   "metadata": {},
   "outputs": [],
   "source": [
    "#unify formats\n",
    "c.SourceFile = c.SourceFile.str.extract(r\"(?:c_C1+/|c_C2+/)(.*)\")\n",
    "c.SourceFile = c.SourceFile.str.replace(\"+\", \"/\")\n",
    "cor_d.SourceFile = cor_d.SourceFile.str.replace(\"+\", \"/\")"
   ]
  },
  {
   "cell_type": "code",
   "execution_count": 5,
   "metadata": {},
   "outputs": [],
   "source": [
    "df = df[df.SourceFile.isin(c.SourceFile)]#remove corrupt data from orginal dataset"
   ]
  },
  {
   "cell_type": "code",
   "execution_count": 6,
   "metadata": {},
   "outputs": [],
   "source": [
    "d = d.drop(d[d.SourceFile.isin(cor_d.SourceFile)].index)#remove corrupt data"
   ]
  },
  {
   "cell_type": "code",
   "execution_count": 7,
   "metadata": {},
   "outputs": [],
   "source": [
    "j = Json.Json(\"../Data/p1/\", 0.5, 1)"
   ]
  },
  {
   "cell_type": "code",
   "execution_count": 8,
   "metadata": {},
   "outputs": [],
   "source": [
    "j_hu = j.getHuImage"
   ]
  },
  {
   "cell_type": "code",
   "execution_count": 9,
   "metadata": {
    "scrolled": true
   },
   "outputs": [
    {
     "data": {
      "text/html": [
       "<div>\n",
       "<style scoped>\n",
       "    .dataframe tbody tr th:only-of-type {\n",
       "        vertical-align: middle;\n",
       "    }\n",
       "\n",
       "    .dataframe tbody tr th {\n",
       "        vertical-align: top;\n",
       "    }\n",
       "\n",
       "    .dataframe thead th {\n",
       "        text-align: right;\n",
       "    }\n",
       "</style>\n",
       "<table border=\"1\" class=\"dataframe\">\n",
       "  <thead>\n",
       "    <tr style=\"text-align: right;\">\n",
       "      <th></th>\n",
       "      <th>actual</th>\n",
       "    </tr>\n",
       "    <tr>\n",
       "      <th>SourceFile</th>\n",
       "      <th></th>\n",
       "    </tr>\n",
       "  </thead>\n",
       "  <tbody>\n",
       "    <tr>\n",
       "      <th>100_HH_11_5_18100_BTCF_T/IMG_0318.JPG</th>\n",
       "      <td>1.0</td>\n",
       "    </tr>\n",
       "    <tr>\n",
       "      <th>100_HH_11_5_18100_BTCF_T/IMG_0321.JPG</th>\n",
       "      <td>1.0</td>\n",
       "    </tr>\n",
       "    <tr>\n",
       "      <th>100_HH_11_5_18100_BTCF_T/IMG_0322.JPG</th>\n",
       "      <td>1.0</td>\n",
       "    </tr>\n",
       "    <tr>\n",
       "      <th>100_HH_11_5_18100_BTCF_T/IMG_0325.JPG</th>\n",
       "      <td>1.0</td>\n",
       "    </tr>\n",
       "    <tr>\n",
       "      <th>100_HH_11_5_18100_BTCF_T/IMG_0326.JPG</th>\n",
       "      <td>1.0</td>\n",
       "    </tr>\n",
       "    <tr>\n",
       "      <th>...</th>\n",
       "      <td>...</td>\n",
       "    </tr>\n",
       "    <tr>\n",
       "      <th>127_HH_1_6_18_T/101RECNX/IMG_1499.JPG</th>\n",
       "      <td>0.0</td>\n",
       "    </tr>\n",
       "    <tr>\n",
       "      <th>127_HH_1_6_18_T/101RECNX/IMG_1500.JPG</th>\n",
       "      <td>0.0</td>\n",
       "    </tr>\n",
       "    <tr>\n",
       "      <th>127_HH_1_6_18_T/101RECNX/IMG_1503.JPG</th>\n",
       "      <td>0.0</td>\n",
       "    </tr>\n",
       "    <tr>\n",
       "      <th>127_HH_1_6_18_T/101RECNX/IMG_1504.JPG</th>\n",
       "      <td>0.0</td>\n",
       "    </tr>\n",
       "    <tr>\n",
       "      <th>127_HH_1_6_18_T/101RECNX/IMG_1505.JPG</th>\n",
       "      <td>0.0</td>\n",
       "    </tr>\n",
       "  </tbody>\n",
       "</table>\n",
       "<p>18962 rows × 1 columns</p>\n",
       "</div>"
      ],
      "text/plain": [
       "                                       actual\n",
       "SourceFile                                   \n",
       "100_HH_11_5_18100_BTCF_T/IMG_0318.JPG     1.0\n",
       "100_HH_11_5_18100_BTCF_T/IMG_0321.JPG     1.0\n",
       "100_HH_11_5_18100_BTCF_T/IMG_0322.JPG     1.0\n",
       "100_HH_11_5_18100_BTCF_T/IMG_0325.JPG     1.0\n",
       "100_HH_11_5_18100_BTCF_T/IMG_0326.JPG     1.0\n",
       "...                                       ...\n",
       "127_HH_1_6_18_T/101RECNX/IMG_1499.JPG     0.0\n",
       "127_HH_1_6_18_T/101RECNX/IMG_1500.JPG     0.0\n",
       "127_HH_1_6_18_T/101RECNX/IMG_1503.JPG     0.0\n",
       "127_HH_1_6_18_T/101RECNX/IMG_1504.JPG     0.0\n",
       "127_HH_1_6_18_T/101RECNX/IMG_1505.JPG     0.0\n",
       "\n",
       "[18962 rows x 1 columns]"
      ]
     },
     "execution_count": 9,
     "metadata": {},
     "output_type": "execute_result"
    }
   ],
   "source": [
    "#test dataset\n",
    "hu = pd.read_csv(\"../Data/SampleHu.csv\")\n",
    "notHu = pd.read_csv(\"../Data/SampleNotHu.csv\")\n",
    "actual1 = pd.DataFrame(np.ones(9481),index = hu.SourceFile, columns = [\"actual\"])\n",
    "actual2 = pd.DataFrame(np.zeros(9481),index = notHu.SourceFile, columns = [\"actual\"])\n",
    "test_d = pd.concat([actual1, actual2])\n",
    "test_d"
   ]
  },
  {
   "cell_type": "code",
   "execution_count": 10,
   "metadata": {},
   "outputs": [],
   "source": [
    "test_d = pd.merge(test_d, c[[\"SourceFile\", \"IsHuman\"]], on = \"SourceFile\")"
   ]
  },
  {
   "cell_type": "code",
   "execution_count": 11,
   "metadata": {
    "scrolled": true
   },
   "outputs": [],
   "source": [
    "def convert1(x):\n",
    "    if x == \"human\":\n",
    "        return 1\n",
    "    else:\n",
    "        return 0\n",
    "test_d.IsHuman = test_d.IsHuman.apply(convert1)"
   ]
  },
  {
   "cell_type": "code",
   "execution_count": 12,
   "metadata": {},
   "outputs": [],
   "source": [
    "#Predicted1 are the results from human image classifer\n",
    "test_d.rename(columns = {\"IsHuman\" : \"Classifer\"}, inplace = True) "
   ]
  },
  {
   "cell_type": "code",
   "execution_count": 13,
   "metadata": {},
   "outputs": [
    {
     "data": {
      "text/html": [
       "<div>\n",
       "<style scoped>\n",
       "    .dataframe tbody tr th:only-of-type {\n",
       "        vertical-align: middle;\n",
       "    }\n",
       "\n",
       "    .dataframe tbody tr th {\n",
       "        vertical-align: top;\n",
       "    }\n",
       "\n",
       "    .dataframe thead th {\n",
       "        text-align: right;\n",
       "    }\n",
       "</style>\n",
       "<table border=\"1\" class=\"dataframe\">\n",
       "  <thead>\n",
       "    <tr style=\"text-align: right;\">\n",
       "      <th></th>\n",
       "      <th>SourceFile</th>\n",
       "      <th>actual</th>\n",
       "      <th>Classifer</th>\n",
       "    </tr>\n",
       "  </thead>\n",
       "  <tbody>\n",
       "    <tr>\n",
       "      <th>0</th>\n",
       "      <td>100_HH_11_5_18100_BTCF_T/IMG_0318.JPG</td>\n",
       "      <td>1.0</td>\n",
       "      <td>1</td>\n",
       "    </tr>\n",
       "    <tr>\n",
       "      <th>1</th>\n",
       "      <td>100_HH_11_5_18100_BTCF_T/IMG_0321.JPG</td>\n",
       "      <td>1.0</td>\n",
       "      <td>1</td>\n",
       "    </tr>\n",
       "    <tr>\n",
       "      <th>2</th>\n",
       "      <td>100_HH_11_5_18100_BTCF_T/IMG_0322.JPG</td>\n",
       "      <td>1.0</td>\n",
       "      <td>1</td>\n",
       "    </tr>\n",
       "    <tr>\n",
       "      <th>3</th>\n",
       "      <td>100_HH_11_5_18100_BTCF_T/IMG_0325.JPG</td>\n",
       "      <td>1.0</td>\n",
       "      <td>1</td>\n",
       "    </tr>\n",
       "    <tr>\n",
       "      <th>4</th>\n",
       "      <td>100_HH_11_5_18100_BTCF_T/IMG_0326.JPG</td>\n",
       "      <td>1.0</td>\n",
       "      <td>0</td>\n",
       "    </tr>\n",
       "    <tr>\n",
       "      <th>...</th>\n",
       "      <td>...</td>\n",
       "      <td>...</td>\n",
       "      <td>...</td>\n",
       "    </tr>\n",
       "    <tr>\n",
       "      <th>18957</th>\n",
       "      <td>127_HH_1_6_18_T/101RECNX/IMG_1499.JPG</td>\n",
       "      <td>0.0</td>\n",
       "      <td>0</td>\n",
       "    </tr>\n",
       "    <tr>\n",
       "      <th>18958</th>\n",
       "      <td>127_HH_1_6_18_T/101RECNX/IMG_1500.JPG</td>\n",
       "      <td>0.0</td>\n",
       "      <td>0</td>\n",
       "    </tr>\n",
       "    <tr>\n",
       "      <th>18959</th>\n",
       "      <td>127_HH_1_6_18_T/101RECNX/IMG_1503.JPG</td>\n",
       "      <td>0.0</td>\n",
       "      <td>0</td>\n",
       "    </tr>\n",
       "    <tr>\n",
       "      <th>18960</th>\n",
       "      <td>127_HH_1_6_18_T/101RECNX/IMG_1504.JPG</td>\n",
       "      <td>0.0</td>\n",
       "      <td>0</td>\n",
       "    </tr>\n",
       "    <tr>\n",
       "      <th>18961</th>\n",
       "      <td>127_HH_1_6_18_T/101RECNX/IMG_1505.JPG</td>\n",
       "      <td>0.0</td>\n",
       "      <td>0</td>\n",
       "    </tr>\n",
       "  </tbody>\n",
       "</table>\n",
       "<p>18962 rows × 3 columns</p>\n",
       "</div>"
      ],
      "text/plain": [
       "                                  SourceFile  actual  Classifer\n",
       "0      100_HH_11_5_18100_BTCF_T/IMG_0318.JPG     1.0          1\n",
       "1      100_HH_11_5_18100_BTCF_T/IMG_0321.JPG     1.0          1\n",
       "2      100_HH_11_5_18100_BTCF_T/IMG_0322.JPG     1.0          1\n",
       "3      100_HH_11_5_18100_BTCF_T/IMG_0325.JPG     1.0          1\n",
       "4      100_HH_11_5_18100_BTCF_T/IMG_0326.JPG     1.0          0\n",
       "...                                      ...     ...        ...\n",
       "18957  127_HH_1_6_18_T/101RECNX/IMG_1499.JPG     0.0          0\n",
       "18958  127_HH_1_6_18_T/101RECNX/IMG_1500.JPG     0.0          0\n",
       "18959  127_HH_1_6_18_T/101RECNX/IMG_1503.JPG     0.0          0\n",
       "18960  127_HH_1_6_18_T/101RECNX/IMG_1504.JPG     0.0          0\n",
       "18961  127_HH_1_6_18_T/101RECNX/IMG_1505.JPG     0.0          0\n",
       "\n",
       "[18962 rows x 3 columns]"
      ]
     },
     "execution_count": 13,
     "metadata": {},
     "output_type": "execute_result"
    }
   ],
   "source": [
    "test_d"
   ]
  },
  {
   "cell_type": "code",
   "execution_count": 14,
   "metadata": {},
   "outputs": [],
   "source": [
    "def cm_analysis(y_true, y_pred, filename, labels, ymap=None, figsize=(10,10), Actual = \"Actual\", Predicted = \"Predicted\"):\n",
    "    \"\"\"\n",
    "    Generate matrix plot of confusion matrix with pretty annotations.\n",
    "    The plot image is saved to disk.\n",
    "    args: \n",
    "      y_true:    true label of the data, with shape (nsamples,)\n",
    "      y_pred:    prediction of the data, with shape (nsamples,)\n",
    "      filename:  filename of figure file to save\n",
    "      labels:    string array, name the order of class labels in the confusion matrix.\n",
    "                 use `clf.classes_` if using scikit-learn models.\n",
    "                 with shape (nclass,).\n",
    "      ymap:      dict: any -> string, length == nclass.\n",
    "                 if not None, map the labels & ys to more understandable strings.\n",
    "                 Caution: original y_true, y_pred and labels must align.\n",
    "      figsize:   the size of the figure plotted.\n",
    "    \"\"\"\n",
    "    if ymap is not None:\n",
    "        y_pred = [ymap[yi] for yi in y_pred]\n",
    "        y_true = [ymap[yi] for yi in y_true]\n",
    "        labels = [ymap[yi] for yi in labels]\n",
    "    cm = confusion_matrix(y_true, y_pred, labels=labels)\n",
    "    cm_sum = np.sum(cm, axis=1, keepdims=True)\n",
    "    cm_perc = cm / cm_sum.astype(float) * 100\n",
    "    annot = np.empty_like(cm).astype(str)\n",
    "    nrows, ncols = cm.shape\n",
    "    for i in range(nrows):\n",
    "        for j in range(ncols):\n",
    "            c = cm[i, j]\n",
    "            p = cm_perc[i, j]\n",
    "            if i == j:\n",
    "                s = cm_sum[i]\n",
    "                annot[i, j] = '%.1f%%\\n%d/%d' % (p, c, s)\n",
    "            elif c == 0:\n",
    "                annot[i, j] = ''\n",
    "            else:\n",
    "                annot[i, j] = '%.1f%%\\n%d' % (p, c)\n",
    "    cm = pd.DataFrame(cm, index=labels, columns=labels)\n",
    "    cm.index.name = Actual\n",
    "    cm.columns.name = Predicted\n",
    "    fig, ax = plt.subplots(figsize=figsize)\n",
    "    sn.heatmap(cm, annot=annot, fmt='', ax=ax, cmap='Blues')\n",
    "    plt.savefig(filename)"
   ]
  },
  {
   "cell_type": "code",
   "execution_count": 43,
   "metadata": {
    "scrolled": true
   },
   "outputs": [
    {
     "data": {
      "image/png": "[encoded data removed]",
      "text/plain": [
       "<Figure size 360x288 with 2 Axes>"
      ]
     },
     "metadata": {
      "needs_background": "light"
     },
     "output_type": "display_data"
    }
   ],
   "source": [
    "cm_analysis(test_d[\"actual\"], test_d[\"Classifer\"], \"../Results/test_d_classifier_cm.png\", [1, 0], ymap=None, figsize=(5,4))"
   ]
  },
  {
   "cell_type": "code",
   "execution_count": 16,
   "metadata": {},
   "outputs": [],
   "source": [
    "j_hu = j.getHuImage(0.5, 2)\n",
    "j_hu = pd.DataFrame(list(j_hu.items()), columns = [\"SourceFile\", \"OpenPose\"])"
   ]
  },
  {
   "cell_type": "code",
   "execution_count": 17,
   "metadata": {
    "scrolled": true
   },
   "outputs": [],
   "source": [
    "test_d_1 = pd.merge(test_d, j_hu, on = \"SourceFile\")"
   ]
  },
  {
   "cell_type": "code",
   "execution_count": 18,
   "metadata": {
    "scrolled": true
   },
   "outputs": [
    {
     "data": {
      "image/png": "[encoded data removed]",
      "text/plain": [
       "<Figure size 360x288 with 2 Axes>"
      ]
     },
     "metadata": {
      "needs_background": "light"
     },
     "output_type": "display_data"
    }
   ],
   "source": [
    "cm_analysis(test_d_1[\"actual\"], test_d_1[\"OpenPose\"], \"../Results/test_d_openpose_cm_0.5_2.png\", [1, 0], ymap=None, figsize=(5,4))"
   ]
  },
  {
   "cell_type": "code",
   "execution_count": null,
   "metadata": {},
   "outputs": [],
   "source": []
  },
  {
   "cell_type": "code",
   "execution_count": null,
   "metadata": {},
   "outputs": [],
   "source": []
  },
  {
   "cell_type": "code",
   "execution_count": 19,
   "metadata": {},
   "outputs": [],
   "source": [
    "j_hu = j.getHuImage(0.5, 1)\n",
    "j_hu = pd.DataFrame(list(j_hu.items()), columns = [\"SourceFile\", \"OpenPose\"])"
   ]
  },
  {
   "cell_type": "code",
   "execution_count": 20,
   "metadata": {},
   "outputs": [],
   "source": [
    "test_d_2 = pd.merge(test_d, j_hu, on = \"SourceFile\")"
   ]
  },
  {
   "cell_type": "code",
   "execution_count": 21,
   "metadata": {
    "scrolled": true
   },
   "outputs": [
    {
     "data": {
      "image/png": "[encoded data removed]",
      "text/plain": [
       "<Figure size 360x288 with 2 Axes>"
      ]
     },
     "metadata": {
      "needs_background": "light"
     },
     "output_type": "display_data"
    }
   ],
   "source": [
    "cm_analysis(test_d_2[\"actual\"], test_d_2[\"OpenPose\"], \"../Results/test_d_openpose_cm_0.5_1.png\", [1, 0], ymap=None, figsize=(5,4))"
   ]
  },
  {
   "cell_type": "code",
   "execution_count": 22,
   "metadata": {},
   "outputs": [
    {
     "data": {
      "image/png": "[encoded data removed]",
      "text/plain": [
       "<Figure size 360x288 with 2 Axes>"
      ]
     },
     "metadata": {
      "needs_background": "light"
     },
     "output_type": "display_data"
    }
   ],
   "source": [
    "j_hu = j.getHuImage(0.4, 1)\n",
    "j_hu = pd.DataFrame(list(j_hu.items()), columns = [\"SourceFile\", \"OpenPose\"])\n",
    "test_d_3 = pd.merge(test_d, j_hu, on = \"SourceFile\")\n",
    "cm_analysis(test_d_3[\"actual\"], test_d_3[\"OpenPose\"], \"../Results/test_d_openpose_cm_0.4_1.png\", [1, 0], ymap=None, figsize=(5,4))"
   ]
  },
  {
   "cell_type": "code",
   "execution_count": 23,
   "metadata": {
    "scrolled": true
   },
   "outputs": [
    {
     "data": {
      "image/png": "[encoded data removed]",
      "text/plain": [
       "<Figure size 360x288 with 2 Axes>"
      ]
     },
     "metadata": {
      "needs_background": "light"
     },
     "output_type": "display_data"
    }
   ],
   "source": [
    "j_hu = j.getHuImage(0.4, 2)\n",
    "j_hu = pd.DataFrame(list(j_hu.items()), columns = [\"SourceFile\", \"OpenPose\"])\n",
    "test_d_4 = pd.merge(test_d, j_hu, on = \"SourceFile\")\n",
    "cm_analysis(test_d_4[\"actual\"], test_d_4[\"OpenPose\"], \"../Results/test_d_openpose_cm_0.1_1.png\", [1, 0], ymap=None, figsize=(5,4))"
   ]
  },
  {
   "cell_type": "code",
   "execution_count": 24,
   "metadata": {},
   "outputs": [
    {
     "data": {
      "image/png": "[encoded data removed]",
      "text/plain": [
       "<Figure size 360x288 with 2 Axes>"
      ]
     },
     "metadata": {
      "needs_background": "light"
     },
     "output_type": "display_data"
    }
   ],
   "source": [
    "j_hu = j.getHuImage(0.6, 1)\n",
    "j_hu = pd.DataFrame(list(j_hu.items()), columns = [\"SourceFile\", \"OpenPose\"])\n",
    "test_d_4 = pd.merge(test_d, j_hu, on = \"SourceFile\")\n",
    "cm_analysis(test_d_4[\"actual\"], test_d_4[\"OpenPose\"], \"../Results/test_d_openpose_cm_0.6_1.png\", [1, 0], ymap=None, figsize=(5,4))"
   ]
  },
  {
   "cell_type": "code",
   "execution_count": 25,
   "metadata": {},
   "outputs": [
    {
     "data": {
      "image/png": "[encoded data removed]",
      "text/plain": [
       "<Figure size 360x288 with 2 Axes>"
      ]
     },
     "metadata": {
      "needs_background": "light"
     },
     "output_type": "display_data"
    }
   ],
   "source": [
    "j_hu = j.getHuImage(0.6, 2)\n",
    "j_hu = pd.DataFrame(list(j_hu.items()), columns = [\"SourceFile\", \"OpenPose\"])\n",
    "test_d_4 = pd.merge(test_d, j_hu, on = \"SourceFile\")\n",
    "cm_analysis(test_d_4[\"actual\"], test_d_4[\"OpenPose\"], \"../Results/test_d_openpose_cm_0.6_2.png\", [1, 0], ymap=None, figsize=(5,4))"
   ]
  },
  {
   "cell_type": "code",
   "execution_count": 26,
   "metadata": {
    "scrolled": true
   },
   "outputs": [],
   "source": [
    "#test_d"
   ]
  },
  {
   "cell_type": "code",
   "execution_count": 27,
   "metadata": {},
   "outputs": [],
   "source": [
    "c.IsHuman = c.IsHuman.apply(convert1)"
   ]
  },
  {
   "cell_type": "code",
   "execution_count": 28,
   "metadata": {},
   "outputs": [],
   "source": [
    "re = df[[\"SourceFile\", \"CreateDate\", \"placeID\", \"h\"]]"
   ]
  },
  {
   "cell_type": "code",
   "execution_count": 29,
   "metadata": {},
   "outputs": [],
   "source": [
    "re1 = c[[\"SourceFile\", \"human_prob\", \"non_human_prob\", \"IsHuman\"]]"
   ]
  },
  {
   "cell_type": "code",
   "execution_count": 30,
   "metadata": {
    "scrolled": true
   },
   "outputs": [],
   "source": [
    "result = pd.merge(re, re1, on = \"SourceFile\")\n"
   ]
  },
  {
   "cell_type": "code",
   "execution_count": 31,
   "metadata": {},
   "outputs": [
    {
     "data": {
      "text/html": [
       "<div>\n",
       "<style scoped>\n",
       "    .dataframe tbody tr th:only-of-type {\n",
       "        vertical-align: middle;\n",
       "    }\n",
       "\n",
       "    .dataframe tbody tr th {\n",
       "        vertical-align: top;\n",
       "    }\n",
       "\n",
       "    .dataframe thead th {\n",
       "        text-align: right;\n",
       "    }\n",
       "</style>\n",
       "<table border=\"1\" class=\"dataframe\">\n",
       "  <thead>\n",
       "    <tr style=\"text-align: right;\">\n",
       "      <th></th>\n",
       "      <th>SourceFile</th>\n",
       "      <th>CreateDate</th>\n",
       "      <th>placeID</th>\n",
       "      <th>h</th>\n",
       "      <th>human_prob</th>\n",
       "      <th>non_human_prob</th>\n",
       "      <th>IsHuman</th>\n",
       "    </tr>\n",
       "  </thead>\n",
       "  <tbody>\n",
       "    <tr>\n",
       "      <th>0</th>\n",
       "      <td>100_HH_11_5_18100_BTCF_T/IMG_0001.JPG</td>\n",
       "      <td>2018:05:03  15:22:40</td>\n",
       "      <td>100</td>\n",
       "      <td>15.0</td>\n",
       "      <td>0.993216</td>\n",
       "      <td>6.783837e-03</td>\n",
       "      <td>1</td>\n",
       "    </tr>\n",
       "    <tr>\n",
       "      <th>1</th>\n",
       "      <td>100_HH_11_5_18100_BTCF_T/IMG_0002.JPG</td>\n",
       "      <td>2018:05:03  15:22:44</td>\n",
       "      <td>100</td>\n",
       "      <td>15.0</td>\n",
       "      <td>1.000000</td>\n",
       "      <td>2.988270e-08</td>\n",
       "      <td>1</td>\n",
       "    </tr>\n",
       "    <tr>\n",
       "      <th>2</th>\n",
       "      <td>100_HH_11_5_18100_BTCF_T/IMG_0003.JPG</td>\n",
       "      <td>2018:05:03  15:22:45</td>\n",
       "      <td>100</td>\n",
       "      <td>15.0</td>\n",
       "      <td>0.161847</td>\n",
       "      <td>8.381528e-01</td>\n",
       "      <td>0</td>\n",
       "    </tr>\n",
       "    <tr>\n",
       "      <th>3</th>\n",
       "      <td>100_HH_11_5_18100_BTCF_T/IMG_0004.JPG</td>\n",
       "      <td>2018:05:03  15:22:46</td>\n",
       "      <td>100</td>\n",
       "      <td>15.0</td>\n",
       "      <td>0.920996</td>\n",
       "      <td>7.900441e-02</td>\n",
       "      <td>1</td>\n",
       "    </tr>\n",
       "    <tr>\n",
       "      <th>4</th>\n",
       "      <td>100_HH_11_5_18100_BTCF_T/IMG_0005.JPG</td>\n",
       "      <td>2018:05:03  15:22:46</td>\n",
       "      <td>100</td>\n",
       "      <td>15.0</td>\n",
       "      <td>0.999688</td>\n",
       "      <td>3.116191e-04</td>\n",
       "      <td>1</td>\n",
       "    </tr>\n",
       "    <tr>\n",
       "      <th>...</th>\n",
       "      <td>...</td>\n",
       "      <td>...</td>\n",
       "      <td>...</td>\n",
       "      <td>...</td>\n",
       "      <td>...</td>\n",
       "      <td>...</td>\n",
       "      <td>...</td>\n",
       "    </tr>\n",
       "    <tr>\n",
       "      <th>418721</th>\n",
       "      <td>9_HH_26_4_18/DCIM/101RECNX/IMG_0931.JPG</td>\n",
       "      <td>2018:04:22 13:27:16</td>\n",
       "      <td>9</td>\n",
       "      <td>13.0</td>\n",
       "      <td>0.950169</td>\n",
       "      <td>4.983127e-02</td>\n",
       "      <td>1</td>\n",
       "    </tr>\n",
       "    <tr>\n",
       "      <th>418722</th>\n",
       "      <td>9_HH_26_4_18/DCIM/101RECNX/IMG_0932.JPG</td>\n",
       "      <td>2018:04:22 13:33:29</td>\n",
       "      <td>9</td>\n",
       "      <td>13.0</td>\n",
       "      <td>1.000000</td>\n",
       "      <td>1.492437e-09</td>\n",
       "      <td>1</td>\n",
       "    </tr>\n",
       "    <tr>\n",
       "      <th>418723</th>\n",
       "      <td>9_HH_26_4_18/DCIM/101RECNX/IMG_0933.JPG</td>\n",
       "      <td>2018:04:22 13:33:29</td>\n",
       "      <td>9</td>\n",
       "      <td>13.0</td>\n",
       "      <td>0.992303</td>\n",
       "      <td>7.697083e-03</td>\n",
       "      <td>1</td>\n",
       "    </tr>\n",
       "    <tr>\n",
       "      <th>418724</th>\n",
       "      <td>9_HH_26_4_18/DCIM/101RECNX/IMG_0934.JPG</td>\n",
       "      <td>2018:04:22 13:33:30</td>\n",
       "      <td>9</td>\n",
       "      <td>13.0</td>\n",
       "      <td>0.968105</td>\n",
       "      <td>3.189503e-02</td>\n",
       "      <td>1</td>\n",
       "    </tr>\n",
       "    <tr>\n",
       "      <th>418725</th>\n",
       "      <td>9_HH_26_4_18/DCIM/101RECNX/IMG_0935.JPG</td>\n",
       "      <td>2018:04:22 13:33:30</td>\n",
       "      <td>9</td>\n",
       "      <td>13.0</td>\n",
       "      <td>0.847136</td>\n",
       "      <td>1.528645e-01</td>\n",
       "      <td>1</td>\n",
       "    </tr>\n",
       "  </tbody>\n",
       "</table>\n",
       "<p>418726 rows × 7 columns</p>\n",
       "</div>"
      ],
      "text/plain": [
       "                                     SourceFile            CreateDate  \\\n",
       "0         100_HH_11_5_18100_BTCF_T/IMG_0001.JPG  2018:05:03  15:22:40   \n",
       "1         100_HH_11_5_18100_BTCF_T/IMG_0002.JPG  2018:05:03  15:22:44   \n",
       "2         100_HH_11_5_18100_BTCF_T/IMG_0003.JPG  2018:05:03  15:22:45   \n",
       "3         100_HH_11_5_18100_BTCF_T/IMG_0004.JPG  2018:05:03  15:22:46   \n",
       "4         100_HH_11_5_18100_BTCF_T/IMG_0005.JPG  2018:05:03  15:22:46   \n",
       "...                                         ...                   ...   \n",
       "418721  9_HH_26_4_18/DCIM/101RECNX/IMG_0931.JPG   2018:04:22 13:27:16   \n",
       "418722  9_HH_26_4_18/DCIM/101RECNX/IMG_0932.JPG   2018:04:22 13:33:29   \n",
       "418723  9_HH_26_4_18/DCIM/101RECNX/IMG_0933.JPG   2018:04:22 13:33:29   \n",
       "418724  9_HH_26_4_18/DCIM/101RECNX/IMG_0934.JPG   2018:04:22 13:33:30   \n",
       "418725  9_HH_26_4_18/DCIM/101RECNX/IMG_0935.JPG   2018:04:22 13:33:30   \n",
       "\n",
       "        placeID     h  human_prob  non_human_prob  IsHuman  \n",
       "0           100  15.0    0.993216    6.783837e-03        1  \n",
       "1           100  15.0    1.000000    2.988270e-08        1  \n",
       "2           100  15.0    0.161847    8.381528e-01        0  \n",
       "3           100  15.0    0.920996    7.900441e-02        1  \n",
       "4           100  15.0    0.999688    3.116191e-04        1  \n",
       "...         ...   ...         ...             ...      ...  \n",
       "418721        9  13.0    0.950169    4.983127e-02        1  \n",
       "418722        9  13.0    1.000000    1.492437e-09        1  \n",
       "418723        9  13.0    0.992303    7.697083e-03        1  \n",
       "418724        9  13.0    0.968105    3.189503e-02        1  \n",
       "418725        9  13.0    0.847136    1.528645e-01        1  \n",
       "\n",
       "[418726 rows x 7 columns]"
      ]
     },
     "execution_count": 31,
     "metadata": {},
     "output_type": "execute_result"
    }
   ],
   "source": [
    "result"
   ]
  },
  {
   "cell_type": "code",
   "execution_count": 32,
   "metadata": {},
   "outputs": [],
   "source": [
    "j_hu = j.getHuImage(0.5, 1)\n",
    "j_hu = pd.DataFrame(list(j_hu.items()), columns = [\"SourceFile\", \"OpenPose\"])"
   ]
  },
  {
   "cell_type": "code",
   "execution_count": 33,
   "metadata": {
    "scrolled": false
   },
   "outputs": [
    {
     "data": {
      "text/html": [
       "<div>\n",
       "<style scoped>\n",
       "    .dataframe tbody tr th:only-of-type {\n",
       "        vertical-align: middle;\n",
       "    }\n",
       "\n",
       "    .dataframe tbody tr th {\n",
       "        vertical-align: top;\n",
       "    }\n",
       "\n",
       "    .dataframe thead th {\n",
       "        text-align: right;\n",
       "    }\n",
       "</style>\n",
       "<table border=\"1\" class=\"dataframe\">\n",
       "  <thead>\n",
       "    <tr style=\"text-align: right;\">\n",
       "      <th></th>\n",
       "      <th>SourceFile</th>\n",
       "      <th>CreateDate</th>\n",
       "      <th>placeID</th>\n",
       "      <th>h</th>\n",
       "      <th>human_prob</th>\n",
       "      <th>non_human_prob</th>\n",
       "      <th>IsHuman</th>\n",
       "      <th>OpenPose</th>\n",
       "    </tr>\n",
       "  </thead>\n",
       "  <tbody>\n",
       "    <tr>\n",
       "      <th>0</th>\n",
       "      <td>100_HH_11_5_18100_BTCF_T/IMG_0001.JPG</td>\n",
       "      <td>2018:05:03  15:22:40</td>\n",
       "      <td>100</td>\n",
       "      <td>15.0</td>\n",
       "      <td>0.993216</td>\n",
       "      <td>6.783837e-03</td>\n",
       "      <td>1</td>\n",
       "      <td>0</td>\n",
       "    </tr>\n",
       "    <tr>\n",
       "      <th>1</th>\n",
       "      <td>100_HH_11_5_18100_BTCF_T/IMG_0002.JPG</td>\n",
       "      <td>2018:05:03  15:22:44</td>\n",
       "      <td>100</td>\n",
       "      <td>15.0</td>\n",
       "      <td>1.000000</td>\n",
       "      <td>2.988270e-08</td>\n",
       "      <td>1</td>\n",
       "      <td>0</td>\n",
       "    </tr>\n",
       "    <tr>\n",
       "      <th>2</th>\n",
       "      <td>100_HH_11_5_18100_BTCF_T/IMG_0003.JPG</td>\n",
       "      <td>2018:05:03  15:22:45</td>\n",
       "      <td>100</td>\n",
       "      <td>15.0</td>\n",
       "      <td>0.161847</td>\n",
       "      <td>8.381528e-01</td>\n",
       "      <td>0</td>\n",
       "      <td>0</td>\n",
       "    </tr>\n",
       "    <tr>\n",
       "      <th>3</th>\n",
       "      <td>100_HH_11_5_18100_BTCF_T/IMG_0004.JPG</td>\n",
       "      <td>2018:05:03  15:22:46</td>\n",
       "      <td>100</td>\n",
       "      <td>15.0</td>\n",
       "      <td>0.920996</td>\n",
       "      <td>7.900441e-02</td>\n",
       "      <td>1</td>\n",
       "      <td>0</td>\n",
       "    </tr>\n",
       "    <tr>\n",
       "      <th>4</th>\n",
       "      <td>100_HH_11_5_18100_BTCF_T/IMG_0005.JPG</td>\n",
       "      <td>2018:05:03  15:22:46</td>\n",
       "      <td>100</td>\n",
       "      <td>15.0</td>\n",
       "      <td>0.999688</td>\n",
       "      <td>3.116191e-04</td>\n",
       "      <td>1</td>\n",
       "      <td>0</td>\n",
       "    </tr>\n",
       "    <tr>\n",
       "      <th>...</th>\n",
       "      <td>...</td>\n",
       "      <td>...</td>\n",
       "      <td>...</td>\n",
       "      <td>...</td>\n",
       "      <td>...</td>\n",
       "      <td>...</td>\n",
       "      <td>...</td>\n",
       "      <td>...</td>\n",
       "    </tr>\n",
       "    <tr>\n",
       "      <th>418718</th>\n",
       "      <td>9_HH_26_4_18/DCIM/101RECNX/IMG_0931.JPG</td>\n",
       "      <td>2018:04:22 13:27:16</td>\n",
       "      <td>9</td>\n",
       "      <td>13.0</td>\n",
       "      <td>0.950169</td>\n",
       "      <td>4.983127e-02</td>\n",
       "      <td>1</td>\n",
       "      <td>0</td>\n",
       "    </tr>\n",
       "    <tr>\n",
       "      <th>418719</th>\n",
       "      <td>9_HH_26_4_18/DCIM/101RECNX/IMG_0932.JPG</td>\n",
       "      <td>2018:04:22 13:33:29</td>\n",
       "      <td>9</td>\n",
       "      <td>13.0</td>\n",
       "      <td>1.000000</td>\n",
       "      <td>1.492437e-09</td>\n",
       "      <td>1</td>\n",
       "      <td>1</td>\n",
       "    </tr>\n",
       "    <tr>\n",
       "      <th>418720</th>\n",
       "      <td>9_HH_26_4_18/DCIM/101RECNX/IMG_0933.JPG</td>\n",
       "      <td>2018:04:22 13:33:29</td>\n",
       "      <td>9</td>\n",
       "      <td>13.0</td>\n",
       "      <td>0.992303</td>\n",
       "      <td>7.697083e-03</td>\n",
       "      <td>1</td>\n",
       "      <td>0</td>\n",
       "    </tr>\n",
       "    <tr>\n",
       "      <th>418721</th>\n",
       "      <td>9_HH_26_4_18/DCIM/101RECNX/IMG_0934.JPG</td>\n",
       "      <td>2018:04:22 13:33:30</td>\n",
       "      <td>9</td>\n",
       "      <td>13.0</td>\n",
       "      <td>0.968105</td>\n",
       "      <td>3.189503e-02</td>\n",
       "      <td>1</td>\n",
       "      <td>0</td>\n",
       "    </tr>\n",
       "    <tr>\n",
       "      <th>418722</th>\n",
       "      <td>9_HH_26_4_18/DCIM/101RECNX/IMG_0935.JPG</td>\n",
       "      <td>2018:04:22 13:33:30</td>\n",
       "      <td>9</td>\n",
       "      <td>13.0</td>\n",
       "      <td>0.847136</td>\n",
       "      <td>1.528645e-01</td>\n",
       "      <td>1</td>\n",
       "      <td>0</td>\n",
       "    </tr>\n",
       "  </tbody>\n",
       "</table>\n",
       "<p>418723 rows × 8 columns</p>\n",
       "</div>"
      ],
      "text/plain": [
       "                                     SourceFile            CreateDate  \\\n",
       "0         100_HH_11_5_18100_BTCF_T/IMG_0001.JPG  2018:05:03  15:22:40   \n",
       "1         100_HH_11_5_18100_BTCF_T/IMG_0002.JPG  2018:05:03  15:22:44   \n",
       "2         100_HH_11_5_18100_BTCF_T/IMG_0003.JPG  2018:05:03  15:22:45   \n",
       "3         100_HH_11_5_18100_BTCF_T/IMG_0004.JPG  2018:05:03  15:22:46   \n",
       "4         100_HH_11_5_18100_BTCF_T/IMG_0005.JPG  2018:05:03  15:22:46   \n",
       "...                                         ...                   ...   \n",
       "418718  9_HH_26_4_18/DCIM/101RECNX/IMG_0931.JPG   2018:04:22 13:27:16   \n",
       "418719  9_HH_26_4_18/DCIM/101RECNX/IMG_0932.JPG   2018:04:22 13:33:29   \n",
       "418720  9_HH_26_4_18/DCIM/101RECNX/IMG_0933.JPG   2018:04:22 13:33:29   \n",
       "418721  9_HH_26_4_18/DCIM/101RECNX/IMG_0934.JPG   2018:04:22 13:33:30   \n",
       "418722  9_HH_26_4_18/DCIM/101RECNX/IMG_0935.JPG   2018:04:22 13:33:30   \n",
       "\n",
       "        placeID     h  human_prob  non_human_prob  IsHuman  OpenPose  \n",
       "0           100  15.0    0.993216    6.783837e-03        1         0  \n",
       "1           100  15.0    1.000000    2.988270e-08        1         0  \n",
       "2           100  15.0    0.161847    8.381528e-01        0         0  \n",
       "3           100  15.0    0.920996    7.900441e-02        1         0  \n",
       "4           100  15.0    0.999688    3.116191e-04        1         0  \n",
       "...         ...   ...         ...             ...      ...       ...  \n",
       "418718        9  13.0    0.950169    4.983127e-02        1         0  \n",
       "418719        9  13.0    1.000000    1.492437e-09        1         1  \n",
       "418720        9  13.0    0.992303    7.697083e-03        1         0  \n",
       "418721        9  13.0    0.968105    3.189503e-02        1         0  \n",
       "418722        9  13.0    0.847136    1.528645e-01        1         0  \n",
       "\n",
       "[418723 rows x 8 columns]"
      ]
     },
     "execution_count": 33,
     "metadata": {},
     "output_type": "execute_result"
    }
   ],
   "source": [
    "result_d = pd.merge(result, j_hu, on = \"SourceFile\")\n",
    "result_d"
   ]
  },
  {
   "cell_type": "code",
   "execution_count": 34,
   "metadata": {},
   "outputs": [],
   "source": [
    "result_d.CreateDate = result_d.CreateDate.str.replace(r\"\\s\\s+\", r\" \")"
   ]
  },
  {
   "cell_type": "code",
   "execution_count": 35,
   "metadata": {},
   "outputs": [],
   "source": [
    "result_d.to_csv(\"../Results/results_d.csv\", index = False)"
   ]
  },
  {
   "cell_type": "code",
   "execution_count": 36,
   "metadata": {
    "scrolled": true
   },
   "outputs": [
    {
     "data": {
      "image/png": "[encoded data removed]",
      "text/plain": [
       "<Figure size 360x288 with 2 Axes>"
      ]
     },
     "metadata": {
      "needs_background": "light"
     },
     "output_type": "display_data"
    }
   ],
   "source": [
    "cm_analysis(result_d[\"IsHuman\"], result_d[\"OpenPose\"], \"../Results/test_d_openpose_cm_0.1_1.png\", [1, 0], ymap=None, figsize=(5,4), Actual = \"Classifer result\", Predicted = \"OpenPose result\")"
   ]
  },
  {
   "cell_type": "code",
   "execution_count": null,
   "metadata": {},
   "outputs": [],
   "source": []
  },
  {
   "cell_type": "code",
   "execution_count": 37,
   "metadata": {},
   "outputs": [],
   "source": [
    "#result = pd.merge(re, re1, on = \"SourceFile\")\n",
    "results_t = pd.merge(test_d_2, df[[\"SourceFile\", \"h\"]], on = \"SourceFile\")\n",
    "results_t.to_csv(\"../Results/test_d_2.csv\", index = False)"
   ]
  },
  {
   "cell_type": "code",
   "execution_count": 38,
   "metadata": {
    "scrolled": true
   },
   "outputs": [],
   "source": [
    "#df whole dataset\n",
    "#c CNN classifer results\n",
    "#d full skeletons number of fully skeletons\n",
    "#j_hu# 418743 openpose results as human classifer given p and nr\n"
   ]
  },
  {
   "cell_type": "code",
   "execution_count": 39,
   "metadata": {},
   "outputs": [
    {
     "data": {
      "text/plain": [
       "True"
      ]
     },
     "execution_count": 39,
     "metadata": {},
     "output_type": "execute_result"
    }
   ],
   "source": [
    "temp = np.array(range(60))[2::3]\n",
    "pr = 0.5\n",
    "nr = 1\n",
    "len([i for i in temp if i >= pr]) >= nr"
   ]
  },
  {
   "cell_type": "code",
   "execution_count": 40,
   "metadata": {
    "scrolled": true
   },
   "outputs": [
    {
     "data": {
      "text/html": [
       "<div>\n",
       "<style scoped>\n",
       "    .dataframe tbody tr th:only-of-type {\n",
       "        vertical-align: middle;\n",
       "    }\n",
       "\n",
       "    .dataframe tbody tr th {\n",
       "        vertical-align: top;\n",
       "    }\n",
       "\n",
       "    .dataframe thead th {\n",
       "        text-align: right;\n",
       "    }\n",
       "</style>\n",
       "<table border=\"1\" class=\"dataframe\">\n",
       "  <thead>\n",
       "    <tr style=\"text-align: right;\">\n",
       "      <th></th>\n",
       "      <th>SourceFile</th>\n",
       "      <th>OpenPose</th>\n",
       "    </tr>\n",
       "  </thead>\n",
       "  <tbody>\n",
       "    <tr>\n",
       "      <th>136093</th>\n",
       "      <td>6_HH_1_5_18_DCIM/100RECNX/IMG_6303.JPG</td>\n",
       "      <td>0</td>\n",
       "    </tr>\n",
       "  </tbody>\n",
       "</table>\n",
       "</div>"
      ],
      "text/plain": [
       "                                    SourceFile  OpenPose\n",
       "136093  6_HH_1_5_18_DCIM/100RECNX/IMG_6303.JPG         0"
      ]
     },
     "execution_count": 40,
     "metadata": {},
     "output_type": "execute_result"
    }
   ],
   "source": [
    "j_hu[j_hu.SourceFile.isin(cor_d.SourceFile)]"
   ]
  },
  {
   "cell_type": "code",
   "execution_count": 41,
   "metadata": {},
   "outputs": [],
   "source": [
    "cor = j_hu[~j_hu.SourceFile.isin(result.SourceFile)]\n",
    "cor.to_csv(\"../Results/cor.csv\", index = False)"
   ]
  },
  {
   "cell_type": "code",
   "execution_count": 42,
   "metadata": {},
   "outputs": [
    {
     "data": {
      "text/plain": [
       "array([ 0,  3,  6,  9, 12, 15, 18, 21, 24, 27, 30, 33, 36, 39, 42])"
      ]
     },
     "execution_count": 42,
     "metadata": {},
     "output_type": "execute_result"
    }
   ],
   "source": [
    "np.array(range(0,45,3))"
   ]
  },
  {
   "cell_type": "code",
   "execution_count": 48,
   "metadata": {},
   "outputs": [],
   "source": [
    "#test_d_2\n",
    "df.CreateDate = df.CreateDate.str.replace(r\"\\s\\s+\", r\" \")\n",
    "cm_re = pd.merge(test_d_2, df[[\"SourceFile\", \"placeID\", \"CreateDate\"]], on = \"SourceFile\")"
   ]
  },
  {
   "cell_type": "code",
   "execution_count": 49,
   "metadata": {},
   "outputs": [],
   "source": [
    "cm_re.to_csv(\"../Results/cm_re.csv\", index = False)"
   ]
  },
  {
   "cell_type": "code",
   "execution_count": 52,
   "metadata": {},
   "outputs": [
    {
     "ename": "ValueError",
     "evalue": "The truth value of a Series is ambiguous. Use a.empty, a.bool(), a.item(), a.any() or a.all().",
     "output_type": "error",
     "traceback": [
      "\u001b[0;31m---------------------------------------------------------------------------\u001b[0m",
      "\u001b[0;31mValueError\u001b[0m                                Traceback (most recent call last)",
      "\u001b[0;32m<ipython-input-52-1da241c64a79>\u001b[0m in \u001b[0;36m<module>\u001b[0;34m\u001b[0m\n\u001b[0;32m----> 1\u001b[0;31m \u001b[0mcm_re\u001b[0m\u001b[0;34m.\u001b[0m\u001b[0mloc\u001b[0m\u001b[0;34m[\u001b[0m\u001b[0mcm_re\u001b[0m\u001b[0;34m[\u001b[0m\u001b[0;34m\"actual\"\u001b[0m\u001b[0;34m]\u001b[0m \u001b[0;34m==\u001b[0m \u001b[0;36m1\u001b[0m \u001b[0;32mand\u001b[0m \u001b[0mcm_re\u001b[0m\u001b[0;34m[\u001b[0m\u001b[0;34m\"OpenPose\"\u001b[0m\u001b[0;34m]\u001b[0m \u001b[0;34m==\u001b[0m \u001b[0;36m1\u001b[0m\u001b[0;34m]\u001b[0m\u001b[0;34m\u001b[0m\u001b[0;34m\u001b[0m\u001b[0m\n\u001b[0m",
      "\u001b[0;32m~/.local/lib/python3.7/site-packages/pandas/core/generic.py\u001b[0m in \u001b[0;36m__nonzero__\u001b[0;34m(self)\u001b[0m\n\u001b[1;32m   1477\u001b[0m     \u001b[0;32mdef\u001b[0m \u001b[0m__nonzero__\u001b[0m\u001b[0;34m(\u001b[0m\u001b[0mself\u001b[0m\u001b[0;34m)\u001b[0m\u001b[0;34m:\u001b[0m\u001b[0;34m\u001b[0m\u001b[0;34m\u001b[0m\u001b[0m\n\u001b[1;32m   1478\u001b[0m         raise ValueError(\n\u001b[0;32m-> 1479\u001b[0;31m             \u001b[0;34mf\"The truth value of a {type(self).__name__} is ambiguous. \"\u001b[0m\u001b[0;34m\u001b[0m\u001b[0;34m\u001b[0m\u001b[0m\n\u001b[0m\u001b[1;32m   1480\u001b[0m             \u001b[0;34m\"Use a.empty, a.bool(), a.item(), a.any() or a.all().\"\u001b[0m\u001b[0;34m\u001b[0m\u001b[0;34m\u001b[0m\u001b[0m\n\u001b[1;32m   1481\u001b[0m         )\n",
      "\u001b[0;31mValueError\u001b[0m: The truth value of a Series is ambiguous. Use a.empty, a.bool(), a.item(), a.any() or a.all()."
     ]
    }
   ],
   "source": [
    "cm_re.loc[(cm_re[\"actual\"] == 1)() and cm_re[\"OpenPose\"] == 1)]"
   ]
  }
 ],
 "metadata": {
  "kernelspec": {
   "display_name": "Python 3",
   "language": "python",
   "name": "python3"
  },
  "language_info": {
   "codemirror_mode": {
    "name": "ipython",
    "version": 3
   },
   "file_extension": ".py",
   "mimetype": "text/x-python",
   "name": "python",
   "nbconvert_exporter": "python",
   "pygments_lexer": "ipython3",
   "version": "3.7.3"
  }
 },
 "nbformat": 4,
 "nbformat_minor": 2
}
