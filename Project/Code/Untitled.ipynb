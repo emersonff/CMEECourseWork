{
 "cells": [
  {
   "cell_type": "code",
   "execution_count": 1,
   "metadata": {},
   "outputs": [],
   "source": [
    "import sys\n",
    "import pandas as pd #'1.0.4'\n",
    "import numpy as np\n",
    "import re"
   ]
  },
  {
   "cell_type": "code",
   "execution_count": 2,
   "metadata": {},
   "outputs": [],
   "source": [
    "#d = pd.read_csv(\"../Data/Final_Data.csv\")"
   ]
  },
  {
   "cell_type": "code",
   "execution_count": 3,
   "metadata": {
    "scrolled": true
   },
   "outputs": [],
   "source": [
    "#d.head()"
   ]
  },
  {
   "cell_type": "code",
   "execution_count": 4,
   "metadata": {},
   "outputs": [],
   "source": [
    "#df = pd.read_csv(\"../Data/1_HH_23_4_18_DCIM/all.csv\")"
   ]
  },
  {
   "cell_type": "code",
   "execution_count": 5,
   "metadata": {
    "scrolled": true
   },
   "outputs": [],
   "source": [
    "#df = df.sort_values('FileName')\n",
    "#df.head()"
   ]
  },
  {
   "cell_type": "code",
   "execution_count": 2,
   "metadata": {},
   "outputs": [],
   "source": [
    "d = pd.read_csv(\"../Data/Camera.csv\")"
   ]
  },
  {
   "cell_type": "code",
   "execution_count": 3,
   "metadata": {},
   "outputs": [],
   "source": [
    "d.SourceFile = d.SourceFile.str.extract(r'(\\d+_.*)')"
   ]
  },
  {
   "cell_type": "code",
   "execution_count": 4,
   "metadata": {},
   "outputs": [
    {
     "data": {
      "text/plain": [
       "418745"
      ]
     },
     "execution_count": 4,
     "metadata": {},
     "output_type": "execute_result"
    }
   ],
   "source": [
    "len(d)"
   ]
  },
  {
   "cell_type": "code",
   "execution_count": 5,
   "metadata": {
    "scrolled": true
   },
   "outputs": [],
   "source": [
    "df = pd.read_csv(\"../Data/Merged_Data.csv\")"
   ]
  },
  {
   "cell_type": "code",
   "execution_count": 6,
   "metadata": {
    "scrolled": true
   },
   "outputs": [
    {
     "data": {
      "text/html": [
       "<div>\n",
       "<style scoped>\n",
       "    .dataframe tbody tr th:only-of-type {\n",
       "        vertical-align: middle;\n",
       "    }\n",
       "\n",
       "    .dataframe tbody tr th {\n",
       "        vertical-align: top;\n",
       "    }\n",
       "\n",
       "    .dataframe thead th {\n",
       "        text-align: right;\n",
       "    }\n",
       "</style>\n",
       "<table border=\"1\" class=\"dataframe\">\n",
       "  <thead>\n",
       "    <tr style=\"text-align: right;\">\n",
       "      <th></th>\n",
       "      <th>SourceFile</th>\n",
       "      <th>CreateDate</th>\n",
       "      <th>Keywords</th>\n",
       "    </tr>\n",
       "  </thead>\n",
       "  <tbody>\n",
       "    <tr>\n",
       "      <th>0</th>\n",
       "      <td>35_HH_23_4_18_DCIM_moved/100_BTCF/IMG_0082.JPG</td>\n",
       "      <td>2018:04:20 02:39:10</td>\n",
       "      <td>placeID: 35</td>\n",
       "    </tr>\n",
       "    <tr>\n",
       "      <th>1</th>\n",
       "      <td>35_HH_23_4_18_DCIM_moved/100_BTCF/IMG_0495.JPG</td>\n",
       "      <td>2018:04:24 00:46:05</td>\n",
       "      <td>placeID: 35</td>\n",
       "    </tr>\n",
       "    <tr>\n",
       "      <th>2</th>\n",
       "      <td>35_HH_23_4_18_DCIM_moved/100_BTCF/IMG_0381.JPG</td>\n",
       "      <td>2018:04:22 20:35:21</td>\n",
       "      <td>placeID: 35</td>\n",
       "    </tr>\n",
       "    <tr>\n",
       "      <th>3</th>\n",
       "      <td>35_HH_23_4_18_DCIM_moved/100_BTCF/IMG_0325.JPG</td>\n",
       "      <td>2018:04:22 00:16:25</td>\n",
       "      <td>placeID: 35</td>\n",
       "    </tr>\n",
       "    <tr>\n",
       "      <th>4</th>\n",
       "      <td>35_HH_23_4_18_DCIM_moved/100_BTCF/IMG_0211.JPG</td>\n",
       "      <td>2018:04:20 07:44:12</td>\n",
       "      <td>placeID: 35, species1: Dog</td>\n",
       "    </tr>\n",
       "  </tbody>\n",
       "</table>\n",
       "</div>"
      ],
      "text/plain": [
       "                                       SourceFile           CreateDate  \\\n",
       "0  35_HH_23_4_18_DCIM_moved/100_BTCF/IMG_0082.JPG  2018:04:20 02:39:10   \n",
       "1  35_HH_23_4_18_DCIM_moved/100_BTCF/IMG_0495.JPG  2018:04:24 00:46:05   \n",
       "2  35_HH_23_4_18_DCIM_moved/100_BTCF/IMG_0381.JPG  2018:04:22 20:35:21   \n",
       "3  35_HH_23_4_18_DCIM_moved/100_BTCF/IMG_0325.JPG  2018:04:22 00:16:25   \n",
       "4  35_HH_23_4_18_DCIM_moved/100_BTCF/IMG_0211.JPG  2018:04:20 07:44:12   \n",
       "\n",
       "                     Keywords  \n",
       "0                 placeID: 35  \n",
       "1                 placeID: 35  \n",
       "2                 placeID: 35  \n",
       "3                 placeID: 35  \n",
       "4  placeID: 35, species1: Dog  "
      ]
     },
     "execution_count": 6,
     "metadata": {},
     "output_type": "execute_result"
    }
   ],
   "source": [
    "df.head()"
   ]
  },
  {
   "cell_type": "code",
   "execution_count": 7,
   "metadata": {},
   "outputs": [],
   "source": [
    "df2 = pd.merge(d, df, on = \"SourceFile\")"
   ]
  },
  {
   "cell_type": "code",
   "execution_count": 8,
   "metadata": {
    "scrolled": false
   },
   "outputs": [
    {
     "data": {
      "text/html": [
       "<div>\n",
       "<style scoped>\n",
       "    .dataframe tbody tr th:only-of-type {\n",
       "        vertical-align: middle;\n",
       "    }\n",
       "\n",
       "    .dataframe tbody tr th {\n",
       "        vertical-align: top;\n",
       "    }\n",
       "\n",
       "    .dataframe thead th {\n",
       "        text-align: right;\n",
       "    }\n",
       "</style>\n",
       "<table border=\"1\" class=\"dataframe\">\n",
       "  <thead>\n",
       "    <tr style=\"text-align: right;\">\n",
       "      <th></th>\n",
       "      <th>SourceFile</th>\n",
       "      <th>Make</th>\n",
       "      <th>Model</th>\n",
       "      <th>CreateDate</th>\n",
       "      <th>Keywords</th>\n",
       "    </tr>\n",
       "  </thead>\n",
       "  <tbody>\n",
       "    <tr>\n",
       "      <th>0</th>\n",
       "      <td>116_HH_1_6_18/100_BTCF/IMG_0738.JPG</td>\n",
       "      <td>Prometheus</td>\n",
       "      <td>BTC5HDP</td>\n",
       "      <td>NaN</td>\n",
       "      <td>NaN</td>\n",
       "    </tr>\n",
       "    <tr>\n",
       "      <th>1</th>\n",
       "      <td>116_HH_1_6_18/100_BTCF/IMG_0461.JPG</td>\n",
       "      <td>Prometheus</td>\n",
       "      <td>BTC5HDP</td>\n",
       "      <td>NaN</td>\n",
       "      <td>NaN</td>\n",
       "    </tr>\n",
       "    <tr>\n",
       "      <th>2</th>\n",
       "      <td>116_HH_1_6_18/100_BTCF/IMG_0091.JPG</td>\n",
       "      <td>Prometheus</td>\n",
       "      <td>BTC5HDP</td>\n",
       "      <td>NaN</td>\n",
       "      <td>NaN</td>\n",
       "    </tr>\n",
       "    <tr>\n",
       "      <th>3</th>\n",
       "      <td>116_HH_1_6_18/100_BTCF/IMG_0397.JPG</td>\n",
       "      <td>Prometheus</td>\n",
       "      <td>BTC5HDP</td>\n",
       "      <td>NaN</td>\n",
       "      <td>NaN</td>\n",
       "    </tr>\n",
       "    <tr>\n",
       "      <th>4</th>\n",
       "      <td>116_HH_1_6_18/100_BTCF/IMG_0060.JPG</td>\n",
       "      <td>Prometheus</td>\n",
       "      <td>BTC5HDP</td>\n",
       "      <td>NaN</td>\n",
       "      <td>NaN</td>\n",
       "    </tr>\n",
       "  </tbody>\n",
       "</table>\n",
       "</div>"
      ],
      "text/plain": [
       "                            SourceFile        Make    Model CreateDate  \\\n",
       "0  116_HH_1_6_18/100_BTCF/IMG_0738.JPG  Prometheus  BTC5HDP        NaN   \n",
       "1  116_HH_1_6_18/100_BTCF/IMG_0461.JPG  Prometheus  BTC5HDP        NaN   \n",
       "2  116_HH_1_6_18/100_BTCF/IMG_0091.JPG  Prometheus  BTC5HDP        NaN   \n",
       "3  116_HH_1_6_18/100_BTCF/IMG_0397.JPG  Prometheus  BTC5HDP        NaN   \n",
       "4  116_HH_1_6_18/100_BTCF/IMG_0060.JPG  Prometheus  BTC5HDP        NaN   \n",
       "\n",
       "  Keywords  \n",
       "0      NaN  \n",
       "1      NaN  \n",
       "2      NaN  \n",
       "3      NaN  \n",
       "4      NaN  "
      ]
     },
     "execution_count": 8,
     "metadata": {},
     "output_type": "execute_result"
    }
   ],
   "source": [
    "df2.head()"
   ]
  },
  {
   "cell_type": "code",
   "execution_count": null,
   "metadata": {},
   "outputs": [],
   "source": []
  },
  {
   "cell_type": "code",
   "execution_count": 9,
   "metadata": {},
   "outputs": [],
   "source": [
    "df2.to_csv(\"../Data/Merged_Data.csv\", index = False)"
   ]
  },
  {
   "cell_type": "code",
   "execution_count": 1,
   "metadata": {},
   "outputs": [],
   "source": [
    "import os\n",
    "import pandas as pd #'1.0.4'"
   ]
  },
  {
   "cell_type": "code",
   "execution_count": 2,
   "metadata": {},
   "outputs": [],
   "source": [
    "d = []\n",
    "for i, filename in enumerate(os.listdir('../Data/test/')):\n",
    "    #print(filename)\n",
    "    d.append(filename)\n",
    "    with open('../Data/test/' +filename, 'rb') as imageFile:\n",
    "        if not imageFile.read().startswith(b'\\xff\\xd8'):\n",
    "            print(f\"{i}: {filename} - found!\")\n",
    "            #print(imageFile.read())\n",
    "            #print(1)\n",
    "df = pd.DataFrame(d,columns=['SourceFile'])\n"
   ]
  },
  {
   "cell_type": "code",
   "execution_count": 29,
   "metadata": {},
   "outputs": [
    {
     "name": "stdout",
     "output_type": "stream",
     "text": [
      "0: 54_HH_17_5_18+101RECNX+IMG_0652.JPG - found!\n",
      "0: 54_HH_17_5_18+101RECNX+IMG_0652.JPG - found!\n",
      "1: 43_HH_25_06_18+DCIM+100_BTCF+IMG_8560.JPG - found!\n",
      "1: 43_HH_25_06_18+DCIM+100_BTCF+IMG_8560.JPG - found!\n",
      "2: 137_HH_17_5_18_T+102RECNX+IMG_1034.JPG - found!\n",
      "2: 137_HH_17_5_18_T+102RECNX+IMG_1034.JPG - found!\n",
      "3: IMG_0722.JPG - found!\n",
      "3: IMG_0722.JPG - found!\n",
      "4: 5_HH_23_4_18_DCIM+100RECNX+IMG_2415.JPG - found!\n",
      "4: 5_HH_23_4_18_DCIM+100RECNX+IMG_2415.JPG - found!\n"
     ]
    }
   ],
   "source": [
    "d = []\n",
    "for i, filename in enumerate(os.listdir('../Data/test/')):\n",
    "    #print(filename)\n",
    "    d.append(filename)\n",
    "    with open('../Data/test/' +filename, 'rb') as imageFile:\n",
    "        if imageFile.read().startswith(b'\\xff\\xd8'):\n",
    "            print(f\"{i}: {filename} - found!\")\n",
    "        imageFile.seek(-2, 2)\n",
    "        if imageFile.read() == b'\\xff\\xd9':\n",
    "            print(f\"{i}: {filename} - found!\")\n",
    "        #print(str(imageFile.read()[-3:]))\n",
    "df = pd.DataFrame(d,columns=['SourceFile'])"
   ]
  },
  {
   "cell_type": "code",
   "execution_count": null,
   "metadata": {},
   "outputs": [],
   "source": [
    "        f.seek(-2, 2)\n",
    "        buf = f.read()\n",
    "        return buf == b'\\xff\\xd9'"
   ]
  },
  {
   "cell_type": "code",
   "execution_count": 36,
   "metadata": {},
   "outputs": [],
   "source": [
    "a = 3 + 6j\n",
    "b = 2 + 3j\n",
    "c = 1j"
   ]
  },
  {
   "cell_type": "code",
   "execution_count": 39,
   "metadata": {},
   "outputs": [
    {
     "data": {
      "text/plain": [
       "(-1+0j)"
      ]
     },
     "execution_count": 39,
     "metadata": {},
     "output_type": "execute_result"
    }
   ],
   "source": []
  }
 ],
 "metadata": {
  "kernelspec": {
   "display_name": "Python 3",
   "language": "python",
   "name": "python3"
  },
  "language_info": {
   "codemirror_mode": {
    "name": "ipython",
    "version": 3
   },
   "file_extension": ".py",
   "mimetype": "text/x-python",
   "name": "python",
   "nbconvert_exporter": "python",
   "pygments_lexer": "ipython3",
   "version": "3.7.3"
  }
 },
 "nbformat": 4,
 "nbformat_minor": 2
}
