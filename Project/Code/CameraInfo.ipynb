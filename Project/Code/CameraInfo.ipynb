{
 "cells": [
  {
   "cell_type": "code",
   "execution_count": 1,
   "metadata": {},
   "outputs": [],
   "source": [
    "import sys\n",
    "import pandas as pd #'1.0.4'\n",
    "import numpy as np\n",
    "import re"
   ]
  },
  {
   "cell_type": "code",
   "execution_count": 2,
   "metadata": {},
   "outputs": [],
   "source": [
    "#d = pd.read_csv(\"../Data/Final_Data.csv\")"
   ]
  },
  {
   "cell_type": "code",
   "execution_count": 3,
   "metadata": {
    "scrolled": true
   },
   "outputs": [],
   "source": [
    "#d.head()"
   ]
  },
  {
   "cell_type": "code",
   "execution_count": 4,
   "metadata": {},
   "outputs": [],
   "source": [
    "#df = pd.read_csv(\"../Data/1_HH_23_4_18_DCIM/all.csv\")"
   ]
  },
  {
   "cell_type": "code",
   "execution_count": 5,
   "metadata": {
    "scrolled": true
   },
   "outputs": [],
   "source": [
    "#df = df.sort_values('FileName')\n",
    "#df.head()"
   ]
  },
  {
   "cell_type": "code",
   "execution_count": 6,
   "metadata": {},
   "outputs": [],
   "source": [
    "d = pd.read_csv(\"../Data/Camera.csv\")"
   ]
  },
  {
   "cell_type": "code",
   "execution_count": 7,
   "metadata": {},
   "outputs": [],
   "source": [
    "d.SourceFile = d.SourceFile.str.extract(r'(\\d+_.*)')"
   ]
  },
  {
   "cell_type": "code",
   "execution_count": 8,
   "metadata": {},
   "outputs": [
    {
     "data": {
      "text/plain": [
       "418745"
      ]
     },
     "execution_count": 8,
     "metadata": {},
     "output_type": "execute_result"
    }
   ],
   "source": [
    "len(d)\n",
    "#d.head()"
   ]
  },
  {
   "cell_type": "code",
   "execution_count": 9,
   "metadata": {
    "scrolled": true
   },
   "outputs": [],
   "source": [
    "df = pd.read_csv(\"../Data/Merged_Data.csv\")"
   ]
  },
  {
   "cell_type": "code",
   "execution_count": 10,
   "metadata": {
    "scrolled": true
   },
   "outputs": [
    {
     "data": {
      "text/html": [
       "<div>\n",
       "<style scoped>\n",
       "    .dataframe tbody tr th:only-of-type {\n",
       "        vertical-align: middle;\n",
       "    }\n",
       "\n",
       "    .dataframe tbody tr th {\n",
       "        vertical-align: top;\n",
       "    }\n",
       "\n",
       "    .dataframe thead th {\n",
       "        text-align: right;\n",
       "    }\n",
       "</style>\n",
       "<table border=\"1\" class=\"dataframe\">\n",
       "  <thead>\n",
       "    <tr style=\"text-align: right;\">\n",
       "      <th></th>\n",
       "      <th>SourceFile</th>\n",
       "      <th>CreateDate</th>\n",
       "      <th>Keywords</th>\n",
       "    </tr>\n",
       "  </thead>\n",
       "  <tbody>\n",
       "    <tr>\n",
       "      <th>0</th>\n",
       "      <td>100_HH_11_5_18100_BTCF_T/IMG_0001.JPG</td>\n",
       "      <td>2018:05:03  15:22:40</td>\n",
       "      <td>placeID: 100</td>\n",
       "    </tr>\n",
       "    <tr>\n",
       "      <th>1</th>\n",
       "      <td>100_HH_11_5_18100_BTCF_T/IMG_0002.JPG</td>\n",
       "      <td>2018:05:03  15:22:44</td>\n",
       "      <td>placeID: 100</td>\n",
       "    </tr>\n",
       "    <tr>\n",
       "      <th>2</th>\n",
       "      <td>100_HH_11_5_18100_BTCF_T/IMG_0003.JPG</td>\n",
       "      <td>2018:05:03  15:22:45</td>\n",
       "      <td>placeID: 100</td>\n",
       "    </tr>\n",
       "    <tr>\n",
       "      <th>3</th>\n",
       "      <td>100_HH_11_5_18100_BTCF_T/IMG_0004.JPG</td>\n",
       "      <td>2018:05:03  15:22:46</td>\n",
       "      <td>placeID: 100</td>\n",
       "    </tr>\n",
       "    <tr>\n",
       "      <th>4</th>\n",
       "      <td>100_HH_11_5_18100_BTCF_T/IMG_0005.JPG</td>\n",
       "      <td>2018:05:03  15:22:46</td>\n",
       "      <td>placeID: 100</td>\n",
       "    </tr>\n",
       "  </tbody>\n",
       "</table>\n",
       "</div>"
      ],
      "text/plain": [
       "                              SourceFile            CreateDate      Keywords\n",
       "0  100_HH_11_5_18100_BTCF_T/IMG_0001.JPG  2018:05:03  15:22:40  placeID: 100\n",
       "1  100_HH_11_5_18100_BTCF_T/IMG_0002.JPG  2018:05:03  15:22:44  placeID: 100\n",
       "2  100_HH_11_5_18100_BTCF_T/IMG_0003.JPG  2018:05:03  15:22:45  placeID: 100\n",
       "3  100_HH_11_5_18100_BTCF_T/IMG_0004.JPG  2018:05:03  15:22:46  placeID: 100\n",
       "4  100_HH_11_5_18100_BTCF_T/IMG_0005.JPG  2018:05:03  15:22:46  placeID: 100"
      ]
     },
     "execution_count": 10,
     "metadata": {},
     "output_type": "execute_result"
    }
   ],
   "source": [
    "df.head()\n",
    "#len(df)"
   ]
  },
  {
   "cell_type": "code",
   "execution_count": 11,
   "metadata": {},
   "outputs": [],
   "source": [
    "df2 = pd.merge(df, d, on = \"SourceFile\")"
   ]
  },
  {
   "cell_type": "code",
   "execution_count": 12,
   "metadata": {
    "scrolled": false
   },
   "outputs": [
    {
     "data": {
      "text/html": [
       "<div>\n",
       "<style scoped>\n",
       "    .dataframe tbody tr th:only-of-type {\n",
       "        vertical-align: middle;\n",
       "    }\n",
       "\n",
       "    .dataframe tbody tr th {\n",
       "        vertical-align: top;\n",
       "    }\n",
       "\n",
       "    .dataframe thead th {\n",
       "        text-align: right;\n",
       "    }\n",
       "</style>\n",
       "<table border=\"1\" class=\"dataframe\">\n",
       "  <thead>\n",
       "    <tr style=\"text-align: right;\">\n",
       "      <th></th>\n",
       "      <th>SourceFile</th>\n",
       "      <th>CreateDate</th>\n",
       "      <th>Keywords</th>\n",
       "      <th>Make</th>\n",
       "      <th>Model</th>\n",
       "      <th>Sequence</th>\n",
       "    </tr>\n",
       "  </thead>\n",
       "  <tbody>\n",
       "    <tr>\n",
       "      <th>0</th>\n",
       "      <td>100_HH_11_5_18100_BTCF_T/IMG_0001.JPG</td>\n",
       "      <td>2018:05:03  15:22:40</td>\n",
       "      <td>placeID: 100</td>\n",
       "      <td>Prometheus</td>\n",
       "      <td>BTC5HDP</td>\n",
       "      <td>NaN</td>\n",
       "    </tr>\n",
       "    <tr>\n",
       "      <th>1</th>\n",
       "      <td>100_HH_11_5_18100_BTCF_T/IMG_0002.JPG</td>\n",
       "      <td>2018:05:03  15:22:44</td>\n",
       "      <td>placeID: 100</td>\n",
       "      <td>Prometheus</td>\n",
       "      <td>BTC5HDP</td>\n",
       "      <td>NaN</td>\n",
       "    </tr>\n",
       "    <tr>\n",
       "      <th>2</th>\n",
       "      <td>100_HH_11_5_18100_BTCF_T/IMG_0003.JPG</td>\n",
       "      <td>2018:05:03  15:22:45</td>\n",
       "      <td>placeID: 100</td>\n",
       "      <td>Prometheus</td>\n",
       "      <td>BTC5HDP</td>\n",
       "      <td>NaN</td>\n",
       "    </tr>\n",
       "    <tr>\n",
       "      <th>3</th>\n",
       "      <td>100_HH_11_5_18100_BTCF_T/IMG_0004.JPG</td>\n",
       "      <td>2018:05:03  15:22:46</td>\n",
       "      <td>placeID: 100</td>\n",
       "      <td>Prometheus</td>\n",
       "      <td>BTC5HDP</td>\n",
       "      <td>NaN</td>\n",
       "    </tr>\n",
       "    <tr>\n",
       "      <th>4</th>\n",
       "      <td>100_HH_11_5_18100_BTCF_T/IMG_0005.JPG</td>\n",
       "      <td>2018:05:03  15:22:46</td>\n",
       "      <td>placeID: 100</td>\n",
       "      <td>Prometheus</td>\n",
       "      <td>BTC5HDP</td>\n",
       "      <td>NaN</td>\n",
       "    </tr>\n",
       "  </tbody>\n",
       "</table>\n",
       "</div>"
      ],
      "text/plain": [
       "                              SourceFile            CreateDate      Keywords  \\\n",
       "0  100_HH_11_5_18100_BTCF_T/IMG_0001.JPG  2018:05:03  15:22:40  placeID: 100   \n",
       "1  100_HH_11_5_18100_BTCF_T/IMG_0002.JPG  2018:05:03  15:22:44  placeID: 100   \n",
       "2  100_HH_11_5_18100_BTCF_T/IMG_0003.JPG  2018:05:03  15:22:45  placeID: 100   \n",
       "3  100_HH_11_5_18100_BTCF_T/IMG_0004.JPG  2018:05:03  15:22:46  placeID: 100   \n",
       "4  100_HH_11_5_18100_BTCF_T/IMG_0005.JPG  2018:05:03  15:22:46  placeID: 100   \n",
       "\n",
       "         Make    Model Sequence  \n",
       "0  Prometheus  BTC5HDP      NaN  \n",
       "1  Prometheus  BTC5HDP      NaN  \n",
       "2  Prometheus  BTC5HDP      NaN  \n",
       "3  Prometheus  BTC5HDP      NaN  \n",
       "4  Prometheus  BTC5HDP      NaN  "
      ]
     },
     "execution_count": 12,
     "metadata": {},
     "output_type": "execute_result"
    }
   ],
   "source": [
    "df2.head()"
   ]
  },
  {
   "cell_type": "code",
   "execution_count": 13,
   "metadata": {},
   "outputs": [],
   "source": [
    "#df.CreateDate"
   ]
  },
  {
   "cell_type": "code",
   "execution_count": 14,
   "metadata": {},
   "outputs": [],
   "source": [
    "df2.to_csv(\"../Data/Merged_Data.csv\", index = False)"
   ]
  },
  {
   "cell_type": "code",
   "execution_count": 15,
   "metadata": {},
   "outputs": [
    {
     "data": {
      "text/plain": [
       "<bound method DataFrame.merge of                                  SourceFile        Make            Model  \\\n",
       "0       116_HH_1_6_18/100_BTCF/IMG_0738.JPG  Prometheus          BTC5HDP   \n",
       "1       116_HH_1_6_18/100_BTCF/IMG_0461.JPG  Prometheus          BTC5HDP   \n",
       "2       116_HH_1_6_18/100_BTCF/IMG_0091.JPG  Prometheus          BTC5HDP   \n",
       "3       116_HH_1_6_18/100_BTCF/IMG_0397.JPG  Prometheus          BTC5HDP   \n",
       "4       116_HH_1_6_18/100_BTCF/IMG_0060.JPG  Prometheus          BTC5HDP   \n",
       "...                                     ...         ...              ...   \n",
       "418740  40_HH_17_5_18/100RECNX/IMG_0040.JPG     RECONYX  HC500 HYPERFIRE   \n",
       "418741  40_HH_17_5_18/100RECNX/IMG_0491.JPG     RECONYX  HC500 HYPERFIRE   \n",
       "418742  40_HH_17_5_18/100RECNX/IMG_0293.JPG     RECONYX  HC500 HYPERFIRE   \n",
       "418743  40_HH_17_5_18/100RECNX/IMG_0596.JPG     RECONYX  HC500 HYPERFIRE   \n",
       "418744  40_HH_17_5_18/100RECNX/IMG_0163.JPG     RECONYX  HC500 HYPERFIRE   \n",
       "\n",
       "        Sequence  \n",
       "0            NaN  \n",
       "1            NaN  \n",
       "2            NaN  \n",
       "3            NaN  \n",
       "4            NaN  \n",
       "...          ...  \n",
       "418740  10 of 10  \n",
       "418741   1 of 10  \n",
       "418742   3 of 10  \n",
       "418743   6 of 10  \n",
       "418744   3 of 10  \n",
       "\n",
       "[418745 rows x 4 columns]>"
      ]
     },
     "execution_count": 15,
     "metadata": {},
     "output_type": "execute_result"
    }
   ],
   "source": [
    "d.merge"
   ]
  }
 ],
 "metadata": {
  "kernelspec": {
   "display_name": "Python 3",
   "language": "python",
   "name": "python3"
  },
  "language_info": {
   "codemirror_mode": {
    "name": "ipython",
    "version": 3
   },
   "file_extension": ".py",
   "mimetype": "text/x-python",
   "name": "python",
   "nbconvert_exporter": "python",
   "pygments_lexer": "ipython3",
   "version": "3.7.3"
  }
 },
 "nbformat": 4,
 "nbformat_minor": 2
}
