{
 "cells": [
  {
   "cell_type": "code",
   "execution_count": 1,
   "metadata": {},
   "outputs": [],
   "source": [
    "import sys\n",
    "import pandas as pd #'1.0.4'\n",
    "import scipy as sc\n",
    "import numpy as np\n",
    "import scipy.integrate as integrate\n",
    "import matplotlib.pylab as pl\n",
    "import re"
   ]
  },
  {
   "cell_type": "code",
   "execution_count": 2,
   "metadata": {
    "scrolled": true
   },
   "outputs": [
    {
     "name": "stderr",
     "output_type": "stream",
     "text": [
      "/home/xiang/anaconda3/lib/python3.7/site-packages/IPython/core/interactiveshell.py:3049: DtypeWarning: Columns (14,16) have mixed types.Specify dtype option on import or set low_memory=False.\n",
      "  interactivity=interactivity, compiler=compiler, result=result)\n"
     ]
    }
   ],
   "source": [
    "cali = pd.read_csv(\"../Data/Cali_Simp.csv\")\n",
    "d = pd.read_csv(\"../Data/Final_Data.csv\")"
   ]
  },
  {
   "cell_type": "code",
   "execution_count": 3,
   "metadata": {},
   "outputs": [
    {
     "data": {
      "text/html": [
       "<div>\n",
       "<style scoped>\n",
       "    .dataframe tbody tr th:only-of-type {\n",
       "        vertical-align: middle;\n",
       "    }\n",
       "\n",
       "    .dataframe tbody tr th {\n",
       "        vertical-align: top;\n",
       "    }\n",
       "\n",
       "    .dataframe thead th {\n",
       "        text-align: right;\n",
       "    }\n",
       "</style>\n",
       "<table border=\"1\" class=\"dataframe\">\n",
       "  <thead>\n",
       "    <tr style=\"text-align: right;\">\n",
       "      <th></th>\n",
       "      <th>Folder</th>\n",
       "      <th>h</th>\n",
       "      <th>ImageID</th>\n",
       "      <th>SourceFile</th>\n",
       "      <th>CreateDate</th>\n",
       "      <th>Keywords</th>\n",
       "      <th>Make</th>\n",
       "      <th>Model</th>\n",
       "      <th>Sequence</th>\n",
       "      <th>placeID</th>\n",
       "      <th>contact</th>\n",
       "      <th>species1</th>\n",
       "      <th>species2</th>\n",
       "      <th>contact.3</th>\n",
       "      <th>species3</th>\n",
       "      <th>Human.Presence</th>\n",
       "      <th>Sp</th>\n",
       "    </tr>\n",
       "  </thead>\n",
       "  <tbody>\n",
       "    <tr>\n",
       "      <th>0</th>\n",
       "      <td>100_HH_11_5_18100_BTCF_T/</td>\n",
       "      <td>15.0</td>\n",
       "      <td>1</td>\n",
       "      <td>100_HH_11_5_18100_BTCF_T/IMG_0001.JPG</td>\n",
       "      <td>2018:05:03  15:22:40</td>\n",
       "      <td>placeID: 100</td>\n",
       "      <td>Prometheus</td>\n",
       "      <td>BTC5HDP</td>\n",
       "      <td>NaN</td>\n",
       "      <td>100</td>\n",
       "      <td>NaN</td>\n",
       "      <td>NaN</td>\n",
       "      <td>NaN</td>\n",
       "      <td>NaN</td>\n",
       "      <td>NaN</td>\n",
       "      <td>NaN</td>\n",
       "      <td>NaN</td>\n",
       "    </tr>\n",
       "    <tr>\n",
       "      <th>1</th>\n",
       "      <td>100_HH_11_5_18100_BTCF_T/</td>\n",
       "      <td>15.0</td>\n",
       "      <td>2</td>\n",
       "      <td>100_HH_11_5_18100_BTCF_T/IMG_0002.JPG</td>\n",
       "      <td>2018:05:03  15:22:44</td>\n",
       "      <td>placeID: 100</td>\n",
       "      <td>Prometheus</td>\n",
       "      <td>BTC5HDP</td>\n",
       "      <td>NaN</td>\n",
       "      <td>100</td>\n",
       "      <td>NaN</td>\n",
       "      <td>NaN</td>\n",
       "      <td>NaN</td>\n",
       "      <td>NaN</td>\n",
       "      <td>NaN</td>\n",
       "      <td>NaN</td>\n",
       "      <td>NaN</td>\n",
       "    </tr>\n",
       "    <tr>\n",
       "      <th>2</th>\n",
       "      <td>100_HH_11_5_18100_BTCF_T/</td>\n",
       "      <td>15.0</td>\n",
       "      <td>3</td>\n",
       "      <td>100_HH_11_5_18100_BTCF_T/IMG_0003.JPG</td>\n",
       "      <td>2018:05:03  15:22:45</td>\n",
       "      <td>placeID: 100</td>\n",
       "      <td>Prometheus</td>\n",
       "      <td>BTC5HDP</td>\n",
       "      <td>NaN</td>\n",
       "      <td>100</td>\n",
       "      <td>NaN</td>\n",
       "      <td>NaN</td>\n",
       "      <td>NaN</td>\n",
       "      <td>NaN</td>\n",
       "      <td>NaN</td>\n",
       "      <td>NaN</td>\n",
       "      <td>NaN</td>\n",
       "    </tr>\n",
       "    <tr>\n",
       "      <th>3</th>\n",
       "      <td>100_HH_11_5_18100_BTCF_T/</td>\n",
       "      <td>15.0</td>\n",
       "      <td>4</td>\n",
       "      <td>100_HH_11_5_18100_BTCF_T/IMG_0004.JPG</td>\n",
       "      <td>2018:05:03  15:22:46</td>\n",
       "      <td>placeID: 100</td>\n",
       "      <td>Prometheus</td>\n",
       "      <td>BTC5HDP</td>\n",
       "      <td>NaN</td>\n",
       "      <td>100</td>\n",
       "      <td>NaN</td>\n",
       "      <td>NaN</td>\n",
       "      <td>NaN</td>\n",
       "      <td>NaN</td>\n",
       "      <td>NaN</td>\n",
       "      <td>NaN</td>\n",
       "      <td>NaN</td>\n",
       "    </tr>\n",
       "    <tr>\n",
       "      <th>4</th>\n",
       "      <td>100_HH_11_5_18100_BTCF_T/</td>\n",
       "      <td>15.0</td>\n",
       "      <td>5</td>\n",
       "      <td>100_HH_11_5_18100_BTCF_T/IMG_0005.JPG</td>\n",
       "      <td>2018:05:03  15:22:46</td>\n",
       "      <td>placeID: 100</td>\n",
       "      <td>Prometheus</td>\n",
       "      <td>BTC5HDP</td>\n",
       "      <td>NaN</td>\n",
       "      <td>100</td>\n",
       "      <td>NaN</td>\n",
       "      <td>NaN</td>\n",
       "      <td>NaN</td>\n",
       "      <td>NaN</td>\n",
       "      <td>NaN</td>\n",
       "      <td>NaN</td>\n",
       "      <td>NaN</td>\n",
       "    </tr>\n",
       "  </tbody>\n",
       "</table>\n",
       "</div>"
      ],
      "text/plain": [
       "                      Folder     h  ImageID  \\\n",
       "0  100_HH_11_5_18100_BTCF_T/  15.0        1   \n",
       "1  100_HH_11_5_18100_BTCF_T/  15.0        2   \n",
       "2  100_HH_11_5_18100_BTCF_T/  15.0        3   \n",
       "3  100_HH_11_5_18100_BTCF_T/  15.0        4   \n",
       "4  100_HH_11_5_18100_BTCF_T/  15.0        5   \n",
       "\n",
       "                              SourceFile            CreateDate      Keywords  \\\n",
       "0  100_HH_11_5_18100_BTCF_T/IMG_0001.JPG  2018:05:03  15:22:40  placeID: 100   \n",
       "1  100_HH_11_5_18100_BTCF_T/IMG_0002.JPG  2018:05:03  15:22:44  placeID: 100   \n",
       "2  100_HH_11_5_18100_BTCF_T/IMG_0003.JPG  2018:05:03  15:22:45  placeID: 100   \n",
       "3  100_HH_11_5_18100_BTCF_T/IMG_0004.JPG  2018:05:03  15:22:46  placeID: 100   \n",
       "4  100_HH_11_5_18100_BTCF_T/IMG_0005.JPG  2018:05:03  15:22:46  placeID: 100   \n",
       "\n",
       "         Make    Model  Sequence  placeID  contact species1 species2  \\\n",
       "0  Prometheus  BTC5HDP       NaN      100      NaN      NaN      NaN   \n",
       "1  Prometheus  BTC5HDP       NaN      100      NaN      NaN      NaN   \n",
       "2  Prometheus  BTC5HDP       NaN      100      NaN      NaN      NaN   \n",
       "3  Prometheus  BTC5HDP       NaN      100      NaN      NaN      NaN   \n",
       "4  Prometheus  BTC5HDP       NaN      100      NaN      NaN      NaN   \n",
       "\n",
       "   contact.3 species3  Human.Presence   Sp  \n",
       "0        NaN      NaN             NaN  NaN  \n",
       "1        NaN      NaN             NaN  NaN  \n",
       "2        NaN      NaN             NaN  NaN  \n",
       "3        NaN      NaN             NaN  NaN  \n",
       "4        NaN      NaN             NaN  NaN  "
      ]
     },
     "execution_count": 3,
     "metadata": {},
     "output_type": "execute_result"
    }
   ],
   "source": [
    "d.head()"
   ]
  },
  {
   "cell_type": "code",
   "execution_count": 4,
   "metadata": {
    "scrolled": true
   },
   "outputs": [],
   "source": [
    "temp = d.loc[d.SourceFile.isin(cali.SourceFile),[\"SourceFile\", \"species1\", \"Human.Presence\", \"contact\", \"species2\", \"species3\", \"Sp\"]]"
   ]
  },
  {
   "cell_type": "code",
   "execution_count": 5,
   "metadata": {},
   "outputs": [
    {
     "data": {
      "text/plain": [
       "array([nan, 'Blackbird', 'Squirrel', 'Fox', 'Crow', 'Dog', 'Song Thrush',\n",
       "       'Human', 'Thrush', 'Magpie', 'Hedgehog', 'Other bird', 'Mouse',\n",
       "       'Wood Pigeon', 'Jay', 'Cat', 'Muntjac', 'Other mammal', 'Tit',\n",
       "       'Bird', 'Rat', 'Pigeon'], dtype=object)"
      ]
     },
     "execution_count": 5,
     "metadata": {},
     "output_type": "execute_result"
    }
   ],
   "source": [
    "temp[\"species1\"].unique()"
   ]
  },
  {
   "cell_type": "code",
   "execution_count": 6,
   "metadata": {},
   "outputs": [
    {
     "data": {
      "text/plain": [
       "array([nan, 'Squirrel', 'Human', 'Blackbird', 'Dog', 'Song Thrush',\n",
       "       'Other bird', 'Fox', 'Crow', 'Magpie', 'Wood Pigeon',\n",
       "       'Other mammal', 'Tit', 'Bird', 'Jay'], dtype=object)"
      ]
     },
     "execution_count": 6,
     "metadata": {},
     "output_type": "execute_result"
    }
   ],
   "source": [
    "temp[\"species2\"].unique()"
   ]
  },
  {
   "cell_type": "code",
   "execution_count": 7,
   "metadata": {
    "scrolled": true
   },
   "outputs": [
    {
     "data": {
      "text/plain": [
       "array([nan, 'Dog', 'Squirrel', 'Human', 'Wood Pigeon', 'Crow', 'Muntjac',\n",
       "       'Other mammal', 'Magpie', 'Tit', 'Bird', 'Blackbird',\n",
       "       'Song Thrush'], dtype=object)"
      ]
     },
     "execution_count": 7,
     "metadata": {},
     "output_type": "execute_result"
    }
   ],
   "source": [
    "temp[\"species3\"].unique()"
   ]
  },
  {
   "cell_type": "code",
   "execution_count": 8,
   "metadata": {
    "scrolled": true
   },
   "outputs": [
    {
     "data": {
      "text/plain": [
       "array([nan,  1.])"
      ]
     },
     "execution_count": 8,
     "metadata": {},
     "output_type": "execute_result"
    }
   ],
   "source": [
    "temp[\"Human.Presence\"].unique()"
   ]
  },
  {
   "cell_type": "code",
   "execution_count": 9,
   "metadata": {},
   "outputs": [
    {
     "data": {
      "text/plain": [
       "array([nan,  1.,  2.])"
      ]
     },
     "execution_count": 9,
     "metadata": {},
     "output_type": "execute_result"
    }
   ],
   "source": [
    "temp[\"contact\"].unique()"
   ]
  },
  {
   "cell_type": "code",
   "execution_count": 10,
   "metadata": {},
   "outputs": [
    {
     "data": {
      "text/plain": [
       "array([nan], dtype=object)"
      ]
     },
     "execution_count": 10,
     "metadata": {},
     "output_type": "execute_result"
    }
   ],
   "source": [
    "temp[\"Sp\"].unique()"
   ]
  },
  {
   "cell_type": "code",
   "execution_count": 11,
   "metadata": {},
   "outputs": [
    {
     "data": {
      "text/plain": [
       "SourceFile        54398\n",
       "species1          26458\n",
       "Human.Presence     1391\n",
       "contact            5386\n",
       "species2           5416\n",
       "species3           1478\n",
       "Sp                    0\n",
       "dtype: int64"
      ]
     },
     "execution_count": 11,
     "metadata": {},
     "output_type": "execute_result"
    }
   ],
   "source": [
    "temp.count()"
   ]
  },
  {
   "cell_type": "code",
   "execution_count": 12,
   "metadata": {
    "scrolled": true
   },
   "outputs": [
    {
     "data": {
      "text/plain": [
       "Human           8865\n",
       "Dog             5636\n",
       "Squirrel        5329\n",
       "Fox             1932\n",
       "Blackbird       1261\n",
       "Magpie          1008\n",
       "Wood Pigeon      938\n",
       "Hedgehog         482\n",
       "Song Thrush      304\n",
       "Tit              206\n",
       "Crow             167\n",
       "Other bird       109\n",
       "Mouse             68\n",
       "Thrush            62\n",
       "Jay               38\n",
       "Cat               19\n",
       "Muntjac           19\n",
       "Pigeon             6\n",
       "Rat                5\n",
       "Other mammal       3\n",
       "Bird               1\n",
       "Name: species1, dtype: int64"
      ]
     },
     "execution_count": 12,
     "metadata": {},
     "output_type": "execute_result"
    }
   ],
   "source": [
    "temp[\"species1\"].value_counts()"
   ]
  },
  {
   "cell_type": "code",
   "execution_count": 13,
   "metadata": {
    "scrolled": false
   },
   "outputs": [
    {
     "data": {
      "text/plain": [
       "1.0    1391\n",
       "Name: Human.Presence, dtype: int64"
      ]
     },
     "execution_count": 13,
     "metadata": {},
     "output_type": "execute_result"
    }
   ],
   "source": [
    "temp[\"Human.Presence\"].value_counts()"
   ]
  },
  {
   "cell_type": "code",
   "execution_count": 14,
   "metadata": {},
   "outputs": [
    {
     "data": {
      "text/plain": [
       "133"
      ]
     },
     "execution_count": 14,
     "metadata": {},
     "output_type": "execute_result"
    }
   ],
   "source": [
    "#59 human presence, 96 species1: human   both: 11\n",
    "85 + 48"
   ]
  },
  {
   "cell_type": "code",
   "execution_count": 15,
   "metadata": {
    "scrolled": true
   },
   "outputs": [],
   "source": [
    "hu = temp.loc[(temp[\"species1\"] == 'Human') | (temp[\"Human.Presence\"] == 1)]"
   ]
  },
  {
   "cell_type": "code",
   "execution_count": 16,
   "metadata": {},
   "outputs": [
    {
     "data": {
      "text/plain": [
       "SourceFile        9481\n",
       "species1          9013\n",
       "Human.Presence    1391\n",
       "contact           2030\n",
       "species2          2234\n",
       "species3           533\n",
       "Sp                   0\n",
       "dtype: int64"
      ]
     },
     "execution_count": 16,
     "metadata": {},
     "output_type": "execute_result"
    }
   ],
   "source": [
    "hu.count()"
   ]
  },
  {
   "cell_type": "code",
   "execution_count": 17,
   "metadata": {},
   "outputs": [],
   "source": [
    "notHu = temp.loc[(temp[\"species1\"] != 'Human') & (temp[\"Human.Presence\"] != 1)]"
   ]
  },
  {
   "cell_type": "code",
   "execution_count": 18,
   "metadata": {
    "scrolled": true
   },
   "outputs": [
    {
     "data": {
      "text/plain": [
       "SourceFile        44917\n",
       "species1          17445\n",
       "Human.Presence        0\n",
       "contact            3356\n",
       "species2           3182\n",
       "species3            945\n",
       "Sp                    0\n",
       "dtype: int64"
      ]
     },
     "execution_count": 18,
     "metadata": {},
     "output_type": "execute_result"
    }
   ],
   "source": [
    "notHu.count()"
   ]
  },
  {
   "cell_type": "code",
   "execution_count": 19,
   "metadata": {},
   "outputs": [],
   "source": [
    "notHu = notHu.head(9481)"
   ]
  },
  {
   "cell_type": "code",
   "execution_count": 20,
   "metadata": {
    "scrolled": true
   },
   "outputs": [],
   "source": [
    "#temp.SourceFile.str.replace(r\"\", r\"Human Presence: 1\")"
   ]
  },
  {
   "cell_type": "code",
   "execution_count": 21,
   "metadata": {
    "scrolled": true
   },
   "outputs": [
    {
     "data": {
      "text/plain": [
       "0    100_HH_11_5_18100_BTCF_T/IMG_0001.JPG\n",
       "1    100_HH_11_5_18100_BTCF_T/IMG_0002.JPG\n",
       "2    100_HH_11_5_18100_BTCF_T/IMG_0003.JPG\n",
       "3    100_HH_11_5_18100_BTCF_T/IMG_0004.JPG\n",
       "4    100_HH_11_5_18100_BTCF_T/IMG_0005.JPG\n",
       "Name: SourceFile, dtype: object"
      ]
     },
     "execution_count": 21,
     "metadata": {},
     "output_type": "execute_result"
    }
   ],
   "source": [
    "notHu.head()[\"SourceFile\"]"
   ]
  },
  {
   "cell_type": "code",
   "execution_count": 22,
   "metadata": {
    "scrolled": true
   },
   "outputs": [],
   "source": [
    "#cali.loc[cali[\"SourceFile\"] == \"33_HH_1_5_18_DCIM/101RECNX/IMG_0120.JPG\"] "
   ]
  },
  {
   "cell_type": "code",
   "execution_count": 23,
   "metadata": {
    "scrolled": true
   },
   "outputs": [],
   "source": [
    "hu.to_csv(\"../Data/SampleHu.csv\", index = False)"
   ]
  },
  {
   "cell_type": "code",
   "execution_count": 24,
   "metadata": {},
   "outputs": [],
   "source": [
    "notHu.to_csv(\"../Data/SampleNotHu.csv\", index = False)"
   ]
  },
  {
   "cell_type": "code",
   "execution_count": 25,
   "metadata": {},
   "outputs": [
    {
     "ename": "NameError",
     "evalue": "name 'jsonFiles' is not defined",
     "output_type": "error",
     "traceback": [
      "\u001b[0;31m---------------------------------------------------------------------------\u001b[0m",
      "\u001b[0;31mNameError\u001b[0m                                 Traceback (most recent call last)",
      "\u001b[0;32m<ipython-input-25-58d08902b14b>\u001b[0m in \u001b[0;36m<module>\u001b[0;34m\u001b[0m\n\u001b[0;32m----> 1\u001b[0;31m \u001b[0;32mfor\u001b[0m \u001b[0mj\u001b[0m \u001b[0;32min\u001b[0m \u001b[0mjsonFiles\u001b[0m\u001b[0;34m:\u001b[0m\u001b[0;34m\u001b[0m\u001b[0;34m\u001b[0m\u001b[0m\n\u001b[0m\u001b[1;32m      2\u001b[0m     \u001b[0;32mwith\u001b[0m \u001b[0mopen\u001b[0m\u001b[0;34m(\u001b[0m\u001b[0;34m\"../Data/COCO/\"\u001b[0m \u001b[0;34m+\u001b[0m \u001b[0mj\u001b[0m \u001b[0;34m)\u001b[0m \u001b[0;32mas\u001b[0m \u001b[0mf\u001b[0m\u001b[0;34m:\u001b[0m\u001b[0;34m\u001b[0m\u001b[0;34m\u001b[0m\u001b[0m\n\u001b[1;32m      3\u001b[0m         \u001b[0mdata\u001b[0m \u001b[0;34m=\u001b[0m \u001b[0mjson\u001b[0m\u001b[0;34m.\u001b[0m\u001b[0mload\u001b[0m\u001b[0;34m(\u001b[0m\u001b[0mf\u001b[0m\u001b[0;34m)\u001b[0m\u001b[0;34m\u001b[0m\u001b[0;34m\u001b[0m\u001b[0m\n\u001b[1;32m      4\u001b[0m     \u001b[0mname\u001b[0m \u001b[0;34m=\u001b[0m \u001b[0mj\u001b[0m\u001b[0;34m.\u001b[0m\u001b[0mreplace\u001b[0m\u001b[0;34m(\u001b[0m\u001b[0;34m\"+\"\u001b[0m\u001b[0;34m,\u001b[0m \u001b[0;34m\"/\"\u001b[0m\u001b[0;34m)\u001b[0m\u001b[0;34m.\u001b[0m\u001b[0mreplace\u001b[0m\u001b[0;34m(\u001b[0m\u001b[0;34m\"_keypoints.json\"\u001b[0m\u001b[0;34m,\u001b[0m \u001b[0;34m\".JPG\"\u001b[0m\u001b[0;34m)\u001b[0m\u001b[0;34m\u001b[0m\u001b[0;34m\u001b[0m\u001b[0m\n\u001b[1;32m      5\u001b[0m     \u001b[0;32mif\u001b[0m \u001b[0mname\u001b[0m \u001b[0;32min\u001b[0m \u001b[0mhu\u001b[0m\u001b[0;34m.\u001b[0m\u001b[0mSourceFile\u001b[0m\u001b[0;34m.\u001b[0m\u001b[0munique\u001b[0m\u001b[0;34m(\u001b[0m\u001b[0;34m)\u001b[0m\u001b[0;34m:\u001b[0m\u001b[0;31m#with human label\u001b[0m\u001b[0;34m\u001b[0m\u001b[0;34m\u001b[0m\u001b[0m\n",
      "\u001b[0;31mNameError\u001b[0m: name 'jsonFiles' is not defined"
     ]
    }
   ],
   "source": [
    "for j in jsonFiles:\n",
    "    with open(\"../Data/COCO/\" + j ) as f:\n",
    "        data = json.load(f)\n",
    "    name = j.replace(\"+\", \"/\").replace(\"_keypoints.json\", \".JPG\")\n",
    "    if name in hu.SourceFile.unique():#with human label\n",
    "        if len(data[\"people\"]) != 0:\n",
    "            #true positive\n",
    "            tp += 1\n",
    "        else:\n",
    "            #false negative\n",
    "            fn += 1\n",
    "    else:#without human label\n",
    "        if len(data[\"people\"]) == 0:\n",
    "            #true negative\n",
    "            tn += 1\n",
    "        else:\n",
    "            #false positive \n",
    "            fp += 1"
   ]
  },
  {
   "cell_type": "code",
   "execution_count": 29,
   "metadata": {
    "scrolled": true
   },
   "outputs": [
    {
     "data": {
      "text/html": [
       "<div>\n",
       "<style scoped>\n",
       "    .dataframe tbody tr th:only-of-type {\n",
       "        vertical-align: middle;\n",
       "    }\n",
       "\n",
       "    .dataframe tbody tr th {\n",
       "        vertical-align: top;\n",
       "    }\n",
       "\n",
       "    .dataframe thead th {\n",
       "        text-align: right;\n",
       "    }\n",
       "</style>\n",
       "<table border=\"1\" class=\"dataframe\">\n",
       "  <thead>\n",
       "    <tr style=\"text-align: right;\">\n",
       "      <th></th>\n",
       "      <th>SourceFile</th>\n",
       "      <th>placeID</th>\n",
       "      <th>ID</th>\n",
       "      <th>CreateDate</th>\n",
       "      <th>Keywords</th>\n",
       "    </tr>\n",
       "  </thead>\n",
       "  <tbody>\n",
       "    <tr>\n",
       "      <th>0</th>\n",
       "      <td>58_HH_2_5_18_BTCF/100_BTCF/IMG_0001.JPG</td>\n",
       "      <td>58</td>\n",
       "      <td>58</td>\n",
       "      <td>2018:04:19  13:09:46</td>\n",
       "      <td>placeID: 58</td>\n",
       "    </tr>\n",
       "    <tr>\n",
       "      <th>1</th>\n",
       "      <td>58_HH_2_5_18_BTCF/100_BTCF/IMG_0002.JPG</td>\n",
       "      <td>58</td>\n",
       "      <td>58</td>\n",
       "      <td>2018:04:19  13:09:47</td>\n",
       "      <td>placeID: 58</td>\n",
       "    </tr>\n",
       "    <tr>\n",
       "      <th>2</th>\n",
       "      <td>58_HH_2_5_18_BTCF/100_BTCF/IMG_0005.JPG</td>\n",
       "      <td>58</td>\n",
       "      <td>58</td>\n",
       "      <td>2018:04:19  13:09:48</td>\n",
       "      <td>placeID: 58</td>\n",
       "    </tr>\n",
       "    <tr>\n",
       "      <th>3</th>\n",
       "      <td>58_HH_2_5_18_BTCF/100_BTCF/IMG_0004.JPG</td>\n",
       "      <td>58</td>\n",
       "      <td>58</td>\n",
       "      <td>2018:04:19  13:09:48</td>\n",
       "      <td>placeID: 58</td>\n",
       "    </tr>\n",
       "    <tr>\n",
       "      <th>4</th>\n",
       "      <td>58_HH_2_5_18_BTCF/100_BTCF/IMG_0003.JPG</td>\n",
       "      <td>58</td>\n",
       "      <td>58</td>\n",
       "      <td>2018:04:19  13:09:48</td>\n",
       "      <td>placeID: 58</td>\n",
       "    </tr>\n",
       "    <tr>\n",
       "      <th>...</th>\n",
       "      <td>...</td>\n",
       "      <td>...</td>\n",
       "      <td>...</td>\n",
       "      <td>...</td>\n",
       "      <td>...</td>\n",
       "    </tr>\n",
       "    <tr>\n",
       "      <th>57629</th>\n",
       "      <td>77_HH_1_6_18_T/100_BTCF/IMG_1027.JPG</td>\n",
       "      <td>77</td>\n",
       "      <td>77</td>\n",
       "      <td>2018:05:31  12:31:38</td>\n",
       "      <td>placeID: 77</td>\n",
       "    </tr>\n",
       "    <tr>\n",
       "      <th>57630</th>\n",
       "      <td>77_HH_1_6_18_T/100_BTCF/IMG_1029.JPG</td>\n",
       "      <td>77</td>\n",
       "      <td>77</td>\n",
       "      <td>2018:05:31  12:31:39</td>\n",
       "      <td>placeID: 77</td>\n",
       "    </tr>\n",
       "    <tr>\n",
       "      <th>57631</th>\n",
       "      <td>77_HH_1_6_18_T/100_BTCF/IMG_1030.JPG</td>\n",
       "      <td>77</td>\n",
       "      <td>77</td>\n",
       "      <td>2018:05:31  12:31:40</td>\n",
       "      <td>placeID: 77</td>\n",
       "    </tr>\n",
       "    <tr>\n",
       "      <th>57632</th>\n",
       "      <td>77_HH_1_6_18_T/100_BTCF/IMG_1032.JPG</td>\n",
       "      <td>77</td>\n",
       "      <td>77</td>\n",
       "      <td>2018:05:31  12:31:41</td>\n",
       "      <td>placeID: 77</td>\n",
       "    </tr>\n",
       "    <tr>\n",
       "      <th>57633</th>\n",
       "      <td>77_HH_1_6_18_T/100_BTCF/IMG_1031.JPG</td>\n",
       "      <td>77</td>\n",
       "      <td>77</td>\n",
       "      <td>2018:05:31  12:31:41</td>\n",
       "      <td>placeID: 77</td>\n",
       "    </tr>\n",
       "  </tbody>\n",
       "</table>\n",
       "<p>57634 rows × 5 columns</p>\n",
       "</div>"
      ],
      "text/plain": [
       "                                    SourceFile placeID  ID  \\\n",
       "0      58_HH_2_5_18_BTCF/100_BTCF/IMG_0001.JPG      58  58   \n",
       "1      58_HH_2_5_18_BTCF/100_BTCF/IMG_0002.JPG      58  58   \n",
       "2      58_HH_2_5_18_BTCF/100_BTCF/IMG_0005.JPG      58  58   \n",
       "3      58_HH_2_5_18_BTCF/100_BTCF/IMG_0004.JPG      58  58   \n",
       "4      58_HH_2_5_18_BTCF/100_BTCF/IMG_0003.JPG      58  58   \n",
       "...                                        ...     ...  ..   \n",
       "57629     77_HH_1_6_18_T/100_BTCF/IMG_1027.JPG      77  77   \n",
       "57630     77_HH_1_6_18_T/100_BTCF/IMG_1029.JPG      77  77   \n",
       "57631     77_HH_1_6_18_T/100_BTCF/IMG_1030.JPG      77  77   \n",
       "57632     77_HH_1_6_18_T/100_BTCF/IMG_1032.JPG      77  77   \n",
       "57633     77_HH_1_6_18_T/100_BTCF/IMG_1031.JPG      77  77   \n",
       "\n",
       "                 CreateDate     Keywords  \n",
       "0      2018:04:19  13:09:46  placeID: 58  \n",
       "1      2018:04:19  13:09:47  placeID: 58  \n",
       "2      2018:04:19  13:09:48  placeID: 58  \n",
       "3      2018:04:19  13:09:48  placeID: 58  \n",
       "4      2018:04:19  13:09:48  placeID: 58  \n",
       "...                     ...          ...  \n",
       "57629  2018:05:31  12:31:38  placeID: 77  \n",
       "57630  2018:05:31  12:31:39  placeID: 77  \n",
       "57631  2018:05:31  12:31:40  placeID: 77  \n",
       "57632  2018:05:31  12:31:41  placeID: 77  \n",
       "57633  2018:05:31  12:31:41  placeID: 77  \n",
       "\n",
       "[57634 rows x 5 columns]"
      ]
     },
     "execution_count": 29,
     "metadata": {},
     "output_type": "execute_result"
    }
   ],
   "source": [
    "cali.insert(1, \"placeID\", cali.SourceFile.str.extract(r\"(\\d+)_\"))\n",
    "cali"
   ]
  },
  {
   "cell_type": "code",
   "execution_count": 31,
   "metadata": {},
   "outputs": [
    {
     "data": {
      "text/plain": [
       "27"
      ]
     },
     "execution_count": 31,
     "metadata": {},
     "output_type": "execute_result"
    }
   ],
   "source": [
    "len(cali[\"placeID\"].unique())"
   ]
  },
  {
   "cell_type": "code",
   "execution_count": 32,
   "metadata": {},
   "outputs": [
    {
     "data": {
      "text/plain": [
       "19"
      ]
     },
     "execution_count": 32,
     "metadata": {},
     "output_type": "execute_result"
    }
   ],
   "source": [
    "hu.insert(1, \"placeID\", hu.SourceFile.str.extract(r\"(\\d+)_\"))\n",
    "len(hu[\"placeID\"].unique())"
   ]
  }
 ],
 "metadata": {
  "kernelspec": {
   "display_name": "Python 3",
   "language": "python",
   "name": "python3"
  },
  "language_info": {
   "codemirror_mode": {
    "name": "ipython",
    "version": 3
   },
   "file_extension": ".py",
   "mimetype": "text/x-python",
   "name": "python",
   "nbconvert_exporter": "python",
   "pygments_lexer": "ipython3",
   "version": "3.7.3"
  }
 },
 "nbformat": 4,
 "nbformat_minor": 2
}
